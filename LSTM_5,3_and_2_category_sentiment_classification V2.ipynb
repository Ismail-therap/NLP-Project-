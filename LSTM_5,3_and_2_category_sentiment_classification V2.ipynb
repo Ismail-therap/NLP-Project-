{
 "cells": [
  {
   "cell_type": "markdown",
   "metadata": {
    "colab_type": "text",
    "id": "view-in-github"
   },
   "source": [
    "<a href=\"https://colab.research.google.com/github/Ismail-therap/NLP-Project-Predicting-review-in-1-to-5-star-/blob/main/LSTM_5%2C3_and_2_category_sentiment_classification%20V2.ipynb\" target=\"_parent\"><img src=\"https://colab.research.google.com/assets/colab-badge.svg\" alt=\"Open In Colab\"/></a>"
   ]
  },
  {
   "cell_type": "markdown",
   "metadata": {
    "id": "mAFswQhaQgs2"
   },
   "source": [
    "# LSTM"
   ]
  },
  {
   "cell_type": "markdown",
   "metadata": {
    "id": "U5atMsTLzX0N"
   },
   "source": [
    "# Required libraries"
   ]
  },
  {
   "cell_type": "code",
   "execution_count": 22,
   "metadata": {
    "id": "KlfVXrnJmUUW"
   },
   "outputs": [
    {
     "name": "stdout",
     "output_type": "stream",
     "text": [
      "Defaulting to user installation because normal site-packages is not writeable\n",
      "Requirement already satisfied: nltk in ./.local/lib/python3.6/site-packages (3.6.7)\n",
      "Requirement already satisfied: joblib in /usr/local/lib/python3.6/dist-packages (from nltk) (0.14.0)\n",
      "Requirement already satisfied: regex>=2021.8.3 in ./.local/lib/python3.6/site-packages (from nltk) (2022.4.24)\n",
      "Requirement already satisfied: click in /usr/lib/python3/dist-packages (from nltk) (6.7)\n",
      "Requirement already satisfied: tqdm in /usr/local/lib/python3.6/dist-packages (from nltk) (4.37.0)\n",
      "\u001b[33mWARNING: You are using pip version 21.0.1; however, version 21.3.1 is available.\n",
      "You should consider upgrading via the '/usr/bin/python3 -m pip install --upgrade pip' command.\u001b[0m\n",
      "Defaulting to user installation because normal site-packages is not writeable\n",
      "Requirement already satisfied: tensorflow in ./.local/lib/python3.6/site-packages (2.6.2)\n",
      "Requirement already satisfied: absl-py~=0.10 in ./.local/lib/python3.6/site-packages (from tensorflow) (0.15.0)\n",
      "Requirement already satisfied: h5py~=3.1.0 in ./.local/lib/python3.6/site-packages (from tensorflow) (3.1.0)\n",
      "Requirement already satisfied: six~=1.15.0 in ./.local/lib/python3.6/site-packages (from tensorflow) (1.15.0)\n",
      "Requirement already satisfied: termcolor~=1.1.0 in /usr/local/lib/python3.6/dist-packages (from tensorflow) (1.1.0)\n",
      "Requirement already satisfied: grpcio<2.0,>=1.37.0 in ./.local/lib/python3.6/site-packages (from tensorflow) (1.44.0)\n",
      "Requirement already satisfied: protobuf>=3.9.2 in /usr/local/lib/python3.6/dist-packages (from tensorflow) (3.10.0)\n",
      "Requirement already satisfied: google-pasta~=0.2 in ./.local/lib/python3.6/site-packages (from tensorflow) (0.2.0)\n",
      "Requirement already satisfied: keras-preprocessing~=1.1.2 in ./.local/lib/python3.6/site-packages (from tensorflow) (1.1.2)\n",
      "Requirement already satisfied: tensorboard<2.7,>=2.6.0 in ./.local/lib/python3.6/site-packages (from tensorflow) (2.6.0)\n",
      "Requirement already satisfied: keras<2.7,>=2.6.0 in ./.local/lib/python3.6/site-packages (from tensorflow) (2.6.0)\n",
      "Requirement already satisfied: numpy~=1.19.2 in /usr/local/lib/python3.6/dist-packages (from tensorflow) (1.19.5)\n",
      "Requirement already satisfied: clang~=5.0 in ./.local/lib/python3.6/site-packages (from tensorflow) (5.0)\n",
      "Requirement already satisfied: tensorflow-estimator<2.7,>=2.6.0 in ./.local/lib/python3.6/site-packages (from tensorflow) (2.6.0)\n",
      "Requirement already satisfied: astunparse~=1.6.3 in ./.local/lib/python3.6/site-packages (from tensorflow) (1.6.3)\n",
      "Requirement already satisfied: wrapt~=1.12.1 in ./.local/lib/python3.6/site-packages (from tensorflow) (1.12.1)\n",
      "Requirement already satisfied: gast==0.4.0 in ./.local/lib/python3.6/site-packages (from tensorflow) (0.4.0)\n",
      "Requirement already satisfied: typing-extensions~=3.7.4 in ./.local/lib/python3.6/site-packages (from tensorflow) (3.7.4.3)\n",
      "Requirement already satisfied: opt-einsum~=3.3.0 in ./.local/lib/python3.6/site-packages (from tensorflow) (3.3.0)\n",
      "Requirement already satisfied: flatbuffers~=1.12.0 in ./.local/lib/python3.6/site-packages (from tensorflow) (1.12)\n",
      "Requirement already satisfied: wheel~=0.35 in ./.local/lib/python3.6/site-packages (from tensorflow) (0.37.1)\n",
      "Requirement already satisfied: cached-property in ./.local/lib/python3.6/site-packages (from h5py~=3.1.0->tensorflow) (1.5.2)\n",
      "Requirement already satisfied: setuptools in /usr/local/lib/python3.6/dist-packages (from protobuf>=3.9.2->tensorflow) (41.6.0)\n",
      "Requirement already satisfied: google-auth<2,>=1.6.3 in /usr/local/lib/python3.6/dist-packages (from tensorboard<2.7,>=2.6.0->tensorflow) (1.7.1)\n",
      "Requirement already satisfied: tensorboard-plugin-wit>=1.6.0 in ./.local/lib/python3.6/site-packages (from tensorboard<2.7,>=2.6.0->tensorflow) (1.8.1)\n",
      "Requirement already satisfied: requests<3,>=2.21.0 in /usr/local/lib/python3.6/dist-packages (from tensorboard<2.7,>=2.6.0->tensorflow) (2.22.0)\n",
      "Requirement already satisfied: werkzeug>=0.11.15 in /usr/local/lib/python3.6/dist-packages (from tensorboard<2.7,>=2.6.0->tensorflow) (0.16.0)\n",
      "Requirement already satisfied: tensorboard-data-server<0.7.0,>=0.6.0 in ./.local/lib/python3.6/site-packages (from tensorboard<2.7,>=2.6.0->tensorflow) (0.6.1)\n",
      "Requirement already satisfied: google-auth-oauthlib<0.5,>=0.4.1 in /usr/local/lib/python3.6/dist-packages (from tensorboard<2.7,>=2.6.0->tensorflow) (0.4.1)\n",
      "Requirement already satisfied: markdown>=2.6.8 in /usr/local/lib/python3.6/dist-packages (from tensorboard<2.7,>=2.6.0->tensorflow) (3.1.1)\n",
      "Requirement already satisfied: rsa<4.1,>=3.1.4 in /usr/local/lib/python3.6/dist-packages (from google-auth<2,>=1.6.3->tensorboard<2.7,>=2.6.0->tensorflow) (4.0)\n",
      "Requirement already satisfied: cachetools<3.2,>=2.0.0 in /usr/local/lib/python3.6/dist-packages (from google-auth<2,>=1.6.3->tensorboard<2.7,>=2.6.0->tensorflow) (3.1.1)\n",
      "Requirement already satisfied: pyasn1-modules>=0.2.1 in /usr/lib/python3/dist-packages (from google-auth<2,>=1.6.3->tensorboard<2.7,>=2.6.0->tensorflow) (0.2.1)\n",
      "Requirement already satisfied: requests-oauthlib>=0.7.0 in /usr/local/lib/python3.6/dist-packages (from google-auth-oauthlib<0.5,>=0.4.1->tensorboard<2.7,>=2.6.0->tensorflow) (1.3.0)\n",
      "Requirement already satisfied: idna<2.9,>=2.5 in ./.local/lib/python3.6/site-packages (from requests<3,>=2.21.0->tensorboard<2.7,>=2.6.0->tensorflow) (2.8)\n",
      "Requirement already satisfied: chardet<3.1.0,>=3.0.2 in /usr/lib/python3/dist-packages (from requests<3,>=2.21.0->tensorboard<2.7,>=2.6.0->tensorflow) (3.0.4)\n",
      "Requirement already satisfied: urllib3!=1.25.0,!=1.25.1,<1.26,>=1.21.1 in /usr/lib/python3/dist-packages (from requests<3,>=2.21.0->tensorboard<2.7,>=2.6.0->tensorflow) (1.22)\n",
      "Requirement already satisfied: certifi>=2017.4.17 in /usr/lib/python3/dist-packages (from requests<3,>=2.21.0->tensorboard<2.7,>=2.6.0->tensorflow) (2018.1.18)\n",
      "Requirement already satisfied: oauthlib>=3.0.0 in /usr/local/lib/python3.6/dist-packages (from requests-oauthlib>=0.7.0->google-auth-oauthlib<0.5,>=0.4.1->tensorboard<2.7,>=2.6.0->tensorflow) (3.1.0)\n",
      "Requirement already satisfied: pyasn1>=0.1.3 in /usr/lib/python3/dist-packages (from rsa<4.1,>=3.1.4->google-auth<2,>=1.6.3->tensorboard<2.7,>=2.6.0->tensorflow) (0.4.2)\n",
      "\u001b[33mWARNING: You are using pip version 21.0.1; however, version 21.3.1 is available.\n",
      "You should consider upgrading via the '/usr/bin/python3 -m pip install --upgrade pip' command.\u001b[0m\n",
      "Defaulting to user installation because normal site-packages is not writeable\n",
      "Requirement already satisfied: textblob in ./.local/lib/python3.6/site-packages (0.17.1)\n",
      "Requirement already satisfied: nltk>=3.1 in ./.local/lib/python3.6/site-packages (from textblob) (3.6.7)\n",
      "Requirement already satisfied: joblib in /usr/local/lib/python3.6/dist-packages (from nltk>=3.1->textblob) (0.14.0)\n",
      "Requirement already satisfied: click in /usr/lib/python3/dist-packages (from nltk>=3.1->textblob) (6.7)\n",
      "Requirement already satisfied: tqdm in /usr/local/lib/python3.6/dist-packages (from nltk>=3.1->textblob) (4.37.0)\n",
      "Requirement already satisfied: regex>=2021.8.3 in ./.local/lib/python3.6/site-packages (from nltk>=3.1->textblob) (2022.4.24)\n",
      "\u001b[33mWARNING: You are using pip version 21.0.1; however, version 21.3.1 is available.\n",
      "You should consider upgrading via the '/usr/bin/python3 -m pip install --upgrade pip' command.\u001b[0m\n",
      "Defaulting to user installation because normal site-packages is not writeable\n",
      "Requirement already satisfied: wordcloud in ./.local/lib/python3.6/site-packages (1.8.1)\n",
      "Requirement already satisfied: numpy>=1.6.1 in /usr/local/lib/python3.6/dist-packages (from wordcloud) (1.19.5)\n",
      "Requirement already satisfied: matplotlib in /usr/local/lib/python3.6/dist-packages (from wordcloud) (3.0.3)\n",
      "Requirement already satisfied: pillow in /usr/local/lib/python3.6/dist-packages (from wordcloud) (8.3.1)\n",
      "Requirement already satisfied: python-dateutil>=2.1 in /usr/local/lib/python3.6/dist-packages (from matplotlib->wordcloud) (2.8.2)\n",
      "Requirement already satisfied: cycler>=0.10 in /usr/local/lib/python3.6/dist-packages (from matplotlib->wordcloud) (0.10.0)\n",
      "Requirement already satisfied: kiwisolver>=1.0.1 in /usr/local/lib/python3.6/dist-packages (from matplotlib->wordcloud) (1.0.1)\n",
      "Requirement already satisfied: pyparsing!=2.0.4,!=2.1.2,!=2.1.6,>=2.0.1 in /usr/local/lib/python3.6/dist-packages (from matplotlib->wordcloud) (2.4.7)\n",
      "Requirement already satisfied: six in ./.local/lib/python3.6/site-packages (from cycler>=0.10->matplotlib->wordcloud) (1.15.0)\n",
      "Requirement already satisfied: setuptools in /usr/local/lib/python3.6/dist-packages (from kiwisolver>=1.0.1->matplotlib->wordcloud) (41.6.0)\n",
      "\u001b[33mWARNING: You are using pip version 21.0.1; however, version 21.3.1 is available.\r\n",
      "You should consider upgrading via the '/usr/bin/python3 -m pip install --upgrade pip' command.\u001b[0m\r\n"
     ]
    }
   ],
   "source": [
    "# Importing required libraries\n",
    "!pip install nltk\n",
    "import nltk\n",
    "!pip install tensorflow\n",
    "import tensorflow as tf\n",
    "import pandas as pd\n",
    "from nltk.corpus import stopwords\n",
    "!pip install textblob\n",
    "from textblob import Word\n",
    "from sklearn.preprocessing import LabelEncoder\n",
    "from collections import Counter\n",
    "!pip install wordcloud\n",
    "import wordcloud\n",
    "from sklearn.metrics import classification_report,confusion_matrix,accuracy_score\n",
    "from keras.models import Sequential\n",
    "from keras.preprocessing.text import Tokenizer\n",
    "from keras.preprocessing.sequence import pad_sequences\n",
    "from keras.layers import Dense, Embedding, LSTM, SpatialDropout1D\n",
    "from sklearn.model_selection import train_test_split \n",
    "import matplotlib.pyplot as plt"
   ]
  },
  {
   "cell_type": "markdown",
   "metadata": {
    "id": "8Wje0XrWzcii"
   },
   "source": [
    "# Loading data"
   ]
  },
  {
   "cell_type": "code",
   "execution_count": 23,
   "metadata": {
    "id": "-qua1UsKP3XQ"
   },
   "outputs": [],
   "source": [
    "import pandas as pd\n",
    "\n",
    "url='https://drive.google.com/file/d/1-vBpWV0H0cxX5jSeHlQIKXIiosMKwq2t/view?usp=sharing'\n",
    "file_id=url.split('/')[-2]\n",
    "dwn_url='https://drive.google.com/uc?id=' + file_id\n",
    "df = pd.read_csv(dwn_url)\n",
    "\n",
    "#df.head()"
   ]
  },
  {
   "cell_type": "code",
   "execution_count": 24,
   "metadata": {
    "colab": {
     "base_uri": "https://localhost:8080/",
     "height": 265
    },
    "id": "Wps6M8iLQCBW",
    "outputId": "5d4fa421-2b61-4ee1-d19b-72cd834c8625"
   },
   "outputs": [
    {
     "data": {
      "image/png": "[encoded data removed]",
      "text/plain": [
       "<matplotlib.figure.Figure at 0x7f7cc24ad4e0>"
      ]
     },
     "metadata": {
      "needs_background": "light"
     },
     "output_type": "display_data"
    }
   ],
   "source": [
    "uniformed_review = df\n",
    "import numpy as np\n",
    "import matplotlib.pyplot as plt\n",
    "from matplotlib.ticker import PercentFormatter\n",
    "plt.hist(uniformed_review[\"review_stars\"],weights=np.ones(len(uniformed_review[\"review_stars\"])) / len(uniformed_review[\"review_stars\"]))\n",
    "plt.gca().yaxis.set_major_formatter(PercentFormatter(1))\n",
    "plt.show()"
   ]
  },
  {
   "cell_type": "markdown",
   "metadata": {
    "id": "8I7C6K0UyciL"
   },
   "source": [
    "# 5 CATEGORY Sentiment prediction\n",
    "\n",
    "```\n",
    "# This is formatted as code\n",
    "```\n",
    "\n"
   ]
  },
  {
   "cell_type": "code",
   "execution_count": 25,
   "metadata": {
    "colab": {
     "base_uri": "https://localhost:8080/"
    },
    "id": "Uvyk9huiypwt",
    "outputId": "6f212f50-c8e8-412d-ab16-706719b87b12"
   },
   "outputs": [
    {
     "data": {
      "text/plain": [
       "business_id      object\n",
       "name             object\n",
       "address          object\n",
       "city             object\n",
       "state            object\n",
       "postal_code      object\n",
       "latitude        float64\n",
       "longitude       float64\n",
       "stars           float64\n",
       "review_count      int64\n",
       "is_open           int64\n",
       "attributes       object\n",
       "categories       object\n",
       "hours            object\n",
       "user_id          object\n",
       "review_stars      int64\n",
       "text             object\n",
       "date             object\n",
       "dtype: object"
      ]
     },
     "execution_count": 25,
     "metadata": {},
     "output_type": "execute_result"
    }
   ],
   "source": [
    "uniformed_review.dtypes"
   ]
  },
  {
   "cell_type": "code",
   "execution_count": 26,
   "metadata": {
    "colab": {
     "base_uri": "https://localhost:8080/"
    },
    "id": "nNKBoN8ej-Uw",
    "outputId": "e854cf8d-364a-4150-93b2-d6519f5349c1"
   },
   "outputs": [
    {
     "data": {
      "text/plain": [
       "50000"
      ]
     },
     "execution_count": 26,
     "metadata": {},
     "output_type": "execute_result"
    }
   ],
   "source": [
    "len(uniformed_review)"
   ]
  },
  {
   "cell_type": "code",
   "execution_count": 27,
   "metadata": {
    "colab": {
     "base_uri": "https://localhost:8080/"
    },
    "id": "iYQPgb8RygDw",
    "outputId": "f7fb1db1-863d-4ab9-c36c-2307a5902065"
   },
   "outputs": [],
   "source": [
    "trunc = 10000\n",
    "\n",
    "## sampling neutral review:\n",
    "#reviews1 = uniformed_review[uniformed_review[\"review_stars\"] == 1]\n",
    "#reviews1 = reviews1.sample(n=trunc)\n",
    "\n",
    "## sampling negative review:\n",
    "#reviews2 = uniformed_review[uniformed_review[\"review_stars\"] == 2]\n",
    "#reviews2 = reviews2.sample(n=trunc)\n",
    "\n",
    "\n",
    "## sampling positive review:\n",
    "#reviews3 = uniformed_review[uniformed_review[\"review_stars\"] == 3]\n",
    "#reviews3 = reviews3.sample(n=trunc)\n",
    "\n",
    "## sampling positive review:\n",
    "#reviews4 = uniformed_review[uniformed_review[\"review_stars\"] == 4]\n",
    "#reviews4 = reviews4.sample(n=trunc)\n",
    "\n",
    "## sampling positive review:\n",
    "#reviews5 = uniformed_review[uniformed_review[\"review_stars\"] == 5]\n",
    "#reviews5 = reviews5.sample(n=trunc)\n",
    "\n",
    "#uniformed_review = reviews1.append([reviews2, reviews3,reviews4,reviews5])\n",
    "#uniformed_review.shape"
   ]
  },
  {
   "cell_type": "code",
   "execution_count": 28,
   "metadata": {
    "id": "KZJv5WqsygH_"
   },
   "outputs": [],
   "source": [
    "# Encoded the target column\n",
    "lb=LabelEncoder()\n",
    "uniformed_review['sentiment'] = lb.fit_transform(uniformed_review['review_stars'].values)\n",
    "\n",
    "tokenizer = Tokenizer(num_words=500, split=' ') \n",
    "tokenizer.fit_on_texts(uniformed_review['text'].values)\n",
    "X = tokenizer.texts_to_sequences(uniformed_review['text'].values)\n",
    "X = pad_sequences(X)\n",
    "\n",
    "#Splitting the data into training and testing\n",
    "y=pd.get_dummies(uniformed_review['review_stars'])\n",
    "X_train, X_test, y_train, y_test = train_test_split(X,y, test_size = 0.3, random_state = 42)"
   ]
  },
  {
   "cell_type": "code",
   "execution_count": 29,
   "metadata": {
    "colab": {
     "base_uri": "https://localhost:8080/"
    },
    "id": "fTJT4iNoygLG",
    "outputId": "501f56b5-9c15-4769-ed7e-8b5e712ccfda"
   },
   "outputs": [
    {
     "name": "stdout",
     "output_type": "stream",
     "text": [
      "Model: \"sequential_2\"\n",
      "_________________________________________________________________\n",
      "Layer (type)                 Output Shape              Param #   \n",
      "=================================================================\n",
      "embedding_2 (Embedding)      (None, 794, 120)          60000     \n",
      "_________________________________________________________________\n",
      "lstm_2 (LSTM)                (None, 128)               127488    \n",
      "_________________________________________________________________\n",
      "dense_2 (Dense)              (None, 5)                 645       \n",
      "=================================================================\n",
      "Total params: 188,133\n",
      "Trainable params: 188,133\n",
      "Non-trainable params: 0\n",
      "_________________________________________________________________\n",
      "None\n"
     ]
    }
   ],
   "source": [
    "model = Sequential()\n",
    "model.add(Embedding(500, 120, input_length = X.shape[1]))\n",
    "#model.add(SpatialDropout1D(0.4))\n",
    "model.add(LSTM(128))\n",
    "model.add(Dense(5,activation='softmax'))\n",
    "model.compile(loss = 'categorical_crossentropy', optimizer='adam', metrics = ['accuracy'])\n",
    "print(model.summary())"
   ]
  },
  {
   "cell_type": "code",
   "execution_count": 30,
   "metadata": {
    "colab": {
     "base_uri": "https://localhost:8080/"
    },
    "id": "c7hm1JA3ygN-",
    "outputId": "5fbdc8a7-d9de-4301-df77-ac7cc0761621"
   },
   "outputs": [
    {
     "name": "stdout",
     "output_type": "stream",
     "text": [
      "Epoch 1/10\n",
      "1093/1093 [==============================] - 1049s 957ms/step - loss: 1.2177 - accuracy: 0.4678 - val_loss: 1.0245 - val_accuracy: 0.5625\n",
      "Epoch 2/10\n",
      "1093/1093 [==============================] - 1051s 961ms/step - loss: 1.0905 - accuracy: 0.5317 - val_loss: 1.0791 - val_accuracy: 0.4375\n",
      "Epoch 3/10\n",
      "1093/1093 [==============================] - 903s 825ms/step - loss: 1.0695 - accuracy: 0.5382 - val_loss: 1.0562 - val_accuracy: 0.5625\n",
      "Epoch 4/10\n",
      "1093/1093 [==============================] - 904s 827ms/step - loss: 1.0207 - accuracy: 0.5610 - val_loss: 0.8322 - val_accuracy: 0.5938\n",
      "Epoch 5/10\n",
      "1093/1093 [==============================] - 887s 811ms/step - loss: 0.9812 - accuracy: 0.5778 - val_loss: 0.8851 - val_accuracy: 0.6250\n",
      "Epoch 6/10\n",
      "1093/1093 [==============================] - 902s 826ms/step - loss: 0.9606 - accuracy: 0.5861 - val_loss: 0.9124 - val_accuracy: 0.5625\n",
      "Epoch 7/10\n",
      "1093/1093 [==============================] - 888s 812ms/step - loss: 0.9299 - accuracy: 0.5999 - val_loss: 0.8328 - val_accuracy: 0.6562\n",
      "Epoch 8/10\n",
      "1093/1093 [==============================] - 892s 816ms/step - loss: 0.9075 - accuracy: 0.6097 - val_loss: 0.8197 - val_accuracy: 0.7188\n",
      "Epoch 9/10\n",
      "1093/1093 [==============================] - 905s 828ms/step - loss: 0.8800 - accuracy: 0.6227 - val_loss: 0.8157 - val_accuracy: 0.6875\n",
      "Epoch 10/10\n",
      "1093/1093 [==============================] - 889s 814ms/step - loss: 0.8495 - accuracy: 0.6382 - val_loss: 0.8553 - val_accuracy: 0.6875\n",
      "Execution time: 02:34:29.68\n"
     ]
    }
   ],
   "source": [
    "import time\n",
    "start = time.time()\n",
    "\n",
    "\n",
    "\n",
    "batch_size = 32\n",
    "X_train1 = X_train[batch_size:]\n",
    "y_train1 = y_train[batch_size:]\n",
    "X_valid = X_train[:batch_size]\n",
    "y_valid = y_train[:batch_size]\n",
    "\n",
    "\n",
    "history = model.fit(X_train1, y_train1, validation_data=(X_valid,y_valid), epochs = 10, batch_size=batch_size, verbose = 'auto')\n",
    "\n",
    "end = time.time()\n",
    "hours, rem = divmod(end-start, 3600)\n",
    "minutes, seconds = divmod(rem, 60)\n",
    "\n",
    "\n",
    "print(\"Execution time: \"+\"{:0>2}:{:0>2}:{:05.2f}\".format(int(hours),int(minutes),seconds))"
   ]
  },
  {
   "cell_type": "code",
   "execution_count": 31,
   "metadata": {
    "colab": {
     "base_uri": "https://localhost:8080/"
    },
    "id": "bi_afeVnygRl",
    "outputId": "b83e70ad-8a70-4a74-f8a7-c30f07334f7c"
   },
   "outputs": [
    {
     "name": "stdout",
     "output_type": "stream",
     "text": [
      "Accuracy: 57.07\n"
     ]
    }
   ],
   "source": [
    "# evaluate the keras model\n",
    "_, accuracy = model.evaluate(X_test, y_test, verbose=0)\n",
    "print('Accuracy: %.2f' % (accuracy*100))"
   ]
  },
  {
   "cell_type": "code",
   "execution_count": 32,
   "metadata": {
    "colab": {
     "base_uri": "https://localhost:8080/",
     "height": 573
    },
    "id": "_v7xKccAygVS",
    "outputId": "21940ab2-c1ba-48ca-9468-fe2c04bdc259"
   },
   "outputs": [
    {
     "data": {
      "image/png": "[encoded data removed]",
      "text/plain": [
       "<matplotlib.figure.Figure at 0x7f7cc554dfd0>"
      ]
     },
     "metadata": {
      "needs_background": "light"
     },
     "output_type": "display_data"
    },
    {
     "data": {
      "image/png": "[encoded data removed]",
      "text/plain": [
       "<matplotlib.figure.Figure at 0x7f7cc550db38>"
      ]
     },
     "metadata": {
      "needs_background": "light"
     },
     "output_type": "display_data"
    }
   ],
   "source": [
    "# summarize history for accuracy\n",
    "plt.plot(history.history['accuracy'])\n",
    "plt.plot(history.history['val_accuracy'])\n",
    "plt.title('Model accuracy LSTM')\n",
    "plt.ylabel('accuracy')\n",
    "plt.xlabel('epoch')\n",
    "plt.legend(['train', 'test'], loc='upper left')\n",
    "plt.show()\n",
    "# summarize history for loss\n",
    "plt.plot(history.history['loss'])\n",
    "plt.plot(history.history['val_loss'])\n",
    "plt.title('model loss')\n",
    "plt.ylabel('loss')\n",
    "plt.xlabel('epoch')\n",
    "plt.legend(['train', 'test'], loc='upper left')\n",
    "plt.show()"
   ]
  },
  {
   "cell_type": "code",
   "execution_count": null,
   "metadata": {
    "id": "stm6WZj0ygY3"
   },
   "outputs": [],
   "source": []
  },
  {
   "cell_type": "code",
   "execution_count": 33,
   "metadata": {
    "id": "ap7q16XmQI2l"
   },
   "outputs": [],
   "source": [
    "#"
   ]
  },
  {
   "cell_type": "markdown",
   "metadata": {
    "id": "MzUCSLB39noV"
   },
   "source": [
    "# 3 category sentiment prediction"
   ]
  },
  {
   "cell_type": "markdown",
   "metadata": {
    "id": "xjPInPZMQTfk"
   },
   "source": [
    "## Creating 3 categories for the ratings\n",
    "\n"
   ]
  },
  {
   "cell_type": "code",
   "execution_count": 34,
   "metadata": {
    "id": "C6JP9HM8QN5Q"
   },
   "outputs": [],
   "source": [
    "# create a list of our conditions\n",
    "conditions = [\n",
    "    (uniformed_review['review_stars'] <= 2),\n",
    "    (uniformed_review['review_stars'] == 3),\n",
    "    (uniformed_review['review_stars'] > 3)\n",
    "    ]\n",
    "\n",
    "# create a list of the values we want to assign for each condition\n",
    "values = [0, 1,2]\n",
    "\n",
    "# create a new column and use np.select to assign values to it using our lists as arguments\n",
    "uniformed_review['three_star'] = np.select(conditions, values)\n",
    "\n",
    "# display updated DataFrame\n",
    "#uniformed_review.head()"
   ]
  },
  {
   "cell_type": "code",
   "execution_count": 35,
   "metadata": {
    "colab": {
     "base_uri": "https://localhost:8080/",
     "height": 265
    },
    "id": "i-uRQNoEQOZR",
    "outputId": "5bca7f37-c3ec-42d2-be2d-579f20819c26"
   },
   "outputs": [
    {
     "data": {
      "image/png": "[encoded data removed]",
      "text/plain": [
       "<matplotlib.figure.Figure at 0x7f7cc54aa8d0>"
      ]
     },
     "metadata": {
      "needs_background": "light"
     },
     "output_type": "display_data"
    }
   ],
   "source": [
    "plt.hist(uniformed_review[\"three_star\"],weights=np.ones(len(uniformed_review[\"three_star\"])) / len(uniformed_review[\"three_star\"]))\n",
    "plt.gca().yaxis.set_major_formatter(PercentFormatter(1))\n",
    "plt.show()"
   ]
  },
  {
   "cell_type": "code",
   "execution_count": 36,
   "metadata": {
    "colab": {
     "base_uri": "https://localhost:8080/"
    },
    "id": "8ttcuLrzQX1q",
    "outputId": "e0c32fdb-274f-4fd9-fe54-b0bdc0c21c1b"
   },
   "outputs": [
    {
     "data": {
      "text/plain": [
       "(30000, 20)"
      ]
     },
     "execution_count": 36,
     "metadata": {},
     "output_type": "execute_result"
    }
   ],
   "source": [
    "reviews_smallest = uniformed_review[uniformed_review[\"three_star\"] == 1]\n",
    "\n",
    "## sampling negative review:\n",
    "reviews_neg = uniformed_review[uniformed_review[\"three_star\"] == 0]\n",
    "reviews_neg = reviews_neg.sample(n=reviews_smallest.shape[0])\n",
    "\n",
    "\n",
    "## sampling positive review:\n",
    "reviews_pos = uniformed_review[uniformed_review[\"three_star\"] == 2]\n",
    "reviews_pos = reviews_pos.sample(n=reviews_smallest.shape[0])\n",
    "\n",
    "uniformed_review = reviews_smallest.append([reviews_neg, reviews_pos])\n",
    "uniformed_review.shape"
   ]
  },
  {
   "cell_type": "code",
   "execution_count": null,
   "metadata": {
    "id": "BK6oemObk3KB"
   },
   "outputs": [],
   "source": []
  },
  {
   "cell_type": "markdown",
   "metadata": {
    "id": "lPvLV1zHk37L"
   },
   "source": [
    "# Truncating to 500 sample to speed up the process"
   ]
  },
  {
   "cell_type": "code",
   "execution_count": 37,
   "metadata": {
    "colab": {
     "base_uri": "https://localhost:8080/"
    },
    "id": "JoO2z5h2QdXd",
    "outputId": "014a2608-349a-444b-9872-7d9846b465b7"
   },
   "outputs": [],
   "source": [
    "# trunc = 1000\n",
    "\n",
    "# ## sampling neutral review:\n",
    "# reviews_utral = uniformed_review[uniformed_review[\"three_star\"] == 1]\n",
    "# reviews_utral = reviews_utral.sample(n=trunc)\n",
    "\n",
    "# ## sampling negative review:\n",
    "# reviews_neg = uniformed_review[uniformed_review[\"three_star\"] == 0]\n",
    "# reviews_neg = reviews_neg.sample(n=trunc)\n",
    "\n",
    "\n",
    "# ## sampling positive review:\n",
    "# reviews_pos = uniformed_review[uniformed_review[\"three_star\"] == 2]\n",
    "# reviews_pos = reviews_pos.sample(n=trunc)\n",
    "\n",
    "# uniformed_review = reviews_utral.append([reviews_neg, reviews_pos])\n",
    "# uniformed_review.shape"
   ]
  },
  {
   "cell_type": "code",
   "execution_count": 38,
   "metadata": {
    "id": "IkS5f3Kbm7UR"
   },
   "outputs": [],
   "source": [
    "# Encoded the target column\n",
    "lb=LabelEncoder()\n",
    "uniformed_review['sentiment'] = lb.fit_transform(uniformed_review['three_star'].values)\n",
    "\n",
    "tokenizer = Tokenizer(num_words=500, split=' ') \n",
    "tokenizer.fit_on_texts(uniformed_review['text'].values)\n",
    "X = tokenizer.texts_to_sequences(uniformed_review['text'].values)\n",
    "X = pad_sequences(X)\n",
    "\n",
    "#Splitting the data into training and testing\n",
    "y=pd.get_dummies(uniformed_review['three_star'])\n",
    "X_train, X_test, y_train, y_test = train_test_split(X,y, test_size = 0.3, random_state = 42)"
   ]
  },
  {
   "cell_type": "code",
   "execution_count": 39,
   "metadata": {
    "colab": {
     "base_uri": "https://localhost:8080/"
    },
    "id": "bbVPoPIwm7WW",
    "outputId": "8d38aa42-f0dd-4295-9150-253d4817cf3f"
   },
   "outputs": [
    {
     "name": "stdout",
     "output_type": "stream",
     "text": [
      "Model: \"sequential_3\"\n",
      "_________________________________________________________________\n",
      "Layer (type)                 Output Shape              Param #   \n",
      "=================================================================\n",
      "embedding_3 (Embedding)      (None, 788, 120)          60000     \n",
      "_________________________________________________________________\n",
      "lstm_3 (LSTM)                (None, 128)               127488    \n",
      "_________________________________________________________________\n",
      "dense_3 (Dense)              (None, 3)                 387       \n",
      "=================================================================\n",
      "Total params: 187,875\n",
      "Trainable params: 187,875\n",
      "Non-trainable params: 0\n",
      "_________________________________________________________________\n",
      "None\n"
     ]
    }
   ],
   "source": [
    "# model = Sequential()\n",
    "# model.add(Embedding(500, 120, input_length = X.shape[1]))\n",
    "# #model.add(SpatialDropout1D(0.4))\n",
    "# model.add(LSTM(128)\n",
    "# model.add(Dense(3,activation='softmax'))\n",
    "# model.compile(loss = 'categorical_crossentropy', optimizer='adam', metrics = ['accuracy'])\n",
    "# print(model.summary())\n",
    "          \n",
    "          \n",
    "model = Sequential()\n",
    "model.add(Embedding(500, 120, input_length = X.shape[1]))\n",
    "#model.add(SpatialDropout1D(0.4))\n",
    "model.add(LSTM(128))\n",
    "model.add(Dense(3,activation='softmax'))\n",
    "model.compile(loss = 'categorical_crossentropy', optimizer='adam', metrics = ['accuracy'])\n",
    "print(model.summary())"
   ]
  },
  {
   "cell_type": "code",
   "execution_count": 40,
   "metadata": {
    "colab": {
     "base_uri": "https://localhost:8080/"
    },
    "id": "8Yx0Sxh4m7Z0",
    "outputId": "1f792a48-280b-4dc4-8bf0-1ea1c8dfad15"
   },
   "outputs": [
    {
     "name": "stdout",
     "output_type": "stream",
     "text": [
      "Epoch 1/10\n",
      "656/656 [==============================] - 542s 823ms/step - loss: 0.8288 - accuracy: 0.6113 - val_loss: 0.6648 - val_accuracy: 0.7812\n",
      "Epoch 2/10\n",
      "656/656 [==============================] - 537s 819ms/step - loss: 0.7235 - accuracy: 0.6813 - val_loss: 0.6912 - val_accuracy: 0.7188\n",
      "Epoch 3/10\n",
      "656/656 [==============================] - 529s 806ms/step - loss: 0.6906 - accuracy: 0.6961 - val_loss: 0.6089 - val_accuracy: 0.7500\n",
      "Epoch 4/10\n",
      "656/656 [==============================] - 540s 824ms/step - loss: 0.6682 - accuracy: 0.7043 - val_loss: 0.6500 - val_accuracy: 0.6875\n",
      "Epoch 5/10\n",
      "656/656 [==============================] - 533s 812ms/step - loss: 0.6470 - accuracy: 0.7183 - val_loss: 0.6038 - val_accuracy: 0.7188\n",
      "Epoch 6/10\n",
      "656/656 [==============================] - 536s 817ms/step - loss: 0.6223 - accuracy: 0.7304 - val_loss: 0.6916 - val_accuracy: 0.7188\n",
      "Epoch 7/10\n",
      "656/656 [==============================] - 540s 823ms/step - loss: 0.6101 - accuracy: 0.7366 - val_loss: 0.5017 - val_accuracy: 0.7500\n",
      "Epoch 8/10\n",
      "656/656 [==============================] - 525s 800ms/step - loss: 0.5820 - accuracy: 0.7502 - val_loss: 0.5777 - val_accuracy: 0.7500\n",
      "Epoch 9/10\n",
      "656/656 [==============================] - 537s 819ms/step - loss: 0.5659 - accuracy: 0.7582 - val_loss: 0.5603 - val_accuracy: 0.6875\n",
      "Epoch 10/10\n",
      "656/656 [==============================] - 537s 819ms/step - loss: 0.5468 - accuracy: 0.7680 - val_loss: 0.4926 - val_accuracy: 0.7188\n",
      "Execution time: 01:29:15.53\n"
     ]
    }
   ],
   "source": [
    "import time\n",
    "start = time.time()\n",
    "\n",
    "\n",
    "\n",
    "batch_size = 32\n",
    "X_train1 = X_train[batch_size:]\n",
    "y_train1 = y_train[batch_size:]\n",
    "X_valid = X_train[:batch_size]\n",
    "y_valid = y_train[:batch_size]\n",
    "\n",
    "\n",
    "history = model.fit(X_train1, y_train1, validation_data=(X_valid,y_valid), epochs = 10, batch_size=batch_size, verbose = 'auto')\n",
    "\n",
    "end = time.time()\n",
    "hours, rem = divmod(end-start, 3600)\n",
    "minutes, seconds = divmod(rem, 60)\n",
    "\n",
    "\n",
    "print(\"Execution time: \"+\"{:0>2}:{:0>2}:{:05.2f}\".format(int(hours),int(minutes),seconds))"
   ]
  },
  {
   "cell_type": "code",
   "execution_count": 41,
   "metadata": {
    "colab": {
     "base_uri": "https://localhost:8080/"
    },
    "id": "uiajuf3gQ9kn",
    "outputId": "ad35576d-ca89-46c1-8a79-1d8c68ffd255"
   },
   "outputs": [
    {
     "name": "stdout",
     "output_type": "stream",
     "text": [
      "Accuracy: 69.32\n"
     ]
    }
   ],
   "source": [
    "# evaluate the keras model\n",
    "_, accuracy = model.evaluate(X_test, y_test, verbose=0)\n",
    "print('Accuracy: %.2f' % (accuracy*100))"
   ]
  },
  {
   "cell_type": "code",
   "execution_count": 42,
   "metadata": {
    "colab": {
     "base_uri": "https://localhost:8080/",
     "height": 573
    },
    "id": "eVT3zaN4RYgk",
    "outputId": "117ee0a9-c526-4c02-806b-2d68b700b9af"
   },
   "outputs": [
    {
     "data": {
      "image/png": "[encoded data removed]",
      "text/plain": [
       "<matplotlib.figure.Figure at 0x7f7cc1d3a8d0>"
      ]
     },
     "metadata": {
      "needs_background": "light"
     },
     "output_type": "display_data"
    },
    {
     "data": {
      "image/png": "[encoded data removed]",
      "text/plain": [
       "<matplotlib.figure.Figure at 0x7f7cc50f4c88>"
      ]
     },
     "metadata": {
      "needs_background": "light"
     },
     "output_type": "display_data"
    }
   ],
   "source": [
    "# summarize history for accuracy\n",
    "plt.plot(history.history['accuracy'])\n",
    "plt.plot(history.history['val_accuracy'])\n",
    "plt.title('Model accuracy LSTM')\n",
    "plt.ylabel('accuracy')\n",
    "plt.xlabel('epoch')\n",
    "plt.legend(['train', 'test'], loc='upper left')\n",
    "plt.show()\n",
    "# summarize history for loss\n",
    "plt.plot(history.history['loss'])\n",
    "plt.plot(history.history['val_loss'])\n",
    "plt.title('model loss')\n",
    "plt.ylabel('loss')\n",
    "plt.xlabel('epoch')\n",
    "plt.legend(['train', 'test'], loc='upper left')\n",
    "plt.show()"
   ]
  },
  {
   "cell_type": "markdown",
   "metadata": {
    "id": "RULZmazPfjlS"
   },
   "source": [
    "# Two category sentiment prediciton"
   ]
  },
  {
   "cell_type": "code",
   "execution_count": 43,
   "metadata": {
    "colab": {
     "base_uri": "https://localhost:8080/"
    },
    "id": "dPRzrpwmvAhw",
    "outputId": "2e092d40-2e1f-41db-da2e-1f2cd09abedc"
   },
   "outputs": [
    {
     "data": {
      "text/plain": [
       "(50000, 18)"
      ]
     },
     "execution_count": 43,
     "metadata": {},
     "output_type": "execute_result"
    }
   ],
   "source": [
    "uniformed_review = pd.read_csv(dwn_url)\n",
    "uniformed_review.shape"
   ]
  },
  {
   "cell_type": "code",
   "execution_count": 44,
   "metadata": {
    "colab": {
     "base_uri": "https://localhost:8080/"
    },
    "id": "6pfwegxdSiyn",
    "outputId": "251ea51b-3b77-460e-f389-46eb9f5d4713"
   },
   "outputs": [
    {
     "data": {
      "text/plain": [
       "(40000, 19)"
      ]
     },
     "execution_count": 44,
     "metadata": {},
     "output_type": "execute_result"
    }
   ],
   "source": [
    "# create a list of our conditions\n",
    "conditions = [\n",
    "    (uniformed_review['review_stars'] <= 2),\n",
    "    (uniformed_review['review_stars'] == 3),\n",
    "    (uniformed_review['review_stars'] > 3)\n",
    "    ]\n",
    "\n",
    "# create a list of the values we want to assign for each condition\n",
    "values = [0,-1,1]\n",
    "\n",
    "# create a new column and use np.select to assign values to it using our lists as arguments\n",
    "uniformed_review['two_star'] = np.select(conditions, values)\n",
    "\n",
    "\n",
    "uniformed_review = uniformed_review[uniformed_review.two_star != -1]\n",
    "\n",
    "# display updated DataFrame\n",
    "uniformed_review.shape"
   ]
  },
  {
   "cell_type": "code",
   "execution_count": 45,
   "metadata": {
    "colab": {
     "base_uri": "https://localhost:8080/",
     "height": 265
    },
    "id": "DLavu0fBuLOq",
    "outputId": "c791c784-d432-4843-c4aa-9ebded484981"
   },
   "outputs": [
    {
     "data": {
      "image/png": "[encoded data removed]",
      "text/plain": [
       "<matplotlib.figure.Figure at 0x7f7c98646f60>"
      ]
     },
     "metadata": {
      "needs_background": "light"
     },
     "output_type": "display_data"
    }
   ],
   "source": [
    "plt.hist(uniformed_review[\"two_star\"],weights=np.ones(len(uniformed_review[\"two_star\"])) / len(uniformed_review[\"two_star\"]))\n",
    "plt.gca().yaxis.set_major_formatter(PercentFormatter(1))\n",
    "plt.show()"
   ]
  },
  {
   "cell_type": "code",
   "execution_count": null,
   "metadata": {
    "id": "U69NaRbCuLSE"
   },
   "outputs": [],
   "source": []
  },
  {
   "cell_type": "markdown",
   "metadata": {
    "id": "Vq8y0C5KvNV-"
   },
   "source": [
    "## Truncating 1000 sample"
   ]
  },
  {
   "cell_type": "code",
   "execution_count": 46,
   "metadata": {
    "colab": {
     "base_uri": "https://localhost:8080/"
    },
    "id": "bVas5D6Rt-y7",
    "outputId": "f0d47576-0950-45b8-9cae-09e00c6f1592"
   },
   "outputs": [],
   "source": [
    "# trunc = 1000\n",
    "\n",
    "# ## sampling negative review:\n",
    "# reviews_neg = uniformed_review[uniformed_review[\"two_star\"] == 0]\n",
    "# reviews_neg = reviews_neg.sample(n=trunc)\n",
    "\n",
    "\n",
    "# ## sampling positive review:\n",
    "# reviews_pos = uniformed_review[uniformed_review[\"two_star\"] == 1]\n",
    "# reviews_pos = reviews_pos.sample(n=trunc)\n",
    "\n",
    "# uniformed_review = reviews_neg.append([reviews_pos])\n",
    "# uniformed_review.shape"
   ]
  },
  {
   "cell_type": "code",
   "execution_count": null,
   "metadata": {
    "id": "ckfvtmsot-3u"
   },
   "outputs": [],
   "source": []
  },
  {
   "cell_type": "code",
   "execution_count": 47,
   "metadata": {
    "id": "fkjxQ8RZvQ3Z"
   },
   "outputs": [],
   "source": [
    "# Encoded the target column\n",
    "lb=LabelEncoder()\n",
    "uniformed_review['sentiment'] = lb.fit_transform(uniformed_review['two_star'].values)\n",
    "\n",
    "tokenizer = Tokenizer(num_words=500, split=' ') \n",
    "tokenizer.fit_on_texts(uniformed_review['text'].values)\n",
    "X = tokenizer.texts_to_sequences(uniformed_review['text'].values)\n",
    "X = pad_sequences(X)\n",
    "\n",
    "#Splitting the data into training and testing\n",
    "y=pd.get_dummies(uniformed_review['two_star'])\n",
    "X_train, X_test, y_train, y_test = train_test_split(X,y, test_size = 0.3, random_state = 42)"
   ]
  },
  {
   "cell_type": "code",
   "execution_count": null,
   "metadata": {
    "id": "3zS7c6o0vQ6b"
   },
   "outputs": [],
   "source": []
  },
  {
   "cell_type": "code",
   "execution_count": 48,
   "metadata": {
    "colab": {
     "base_uri": "https://localhost:8080/"
    },
    "id": "0Jn2DpEGvQ9o",
    "outputId": "3f22bccf-d39b-4f9d-f5af-120e40fba94d"
   },
   "outputs": [
    {
     "name": "stdout",
     "output_type": "stream",
     "text": [
      "Model: \"sequential_4\"\n",
      "_________________________________________________________________\n",
      "Layer (type)                 Output Shape              Param #   \n",
      "=================================================================\n",
      "embedding_4 (Embedding)      (None, 797, 120)          60000     \n",
      "_________________________________________________________________\n",
      "lstm_4 (LSTM)                (None, 128)               127488    \n",
      "_________________________________________________________________\n",
      "dense_4 (Dense)              (None, 2)                 258       \n",
      "=================================================================\n",
      "Total params: 187,746\n",
      "Trainable params: 187,746\n",
      "Non-trainable params: 0\n",
      "_________________________________________________________________\n",
      "None\n"
     ]
    }
   ],
   "source": [
    "model = Sequential()\n",
    "model.add(Embedding(500, 120, input_length = X.shape[1]))\n",
    "#model.add(SpatialDropout1D(0.4))\n",
    "model.add(LSTM(128))\n",
    "model.add(Dense(2,activation='sigmoid'))\n",
    "model.compile(loss = 'binary_crossentropy', optimizer='adam', metrics = ['accuracy'])\n",
    "print(model.summary())"
   ]
  },
  {
   "cell_type": "code",
   "execution_count": 49,
   "metadata": {
    "colab": {
     "base_uri": "https://localhost:8080/"
    },
    "id": "jmtpT3bRvRB5",
    "outputId": "8f8c76c8-eb9a-4bc6-bf5f-4db550d1ad19"
   },
   "outputs": [
    {
     "name": "stdout",
     "output_type": "stream",
     "text": [
      "Epoch 1/10\n",
      "874/874 [==============================] - 522s 595ms/step - loss: 0.3591 - accuracy: 0.8439 - val_loss: 0.3450 - val_accuracy: 0.8438\n",
      "Epoch 2/10\n",
      "874/874 [==============================] - 377s 431ms/step - loss: 0.2977 - accuracy: 0.8802 - val_loss: 0.3049 - val_accuracy: 0.8750\n",
      "Epoch 3/10\n",
      "874/874 [==============================] - 376s 430ms/step - loss: 0.2563 - accuracy: 0.8953 - val_loss: 0.2609 - val_accuracy: 0.9062\n",
      "Epoch 4/10\n",
      "874/874 [==============================] - 376s 430ms/step - loss: 0.2286 - accuracy: 0.9079 - val_loss: 0.2494 - val_accuracy: 0.8750\n",
      "Epoch 5/10\n",
      "874/874 [==============================] - 376s 430ms/step - loss: 0.2074 - accuracy: 0.9185 - val_loss: 0.2639 - val_accuracy: 0.7812\n",
      "Epoch 6/10\n",
      "874/874 [==============================] - 376s 430ms/step - loss: 0.1955 - accuracy: 0.9236 - val_loss: 0.2614 - val_accuracy: 0.8438\n",
      "Epoch 7/10\n",
      "874/874 [==============================] - 376s 430ms/step - loss: 0.2070 - accuracy: 0.9185 - val_loss: 0.2221 - val_accuracy: 0.8438\n",
      "Epoch 8/10\n",
      "874/874 [==============================] - 376s 430ms/step - loss: 0.1774 - accuracy: 0.9301 - val_loss: 0.1866 - val_accuracy: 0.9062\n",
      "Epoch 9/10\n",
      "874/874 [==============================] - 376s 430ms/step - loss: 0.1651 - accuracy: 0.9367 - val_loss: 0.2374 - val_accuracy: 0.9062\n",
      "Epoch 10/10\n",
      "874/874 [==============================] - 376s 431ms/step - loss: 0.1550 - accuracy: 0.9408 - val_loss: 0.2150 - val_accuracy: 0.9062\n",
      "Execution time: 01:05:07.10\n"
     ]
    }
   ],
   "source": [
    "import time\n",
    "start = time.time()\n",
    "\n",
    "\n",
    "\n",
    "batch_size = 32\n",
    "X_train1 = X_train[batch_size:]\n",
    "y_train1 = y_train[batch_size:]\n",
    "X_valid = X_train[:batch_size]\n",
    "y_valid = y_train[:batch_size]\n",
    "\n",
    "\n",
    "history = model.fit(X_train1, y_train1, validation_data=(X_valid,y_valid), epochs = 10, batch_size=batch_size, verbose = 'auto')\n",
    "\n",
    "end = time.time()\n",
    "hours, rem = divmod(end-start, 3600)\n",
    "minutes, seconds = divmod(rem, 60)\n",
    "\n",
    "\n",
    "print(\"Execution time: \"+\"{:0>2}:{:0>2}:{:05.2f}\".format(int(hours),int(minutes),seconds))"
   ]
  },
  {
   "cell_type": "code",
   "execution_count": 50,
   "metadata": {
    "colab": {
     "base_uri": "https://localhost:8080/"
    },
    "id": "JdedjWhWvRE-",
    "outputId": "9b6585dc-27d4-4674-bc91-0f5bef4a6a62"
   },
   "outputs": [
    {
     "name": "stdout",
     "output_type": "stream",
     "text": [
      "Accuracy: 90.73\n"
     ]
    }
   ],
   "source": [
    "# evaluate the keras model\n",
    "_, accuracy = model.evaluate(X_test, y_test, verbose=0)\n",
    "print('Accuracy: %.2f' % (accuracy*100))"
   ]
  },
  {
   "cell_type": "code",
   "execution_count": 51,
   "metadata": {
    "colab": {
     "base_uri": "https://localhost:8080/",
     "height": 573
    },
    "id": "r6QUvNBpvRKK",
    "outputId": "020485f1-e4d4-47ac-f04c-837e8864c567"
   },
   "outputs": [
    {
     "data": {
      "image/png": "[encoded data removed]",
      "text/plain": [
       "<matplotlib.figure.Figure at 0x7f7c907952b0>"
      ]
     },
     "metadata": {
      "needs_background": "light"
     },
     "output_type": "display_data"
    },
    {
     "data": {
      "image/png": "[encoded data removed]",
      "text/plain": [
       "<matplotlib.figure.Figure at 0x7f7cc589dc88>"
      ]
     },
     "metadata": {
      "needs_background": "light"
     },
     "output_type": "display_data"
    }
   ],
   "source": [
    "# summarize history for accuracy\n",
    "plt.plot(history.history['accuracy'])\n",
    "plt.plot(history.history['val_accuracy'])\n",
    "plt.title('Model accuracy LSTM')\n",
    "plt.ylabel('accuracy')\n",
    "plt.xlabel('epoch')\n",
    "plt.legend(['train', 'test'], loc='upper left')\n",
    "plt.show()\n",
    "# summarize history for loss\n",
    "plt.plot(history.history['loss'])\n",
    "plt.plot(history.history['val_loss'])\n",
    "plt.title('model loss')\n",
    "plt.ylabel('loss')\n",
    "plt.xlabel('epoch')\n",
    "plt.legend(['train', 'test'], loc='upper left')\n",
    "plt.show()"
   ]
  },
  {
   "cell_type": "code",
   "execution_count": null,
   "metadata": {
    "id": "I2wu99tJvRNm"
   },
   "outputs": [],
   "source": []
  },
  {
   "cell_type": "code",
   "execution_count": null,
   "metadata": {
    "id": "UHAN0B7XvRQt"
   },
   "outputs": [],
   "source": []
  }
 ],
 "metadata": {
  "colab": {
   "authorship_tag": "ABX9TyOhRr53cMACgf3GE9gMdi05",
   "include_colab_link": true,
   "name": "LSTM 5,3 and 2 category sentiment classification.ipynb",
   "provenance": []
  },
  "kernelspec": {
   "display_name": "Python 3",
   "language": "python",
   "name": "python3"
  },
  "language_info": {
   "codemirror_mode": {
    "name": "ipython",
    "version": 3
   },
   "file_extension": ".py",
   "mimetype": "text/x-python",
   "name": "python",
   "nbconvert_exporter": "python",
   "pygments_lexer": "ipython3",
   "version": "3.6.9"
  }
 },
 "nbformat": 4,
 "nbformat_minor": 1
}

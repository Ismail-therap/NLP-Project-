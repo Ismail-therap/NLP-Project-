{
  "nbformat": 4,
  "nbformat_minor": 0,
  "metadata": {
    "colab": {
      "name": "LSTM 5,3 and 2 category sentiment classification.ipynb",
      "provenance": [],
      "authorship_tag": "ABX9TyMfpiyX6OZfPxWS97eICBp/",
      "include_colab_link": true
    },
    "kernelspec": {
      "name": "python3",
      "display_name": "Python 3"
    },
    "language_info": {
      "name": "python"
    }
  },
  "cells": [
    {
      "cell_type": "markdown",
      "metadata": {
        "id": "view-in-github",
        "colab_type": "text"
      },
      "source": [
        "<a href=\"https://colab.research.google.com/github/Ismail-therap/NLP-Project-Predicting-review-in-1-to-5-star-/blob/main/LSTM_5%2C3_and_2_category_sentiment_classification.ipynb\" target=\"_parent\"><img src=\"https://colab.research.google.com/assets/colab-badge.svg\" alt=\"Open In Colab\"/></a>"
      ]
    },
    {
      "cell_type": "markdown",
      "source": [
        "# LSTM"
      ],
      "metadata": {
        "id": "mAFswQhaQgs2"
      }
    },
    {
      "cell_type": "markdown",
      "source": [
        "# Required libraries"
      ],
      "metadata": {
        "id": "U5atMsTLzX0N"
      }
    },
    {
      "cell_type": "code",
      "source": [
        "# Importing required libraries\n",
        "import nltk\n",
        "import tensorflow as tf\n",
        "import pandas as pd\n",
        "from nltk.corpus import stopwords\n",
        "from textblob import Word\n",
        "from sklearn.preprocessing import LabelEncoder\n",
        "from collections import Counter\n",
        "import wordcloud\n",
        "from sklearn.metrics import classification_report,confusion_matrix,accuracy_score\n",
        "from keras.models import Sequential\n",
        "from keras.preprocessing.text import Tokenizer\n",
        "from keras.preprocessing.sequence import pad_sequences\n",
        "from keras.layers import Dense, Embedding, LSTM, SpatialDropout1D\n",
        "from sklearn.model_selection import train_test_split \n",
        "import matplotlib.pyplot as plt\n",
        "\n"
      ],
      "metadata": {
        "id": "KlfVXrnJmUUW"
      },
      "execution_count": 35,
      "outputs": []
    },
    {
      "cell_type": "markdown",
      "source": [
        "# Loading data"
      ],
      "metadata": {
        "id": "8Wje0XrWzcii"
      }
    },
    {
      "cell_type": "code",
      "execution_count": 63,
      "metadata": {
        "id": "-qua1UsKP3XQ"
      },
      "outputs": [],
      "source": [
        "import pandas as pd\n",
        "\n",
        "url='https://drive.google.com/file/d/1-vBpWV0H0cxX5jSeHlQIKXIiosMKwq2t/view?usp=sharing'\n",
        "file_id=url.split('/')[-2]\n",
        "dwn_url='https://drive.google.com/uc?id=' + file_id\n",
        "df = pd.read_csv(dwn_url)\n",
        "\n",
        "#df.head()"
      ]
    },
    {
      "cell_type": "code",
      "source": [
        "uniformed_review = df\n",
        "import numpy as np\n",
        "import matplotlib.pyplot as plt\n",
        "from matplotlib.ticker import PercentFormatter\n",
        "plt.hist(uniformed_review[\"review_stars\"],weights=np.ones(len(uniformed_review[\"review_stars\"])) / len(uniformed_review[\"review_stars\"]))\n",
        "plt.gca().yaxis.set_major_formatter(PercentFormatter(1))\n",
        "plt.show()"
      ],
      "metadata": {
        "colab": {
          "base_uri": "https://localhost:8080/",
          "height": 265
        },
        "id": "Wps6M8iLQCBW",
        "outputId": "4b75b225-f2ac-4eb2-ba0d-1fcab3ca4ba0"
      },
      "execution_count": 64,
      "outputs": [
        {
          "output_type": "display_data",
          "data": {
            "text/plain": [
              "<Figure size 432x288 with 1 Axes>"
            ],
            "image/png": "[encoded data removed]"
          },
          "metadata": {
            "needs_background": "light"
          }
        }
      ]
    },
    {
      "cell_type": "markdown",
      "source": [
        "# 5 CATEGORY Sentiment prediction\n",
        "\n",
        "```\n",
        "# This is formatted as code\n",
        "```\n",
        "\n"
      ],
      "metadata": {
        "id": "8I7C6K0UyciL"
      }
    },
    {
      "cell_type": "code",
      "source": [
        "uniformed_review.dtypes"
      ],
      "metadata": {
        "colab": {
          "base_uri": "https://localhost:8080/"
        },
        "id": "Uvyk9huiypwt",
        "outputId": "d0bedb53-ceb8-4868-8472-7805e1d6fc6c"
      },
      "execution_count": 65,
      "outputs": [
        {
          "output_type": "execute_result",
          "data": {
            "text/plain": [
              "business_id      object\n",
              "name             object\n",
              "address          object\n",
              "city             object\n",
              "state            object\n",
              "postal_code      object\n",
              "latitude        float64\n",
              "longitude       float64\n",
              "stars           float64\n",
              "review_count      int64\n",
              "is_open           int64\n",
              "attributes       object\n",
              "categories       object\n",
              "hours            object\n",
              "user_id          object\n",
              "review_stars      int64\n",
              "text             object\n",
              "date             object\n",
              "dtype: object"
            ]
          },
          "metadata": {},
          "execution_count": 65
        }
      ]
    },
    {
      "cell_type": "code",
      "source": [
        "trunc = 1000\n",
        "\n",
        "## sampling neutral review:\n",
        "reviews1 = uniformed_review[uniformed_review[\"review_stars\"] == 1]\n",
        "reviews1 = reviews1.sample(n=trunc)\n",
        "\n",
        "## sampling negative review:\n",
        "reviews2 = uniformed_review[uniformed_review[\"review_stars\"] == 2]\n",
        "reviews2 = reviews2.sample(n=trunc)\n",
        "\n",
        "\n",
        "## sampling positive review:\n",
        "reviews3 = uniformed_review[uniformed_review[\"review_stars\"] == 3]\n",
        "reviews3 = reviews3.sample(n=trunc)\n",
        "\n",
        "## sampling positive review:\n",
        "reviews4 = uniformed_review[uniformed_review[\"review_stars\"] == 4]\n",
        "reviews4 = reviews4.sample(n=trunc)\n",
        "\n",
        "## sampling positive review:\n",
        "reviews5 = uniformed_review[uniformed_review[\"review_stars\"] == 5]\n",
        "reviews5 = reviews5.sample(n=trunc)\n",
        "\n",
        "uniformed_review = reviews1.append([reviews2, reviews3,reviews4,reviews5])\n",
        "uniformed_review.shape"
      ],
      "metadata": {
        "colab": {
          "base_uri": "https://localhost:8080/"
        },
        "id": "iYQPgb8RygDw",
        "outputId": "f7fb1db1-863d-4ab9-c36c-2307a5902065"
      },
      "execution_count": 66,
      "outputs": [
        {
          "output_type": "execute_result",
          "data": {
            "text/plain": [
              "(5000, 18)"
            ]
          },
          "metadata": {},
          "execution_count": 66
        }
      ]
    },
    {
      "cell_type": "code",
      "source": [
        "# Encoded the target column\n",
        "lb=LabelEncoder()\n",
        "uniformed_review['sentiment'] = lb.fit_transform(uniformed_review['review_stars'].values)\n",
        "\n",
        "tokenizer = Tokenizer(num_words=500, split=' ') \n",
        "tokenizer.fit_on_texts(uniformed_review['text'].values)\n",
        "X = tokenizer.texts_to_sequences(uniformed_review['text'].values)\n",
        "X = pad_sequences(X)\n",
        "\n",
        "#Splitting the data into training and testing\n",
        "y=pd.get_dummies(uniformed_review['review_stars'])\n",
        "X_train, X_test, y_train, y_test = train_test_split(X,y, test_size = 0.3, random_state = 42)"
      ],
      "metadata": {
        "id": "KZJv5WqsygH_"
      },
      "execution_count": 67,
      "outputs": []
    },
    {
      "cell_type": "code",
      "source": [
        "model = Sequential()\n",
        "model.add(Embedding(500, 120, input_length = X.shape[1]))\n",
        "model.add(SpatialDropout1D(0.4))\n",
        "model.add(LSTM(176, dropout=0.2, recurrent_dropout=0.2))\n",
        "model.add(Dense(5,activation='softmax'))\n",
        "model.compile(loss = 'categorical_crossentropy', optimizer='adam', metrics = ['accuracy'])\n",
        "print(model.summary())"
      ],
      "metadata": {
        "colab": {
          "base_uri": "https://localhost:8080/"
        },
        "id": "fTJT4iNoygLG",
        "outputId": "8ebc3651-320e-493f-ef7b-6b9a5f59f784"
      },
      "execution_count": 68,
      "outputs": [
        {
          "output_type": "stream",
          "name": "stdout",
          "text": [
            "Model: \"sequential_4\"\n",
            "_________________________________________________________________\n",
            " Layer (type)                Output Shape              Param #   \n",
            "=================================================================\n",
            " embedding_4 (Embedding)     (None, 779, 120)          60000     \n",
            "                                                                 \n",
            " spatial_dropout1d_4 (Spatia  (None, 779, 120)         0         \n",
            " lDropout1D)                                                     \n",
            "                                                                 \n",
            " lstm_4 (LSTM)               (None, 176)               209088    \n",
            "                                                                 \n",
            " dense_4 (Dense)             (None, 5)                 885       \n",
            "                                                                 \n",
            "=================================================================\n",
            "Total params: 269,973\n",
            "Trainable params: 269,973\n",
            "Non-trainable params: 0\n",
            "_________________________________________________________________\n",
            "None\n"
          ]
        }
      ]
    },
    {
      "cell_type": "code",
      "source": [
        "import time\n",
        "start = time.time()\n",
        "\n",
        "\n",
        "\n",
        "batch_size = 32\n",
        "X_train1 = X_train[batch_size:]\n",
        "y_train1 = y_train[batch_size:]\n",
        "X_valid = X_train[:batch_size]\n",
        "y_valid = y_train[:batch_size]\n",
        "\n",
        "\n",
        "history = model.fit(X_train1, y_train1, validation_data=(X_valid,y_valid), epochs = 3, batch_size=batch_size, verbose = 'auto')\n",
        "\n",
        "end = time.time()\n",
        "hours, rem = divmod(end-start, 3600)\n",
        "minutes, seconds = divmod(rem, 60)\n",
        "\n",
        "\n",
        "print(\"Execution time: \"+\"{:0>2}:{:0>2}:{:05.2f}\".format(int(hours),int(minutes),seconds))"
      ],
      "metadata": {
        "colab": {
          "base_uri": "https://localhost:8080/"
        },
        "id": "c7hm1JA3ygN-",
        "outputId": "4f6e9f04-2737-4ff4-bbea-05c3b66dcf71"
      },
      "execution_count": 69,
      "outputs": [
        {
          "output_type": "stream",
          "name": "stdout",
          "text": [
            "Epoch 1/3\n",
            "109/109 [==============================] - 383s 3s/step - loss: 1.5581 - accuracy: 0.2869 - val_loss: 1.4654 - val_accuracy: 0.2500\n",
            "Epoch 2/3\n",
            "109/109 [==============================] - 373s 3s/step - loss: 1.3125 - accuracy: 0.4308 - val_loss: 1.2826 - val_accuracy: 0.3750\n",
            "Epoch 3/3\n",
            "109/109 [==============================] - 366s 3s/step - loss: 1.1432 - accuracy: 0.5035 - val_loss: 1.1981 - val_accuracy: 0.5000\n",
            "Execution time: 00:19:24.98\n"
          ]
        }
      ]
    },
    {
      "cell_type": "code",
      "source": [
        "# evaluate the keras model\n",
        "_, accuracy = model.evaluate(X_test, y_test, verbose=0)\n",
        "print('Accuracy: %.2f' % (accuracy*100))"
      ],
      "metadata": {
        "colab": {
          "base_uri": "https://localhost:8080/"
        },
        "id": "bi_afeVnygRl",
        "outputId": "b83e70ad-8a70-4a74-f8a7-c30f07334f7c"
      },
      "execution_count": 70,
      "outputs": [
        {
          "output_type": "stream",
          "name": "stdout",
          "text": [
            "Accuracy: 47.93\n"
          ]
        }
      ]
    },
    {
      "cell_type": "code",
      "source": [
        "# summarize history for accuracy\n",
        "plt.plot(history.history['accuracy'])\n",
        "plt.plot(history.history['val_accuracy'])\n",
        "plt.title('Model accuracy LSTM')\n",
        "plt.ylabel('accuracy')\n",
        "plt.xlabel('epoch')\n",
        "plt.legend(['train', 'test'], loc='upper left')\n",
        "plt.show()\n",
        "# summarize history for loss\n",
        "plt.plot(history.history['loss'])\n",
        "plt.plot(history.history['val_loss'])\n",
        "plt.title('model loss')\n",
        "plt.ylabel('loss')\n",
        "plt.xlabel('epoch')\n",
        "plt.legend(['train', 'test'], loc='upper left')\n",
        "plt.show()"
      ],
      "metadata": {
        "colab": {
          "base_uri": "https://localhost:8080/",
          "height": 573
        },
        "id": "_v7xKccAygVS",
        "outputId": "21940ab2-c1ba-48ca-9468-fe2c04bdc259"
      },
      "execution_count": 71,
      "outputs": [
        {
          "output_type": "display_data",
          "data": {
            "text/plain": [
              "<Figure size 432x288 with 1 Axes>"
            ],
            "image/png": "[encoded data removed]"
          },
          "metadata": {
            "needs_background": "light"
          }
        },
        {
          "output_type": "display_data",
          "data": {
            "text/plain": [
              "<Figure size 432x288 with 1 Axes>"
            ],
            "image/png": "[encoded data removed]"
          },
          "metadata": {
            "needs_background": "light"
          }
        }
      ]
    },
    {
      "cell_type": "code",
      "source": [
        ""
      ],
      "metadata": {
        "id": "stm6WZj0ygY3"
      },
      "execution_count": null,
      "outputs": []
    },
    {
      "cell_type": "code",
      "source": [
        "#"
      ],
      "metadata": {
        "id": "ap7q16XmQI2l"
      },
      "execution_count": null,
      "outputs": []
    },
    {
      "cell_type": "markdown",
      "source": [
        "# 3 category sentiment prediction"
      ],
      "metadata": {
        "id": "MzUCSLB39noV"
      }
    },
    {
      "cell_type": "markdown",
      "source": [
        "## Creating 3 categories for the ratings\n",
        "\n"
      ],
      "metadata": {
        "id": "xjPInPZMQTfk"
      }
    },
    {
      "cell_type": "code",
      "source": [
        "# create a list of our conditions\n",
        "conditions = [\n",
        "    (uniformed_review['review_stars'] <= 2),\n",
        "    (uniformed_review['review_stars'] == 3),\n",
        "    (uniformed_review['review_stars'] > 3)\n",
        "    ]\n",
        "\n",
        "# create a list of the values we want to assign for each condition\n",
        "values = [0, 1,2]\n",
        "\n",
        "# create a new column and use np.select to assign values to it using our lists as arguments\n",
        "uniformed_review['three_star'] = np.select(conditions, values)\n",
        "\n",
        "# display updated DataFrame\n",
        "#uniformed_review.head()"
      ],
      "metadata": {
        "id": "C6JP9HM8QN5Q"
      },
      "execution_count": 29,
      "outputs": []
    },
    {
      "cell_type": "code",
      "source": [
        "plt.hist(uniformed_review[\"three_star\"],weights=np.ones(len(uniformed_review[\"three_star\"])) / len(uniformed_review[\"three_star\"]))\n",
        "plt.gca().yaxis.set_major_formatter(PercentFormatter(1))\n",
        "plt.show()"
      ],
      "metadata": {
        "colab": {
          "base_uri": "https://localhost:8080/",
          "height": 265
        },
        "id": "i-uRQNoEQOZR",
        "outputId": "5bca7f37-c3ec-42d2-be2d-579f20819c26"
      },
      "execution_count": 30,
      "outputs": [
        {
          "output_type": "display_data",
          "data": {
            "text/plain": [
              "<Figure size 432x288 with 1 Axes>"
            ],
            "image/png": "[encoded data removed]"
          },
          "metadata": {
            "needs_background": "light"
          }
        }
      ]
    },
    {
      "cell_type": "code",
      "source": [
        "reviews_smallest = uniformed_review[uniformed_review[\"three_star\"] == 1]\n",
        "\n",
        "## sampling negative review:\n",
        "reviews_neg = uniformed_review[uniformed_review[\"three_star\"] == 0]\n",
        "reviews_neg = reviews_neg.sample(n=reviews_smallest.shape[0])\n",
        "\n",
        "\n",
        "## sampling positive review:\n",
        "reviews_pos = uniformed_review[uniformed_review[\"three_star\"] == 2]\n",
        "reviews_pos = reviews_pos.sample(n=reviews_smallest.shape[0])\n",
        "\n",
        "uniformed_review = reviews_smallest.append([reviews_neg, reviews_pos])\n",
        "uniformed_review.shape"
      ],
      "metadata": {
        "colab": {
          "base_uri": "https://localhost:8080/"
        },
        "id": "8ttcuLrzQX1q",
        "outputId": "e0c32fdb-274f-4fd9-fe54-b0bdc0c21c1b"
      },
      "execution_count": 31,
      "outputs": [
        {
          "output_type": "execute_result",
          "data": {
            "text/plain": [
              "(30000, 19)"
            ]
          },
          "metadata": {},
          "execution_count": 31
        }
      ]
    },
    {
      "cell_type": "code",
      "source": [
        ""
      ],
      "metadata": {
        "id": "BK6oemObk3KB"
      },
      "execution_count": null,
      "outputs": []
    },
    {
      "cell_type": "markdown",
      "source": [
        "# Truncating to 500 sample to speed up the process"
      ],
      "metadata": {
        "id": "lPvLV1zHk37L"
      }
    },
    {
      "cell_type": "code",
      "source": [
        "trunc = 1000\n",
        "\n",
        "## sampling neutral review:\n",
        "reviews_utral = uniformed_review[uniformed_review[\"three_star\"] == 1]\n",
        "reviews_utral = reviews_utral.sample(n=trunc)\n",
        "\n",
        "## sampling negative review:\n",
        "reviews_neg = uniformed_review[uniformed_review[\"three_star\"] == 0]\n",
        "reviews_neg = reviews_neg.sample(n=trunc)\n",
        "\n",
        "\n",
        "## sampling positive review:\n",
        "reviews_pos = uniformed_review[uniformed_review[\"three_star\"] == 2]\n",
        "reviews_pos = reviews_pos.sample(n=trunc)\n",
        "\n",
        "uniformed_review = reviews_utral.append([reviews_neg, reviews_pos])\n",
        "uniformed_review.shape"
      ],
      "metadata": {
        "id": "JoO2z5h2QdXd",
        "colab": {
          "base_uri": "https://localhost:8080/"
        },
        "outputId": "014a2608-349a-444b-9872-7d9846b465b7"
      },
      "execution_count": 32,
      "outputs": [
        {
          "output_type": "execute_result",
          "data": {
            "text/plain": [
              "(3000, 19)"
            ]
          },
          "metadata": {},
          "execution_count": 32
        }
      ]
    },
    {
      "cell_type": "code",
      "source": [
        "# Encoded the target column\n",
        "lb=LabelEncoder()\n",
        "uniformed_review['sentiment'] = lb.fit_transform(uniformed_review['three_star'].values)\n",
        "\n",
        "tokenizer = Tokenizer(num_words=500, split=' ') \n",
        "tokenizer.fit_on_texts(uniformed_review['text'].values)\n",
        "X = tokenizer.texts_to_sequences(uniformed_review['text'].values)\n",
        "X = pad_sequences(X)\n",
        "\n",
        "#Splitting the data into training and testing\n",
        "y=pd.get_dummies(uniformed_review['three_star'])\n",
        "X_train, X_test, y_train, y_test = train_test_split(X,y, test_size = 0.3, random_state = 42)\n",
        "\n",
        "\n"
      ],
      "metadata": {
        "id": "IkS5f3Kbm7UR"
      },
      "execution_count": 36,
      "outputs": []
    },
    {
      "cell_type": "code",
      "source": [
        "model = Sequential()\n",
        "model.add(Embedding(500, 120, input_length = X.shape[1]))\n",
        "model.add(SpatialDropout1D(0.4))\n",
        "model.add(LSTM(176, dropout=0.2, recurrent_dropout=0.2))\n",
        "model.add(Dense(3,activation='softmax'))\n",
        "model.compile(loss = 'categorical_crossentropy', optimizer='adam', metrics = ['accuracy'])\n",
        "print(model.summary())"
      ],
      "metadata": {
        "colab": {
          "base_uri": "https://localhost:8080/"
        },
        "id": "bbVPoPIwm7WW",
        "outputId": "8d38aa42-f0dd-4295-9150-253d4817cf3f"
      },
      "execution_count": 37,
      "outputs": [
        {
          "output_type": "stream",
          "name": "stdout",
          "text": [
            "Model: \"sequential_1\"\n",
            "_________________________________________________________________\n",
            " Layer (type)                Output Shape              Param #   \n",
            "=================================================================\n",
            " embedding_1 (Embedding)     (None, 709, 120)          60000     \n",
            "                                                                 \n",
            " spatial_dropout1d_1 (Spatia  (None, 709, 120)         0         \n",
            " lDropout1D)                                                     \n",
            "                                                                 \n",
            " lstm_1 (LSTM)               (None, 176)               209088    \n",
            "                                                                 \n",
            " dense_1 (Dense)             (None, 3)                 531       \n",
            "                                                                 \n",
            "=================================================================\n",
            "Total params: 269,619\n",
            "Trainable params: 269,619\n",
            "Non-trainable params: 0\n",
            "_________________________________________________________________\n",
            "None\n"
          ]
        }
      ]
    },
    {
      "cell_type": "code",
      "source": [
        "import time\n",
        "start = time.time()\n",
        "\n",
        "\n",
        "\n",
        "batch_size = 32\n",
        "X_train1 = X_train[batch_size:]\n",
        "y_train1 = y_train[batch_size:]\n",
        "X_valid = X_train[:batch_size]\n",
        "y_valid = y_train[:batch_size]\n",
        "\n",
        "\n",
        "history = model.fit(X_train1, y_train1, validation_data=(X_valid,y_valid), epochs = 3, batch_size=batch_size, verbose = 'auto')\n",
        "\n",
        "end = time.time()\n",
        "hours, rem = divmod(end-start, 3600)\n",
        "minutes, seconds = divmod(rem, 60)\n",
        "\n",
        "\n",
        "print(\"Execution time: \"+\"{:0>2}:{:0>2}:{:05.2f}\".format(int(hours),int(minutes),seconds))"
      ],
      "metadata": {
        "colab": {
          "base_uri": "https://localhost:8080/"
        },
        "id": "8Yx0Sxh4m7Z0",
        "outputId": "1f792a48-280b-4dc4-8bf0-1ea1c8dfad15"
      },
      "execution_count": 38,
      "outputs": [
        {
          "output_type": "stream",
          "name": "stdout",
          "text": [
            "Epoch 1/3\n",
            "65/65 [==============================] - 204s 3s/step - loss: 1.0773 - accuracy: 0.3994 - val_loss: 0.9640 - val_accuracy: 0.5000\n",
            "Epoch 2/3\n",
            "65/65 [==============================] - 199s 3s/step - loss: 0.9121 - accuracy: 0.5522 - val_loss: 0.9068 - val_accuracy: 0.5000\n",
            "Epoch 3/3\n",
            "65/65 [==============================] - 197s 3s/step - loss: 0.8216 - accuracy: 0.6199 - val_loss: 0.8618 - val_accuracy: 0.5625\n",
            "Execution time: 00:10:24.89\n"
          ]
        }
      ]
    },
    {
      "cell_type": "code",
      "source": [
        "# evaluate the keras model\n",
        "_, accuracy = model.evaluate(X_test, y_test, verbose=0)\n",
        "print('Accuracy: %.2f' % (accuracy*100))"
      ],
      "metadata": {
        "colab": {
          "base_uri": "https://localhost:8080/"
        },
        "id": "uiajuf3gQ9kn",
        "outputId": "ad35576d-ca89-46c1-8a79-1d8c68ffd255"
      },
      "execution_count": 39,
      "outputs": [
        {
          "output_type": "stream",
          "name": "stdout",
          "text": [
            "Accuracy: 59.22\n"
          ]
        }
      ]
    },
    {
      "cell_type": "code",
      "source": [
        "# summarize history for accuracy\n",
        "plt.plot(history.history['accuracy'])\n",
        "plt.plot(history.history['val_accuracy'])\n",
        "plt.title('Model accuracy LSTM')\n",
        "plt.ylabel('accuracy')\n",
        "plt.xlabel('epoch')\n",
        "plt.legend(['train', 'test'], loc='upper left')\n",
        "plt.show()\n",
        "# summarize history for loss\n",
        "plt.plot(history.history['loss'])\n",
        "plt.plot(history.history['val_loss'])\n",
        "plt.title('model loss')\n",
        "plt.ylabel('loss')\n",
        "plt.xlabel('epoch')\n",
        "plt.legend(['train', 'test'], loc='upper left')\n",
        "plt.show()"
      ],
      "metadata": {
        "colab": {
          "base_uri": "https://localhost:8080/",
          "height": 573
        },
        "id": "eVT3zaN4RYgk",
        "outputId": "117ee0a9-c526-4c02-806b-2d68b700b9af"
      },
      "execution_count": 40,
      "outputs": [
        {
          "output_type": "display_data",
          "data": {
            "text/plain": [
              "<Figure size 432x288 with 1 Axes>"
            ],
            "image/png": "[encoded data removed]"
          },
          "metadata": {
            "needs_background": "light"
          }
        },
        {
          "output_type": "display_data",
          "data": {
            "text/plain": [
              "<Figure size 432x288 with 1 Axes>"
            ],
            "image/png": "[encoded data removed]"
          },
          "metadata": {
            "needs_background": "light"
          }
        }
      ]
    },
    {
      "cell_type": "markdown",
      "source": [
        "# Two category sentiment prediciton"
      ],
      "metadata": {
        "id": "RULZmazPfjlS"
      }
    },
    {
      "cell_type": "code",
      "source": [
        "uniformed_review = pd.read_csv(dwn_url)\n",
        "uniformed_review.shape"
      ],
      "metadata": {
        "colab": {
          "base_uri": "https://localhost:8080/"
        },
        "id": "dPRzrpwmvAhw",
        "outputId": "2e092d40-2e1f-41db-da2e-1f2cd09abedc"
      },
      "execution_count": 52,
      "outputs": [
        {
          "output_type": "execute_result",
          "data": {
            "text/plain": [
              "(50000, 18)"
            ]
          },
          "metadata": {},
          "execution_count": 52
        }
      ]
    },
    {
      "cell_type": "code",
      "source": [
        "# create a list of our conditions\n",
        "conditions = [\n",
        "    (uniformed_review['review_stars'] <= 2),\n",
        "    (uniformed_review['review_stars'] == 3),\n",
        "    (uniformed_review['review_stars'] > 3)\n",
        "    ]\n",
        "\n",
        "# create a list of the values we want to assign for each condition\n",
        "values = [0,-1,1]\n",
        "\n",
        "# create a new column and use np.select to assign values to it using our lists as arguments\n",
        "uniformed_review['two_star'] = np.select(conditions, values)\n",
        "\n",
        "\n",
        "uniformed_review = uniformed_review[uniformed_review.two_star != -1]\n",
        "\n",
        "# display updated DataFrame\n",
        "uniformed_review.shape"
      ],
      "metadata": {
        "id": "6pfwegxdSiyn",
        "colab": {
          "base_uri": "https://localhost:8080/"
        },
        "outputId": "251ea51b-3b77-460e-f389-46eb9f5d4713"
      },
      "execution_count": 53,
      "outputs": [
        {
          "output_type": "execute_result",
          "data": {
            "text/plain": [
              "(40000, 19)"
            ]
          },
          "metadata": {},
          "execution_count": 53
        }
      ]
    },
    {
      "cell_type": "code",
      "source": [
        "plt.hist(uniformed_review[\"two_star\"],weights=np.ones(len(uniformed_review[\"two_star\"])) / len(uniformed_review[\"two_star\"]))\n",
        "plt.gca().yaxis.set_major_formatter(PercentFormatter(1))\n",
        "plt.show()"
      ],
      "metadata": {
        "colab": {
          "base_uri": "https://localhost:8080/",
          "height": 265
        },
        "id": "DLavu0fBuLOq",
        "outputId": "c791c784-d432-4843-c4aa-9ebded484981"
      },
      "execution_count": 54,
      "outputs": [
        {
          "output_type": "display_data",
          "data": {
            "text/plain": [
              "<Figure size 432x288 with 1 Axes>"
            ],
            "image/png": "[encoded data removed]"
          },
          "metadata": {
            "needs_background": "light"
          }
        }
      ]
    },
    {
      "cell_type": "code",
      "source": [
        ""
      ],
      "metadata": {
        "id": "U69NaRbCuLSE"
      },
      "execution_count": null,
      "outputs": []
    },
    {
      "cell_type": "markdown",
      "source": [
        "## Truncating 1000 sample"
      ],
      "metadata": {
        "id": "Vq8y0C5KvNV-"
      }
    },
    {
      "cell_type": "code",
      "source": [
        "trunc = 1000\n",
        "\n",
        "## sampling negative review:\n",
        "reviews_neg = uniformed_review[uniformed_review[\"two_star\"] == 0]\n",
        "reviews_neg = reviews_neg.sample(n=trunc)\n",
        "\n",
        "\n",
        "## sampling positive review:\n",
        "reviews_pos = uniformed_review[uniformed_review[\"two_star\"] == 1]\n",
        "reviews_pos = reviews_pos.sample(n=trunc)\n",
        "\n",
        "uniformed_review = reviews_neg.append([reviews_pos])\n",
        "uniformed_review.shape"
      ],
      "metadata": {
        "colab": {
          "base_uri": "https://localhost:8080/"
        },
        "id": "bVas5D6Rt-y7",
        "outputId": "f0d47576-0950-45b8-9cae-09e00c6f1592"
      },
      "execution_count": 55,
      "outputs": [
        {
          "output_type": "execute_result",
          "data": {
            "text/plain": [
              "(2000, 19)"
            ]
          },
          "metadata": {},
          "execution_count": 55
        }
      ]
    },
    {
      "cell_type": "code",
      "source": [
        ""
      ],
      "metadata": {
        "id": "ckfvtmsot-3u"
      },
      "execution_count": null,
      "outputs": []
    },
    {
      "cell_type": "code",
      "source": [
        "# Encoded the target column\n",
        "lb=LabelEncoder()\n",
        "uniformed_review['sentiment'] = lb.fit_transform(uniformed_review['two_star'].values)\n",
        "\n",
        "tokenizer = Tokenizer(num_words=500, split=' ') \n",
        "tokenizer.fit_on_texts(uniformed_review['text'].values)\n",
        "X = tokenizer.texts_to_sequences(uniformed_review['text'].values)\n",
        "X = pad_sequences(X)\n",
        "\n",
        "#Splitting the data into training and testing\n",
        "y=pd.get_dummies(uniformed_review['two_star'])\n",
        "X_train, X_test, y_train, y_test = train_test_split(X,y, test_size = 0.3, random_state = 42)"
      ],
      "metadata": {
        "id": "fkjxQ8RZvQ3Z"
      },
      "execution_count": 56,
      "outputs": []
    },
    {
      "cell_type": "code",
      "source": [
        ""
      ],
      "metadata": {
        "id": "3zS7c6o0vQ6b"
      },
      "execution_count": null,
      "outputs": []
    },
    {
      "cell_type": "code",
      "source": [
        "model = Sequential()\n",
        "model.add(Embedding(500, 120, input_length = X.shape[1]))\n",
        "model.add(SpatialDropout1D(0.4))\n",
        "model.add(LSTM(176, dropout=0.2, recurrent_dropout=0.2))\n",
        "model.add(Dense(2,activation='sigmoid'))\n",
        "model.compile(loss = 'binary_crossentropy', optimizer='adam', metrics = ['accuracy'])\n",
        "print(model.summary())"
      ],
      "metadata": {
        "colab": {
          "base_uri": "https://localhost:8080/"
        },
        "id": "0Jn2DpEGvQ9o",
        "outputId": "3f22bccf-d39b-4f9d-f5af-120e40fba94d"
      },
      "execution_count": 59,
      "outputs": [
        {
          "output_type": "stream",
          "name": "stdout",
          "text": [
            "Model: \"sequential_3\"\n",
            "_________________________________________________________________\n",
            " Layer (type)                Output Shape              Param #   \n",
            "=================================================================\n",
            " embedding_3 (Embedding)     (None, 798, 120)          60000     \n",
            "                                                                 \n",
            " spatial_dropout1d_3 (Spatia  (None, 798, 120)         0         \n",
            " lDropout1D)                                                     \n",
            "                                                                 \n",
            " lstm_3 (LSTM)               (None, 176)               209088    \n",
            "                                                                 \n",
            " dense_3 (Dense)             (None, 2)                 354       \n",
            "                                                                 \n",
            "=================================================================\n",
            "Total params: 269,442\n",
            "Trainable params: 269,442\n",
            "Non-trainable params: 0\n",
            "_________________________________________________________________\n",
            "None\n"
          ]
        }
      ]
    },
    {
      "cell_type": "code",
      "source": [
        "import time\n",
        "start = time.time()\n",
        "\n",
        "\n",
        "\n",
        "batch_size = 32\n",
        "X_train1 = X_train[batch_size:]\n",
        "y_train1 = y_train[batch_size:]\n",
        "X_valid = X_train[:batch_size]\n",
        "y_valid = y_train[:batch_size]\n",
        "\n",
        "\n",
        "history = model.fit(X_train1, y_train1, validation_data=(X_valid,y_valid), epochs = 3, batch_size=batch_size, verbose = 'auto')\n",
        "\n",
        "end = time.time()\n",
        "hours, rem = divmod(end-start, 3600)\n",
        "minutes, seconds = divmod(rem, 60)\n",
        "\n",
        "\n",
        "print(\"Execution time: \"+\"{:0>2}:{:0>2}:{:05.2f}\".format(int(hours),int(minutes),seconds))"
      ],
      "metadata": {
        "colab": {
          "base_uri": "https://localhost:8080/"
        },
        "id": "jmtpT3bRvRB5",
        "outputId": "8f8c76c8-eb9a-4bc6-bf5f-4db550d1ad19"
      },
      "execution_count": 60,
      "outputs": [
        {
          "output_type": "stream",
          "name": "stdout",
          "text": [
            "Epoch 1/3\n",
            "43/43 [==============================] - 171s 3s/step - loss: 0.6691 - accuracy: 0.6228 - val_loss: 0.6774 - val_accuracy: 0.4375\n",
            "Epoch 2/3\n",
            "43/43 [==============================] - 148s 3s/step - loss: 0.6138 - accuracy: 0.7222 - val_loss: 0.4690 - val_accuracy: 0.8125\n",
            "Epoch 3/3\n",
            "43/43 [==============================] - 153s 4s/step - loss: 0.4430 - accuracy: 0.7990 - val_loss: 0.3795 - val_accuracy: 0.7812\n",
            "Execution time: 00:08:45.02\n"
          ]
        }
      ]
    },
    {
      "cell_type": "code",
      "source": [
        "# evaluate the keras model\n",
        "_, accuracy = model.evaluate(X_test, y_test, verbose=0)\n",
        "print('Accuracy: %.2f' % (accuracy*100))"
      ],
      "metadata": {
        "colab": {
          "base_uri": "https://localhost:8080/"
        },
        "id": "JdedjWhWvRE-",
        "outputId": "9b6585dc-27d4-4674-bc91-0f5bef4a6a62"
      },
      "execution_count": 61,
      "outputs": [
        {
          "output_type": "stream",
          "name": "stdout",
          "text": [
            "Accuracy: 81.17\n"
          ]
        }
      ]
    },
    {
      "cell_type": "code",
      "source": [
        "# summarize history for accuracy\n",
        "plt.plot(history.history['accuracy'])\n",
        "plt.plot(history.history['val_accuracy'])\n",
        "plt.title('Model accuracy LSTM')\n",
        "plt.ylabel('accuracy')\n",
        "plt.xlabel('epoch')\n",
        "plt.legend(['train', 'test'], loc='upper left')\n",
        "plt.show()\n",
        "# summarize history for loss\n",
        "plt.plot(history.history['loss'])\n",
        "plt.plot(history.history['val_loss'])\n",
        "plt.title('model loss')\n",
        "plt.ylabel('loss')\n",
        "plt.xlabel('epoch')\n",
        "plt.legend(['train', 'test'], loc='upper left')\n",
        "plt.show()"
      ],
      "metadata": {
        "colab": {
          "base_uri": "https://localhost:8080/",
          "height": 573
        },
        "id": "r6QUvNBpvRKK",
        "outputId": "020485f1-e4d4-47ac-f04c-837e8864c567"
      },
      "execution_count": 62,
      "outputs": [
        {
          "output_type": "display_data",
          "data": {
            "text/plain": [
              "<Figure size 432x288 with 1 Axes>"
            ],
            "image/png": "[encoded data removed]"
          },
          "metadata": {
            "needs_background": "light"
          }
        },
        {
          "output_type": "display_data",
          "data": {
            "text/plain": [
              "<Figure size 432x288 with 1 Axes>"
            ],
            "image/png": "[encoded data removed]"
          },
          "metadata": {
            "needs_background": "light"
          }
        }
      ]
    },
    {
      "cell_type": "code",
      "source": [
        ""
      ],
      "metadata": {
        "id": "I2wu99tJvRNm"
      },
      "execution_count": null,
      "outputs": []
    },
    {
      "cell_type": "code",
      "source": [
        ""
      ],
      "metadata": {
        "id": "UHAN0B7XvRQt"
      },
      "execution_count": null,
      "outputs": []
    }
  ]
}
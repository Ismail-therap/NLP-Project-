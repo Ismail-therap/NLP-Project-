{
  "nbformat": 4,
  "nbformat_minor": 0,
  "metadata": {
    "colab": {
      "name": "Fasttext_three_and_two_category_Spring_22.ipynb",
      "provenance": [],
      "authorship_tag": "ABX9TyNWnogSqaDXs1qDqoYVtvSK",
      "include_colab_link": true
    },
    "kernelspec": {
      "name": "python3",
      "display_name": "Python 3"
    },
    "language_info": {
      "name": "python"
    }
  },
  "cells": [
    {
      "cell_type": "markdown",
      "metadata": {
        "id": "view-in-github",
        "colab_type": "text"
      },
      "source": [
        "<a href=\"https://colab.research.google.com/github/Ismail-therap/NLP-Project-Predicting-review-in-1-to-5-star-/blob/main/Fasttext_three_and_two_category_Spring_22.ipynb\" target=\"_parent\"><img src=\"https://colab.research.google.com/assets/colab-badge.svg\" alt=\"Open In Colab\"/></a>"
      ]
    },
    {
      "cell_type": "code",
      "execution_count": null,
      "metadata": {
        "colab": {
          "base_uri": "https://localhost:8080/",
          "height": 686
        },
        "id": "E8VzO-BF-iLS",
        "outputId": "ddaf6536-f2f7-47af-8f42-14f0c645a52b"
      },
      "outputs": [
        {
          "output_type": "execute_result",
          "data": {
            "text/plain": [
              "              business_id                                 name  \\\n",
              "0  0tGuFBrhM03I6TCLxDQhyg             Dancing Goats Coffee Bar   \n",
              "1  498F3rnpng6qv53S9diTSw                        Boston Market   \n",
              "2  7qBi3FMT2Oz4Jj1hCWwawA                     Bea's Nail Salon   \n",
              "3  K4X4nJVp0BcSn9Cvoavk8A                 T'Kilas Tacos & More   \n",
              "4  D6U1_06gxciRs1NoYjwhKQ  ESPN Club - Temporarily Unavailable   \n",
              "\n",
              "                     address     city state postal_code   latitude  longitude  \\\n",
              "0    419 W Ponce De Leon Ave  Decatur    GA       30030  33.775805 -84.303269   \n",
              "1    4607 Braker Ln, Ste 100   Austin    TX       78759  30.399832 -97.744997   \n",
              "2              75 Blossom Ct   Boston    MA       02114  42.364891 -71.066818   \n",
              "3          1248 Clairmont Rd  Decatur    GA       30030  33.789815 -84.307511   \n",
              "4  2101 N Epcot Resorts Blvd  Orlando    FL       32836  28.368008 -81.555289   \n",
              "\n",
              "   stars  review_count  is_open  \\\n",
              "0    4.0           358        1   \n",
              "1    3.0           102        1   \n",
              "2    3.0            23        1   \n",
              "3    3.0           115        0   \n",
              "4    2.5           303        1   \n",
              "\n",
              "                                          attributes  \\\n",
              "0  {'RestaurantsPriceRange2': '1', 'WiFi': \"'free...   \n",
              "1  {'BusinessAcceptsCreditCards': 'True', 'GoodFo...   \n",
              "2  {'BusinessAcceptsCreditCards': 'True', 'Restau...   \n",
              "3  {'GoodForKids': 'True', 'BikeParking': 'False'...   \n",
              "4  {'GoodForKids': 'True', 'Caters': 'False', 'Re...   \n",
              "\n",
              "                                          categories  \\\n",
              "0     Food, Coffee & Tea, Restaurants, Donuts, Cafes   \n",
              "1  American (Traditional), Caterers, Chicken Shop...   \n",
              "2                         Nail Salons, Beauty & Spas   \n",
              "3                               Mexican, Restaurants   \n",
              "4  Hotels, American (New), Event Planning & Servi...   \n",
              "\n",
              "                                               hours                 user_id  \\\n",
              "0  {'Monday': '7:0-17:0', 'Tuesday': '7:0-17:0', ...  IqUD0yoRq66PqnbSvRb5JA   \n",
              "1  {'Monday': '11:0-22:0', 'Tuesday': '11:0-22:0'...  n2eAlOnBo1St1p7MWqBFmg   \n",
              "2  {'Monday': '9:30-19:0', 'Tuesday': '9:30-19:0'...  pHTrbVN4lzTlzqqnWEJYGw   \n",
              "3  {'Monday': '11:0-22:30', 'Tuesday': '11:0-22:3...  Jfc8qYR3uEHIpU0nKzpObg   \n",
              "4  {'Monday': '0:0-0:0', 'Tuesday': '12:0-23:0', ...  Dw_oka5MVWOsaJCncfIXZQ   \n",
              "\n",
              "   review_stars                                               text  \\\n",
              "0             1  OMG!! Hate! This place. Rude to me. On so many...   \n",
              "1             1  Why bother being open on Thanksgiving if you c...   \n",
              "2             1  The fact that on a Saturday afternoon this \"sa...   \n",
              "3             1  I came to Los Loros in search of the \"strong, ...   \n",
              "4             1  My fries were stale and my cheesesteak was mos...   \n",
              "\n",
              "                  date  \n",
              "0  2018-10-06 14:34:51  \n",
              "1  2019-11-28 20:02:11  \n",
              "2  2009-07-11 19:59:46  \n",
              "3  2008-09-08 21:34:50  \n",
              "4  2018-01-14 01:41:50  "
            ],
            "text/html": [
              "\n",
              "  <div id=\"df-96cf43e3-3bfc-429c-b964-8771122d18a9\">\n",
              "    <div class=\"colab-df-container\">\n",
              "      <div>\n",
              "<style scoped>\n",
              "    .dataframe tbody tr th:only-of-type {\n",
              "        vertical-align: middle;\n",
              "    }\n",
              "\n",
              "    .dataframe tbody tr th {\n",
              "        vertical-align: top;\n",
              "    }\n",
              "\n",
              "    .dataframe thead th {\n",
              "        text-align: right;\n",
              "    }\n",
              "</style>\n",
              "<table border=\"1\" class=\"dataframe\">\n",
              "  <thead>\n",
              "    <tr style=\"text-align: right;\">\n",
              "      <th></th>\n",
              "      <th>business_id</th>\n",
              "      <th>name</th>\n",
              "      <th>address</th>\n",
              "      <th>city</th>\n",
              "      <th>state</th>\n",
              "      <th>postal_code</th>\n",
              "      <th>latitude</th>\n",
              "      <th>longitude</th>\n",
              "      <th>stars</th>\n",
              "      <th>review_count</th>\n",
              "      <th>is_open</th>\n",
              "      <th>attributes</th>\n",
              "      <th>categories</th>\n",
              "      <th>hours</th>\n",
              "      <th>user_id</th>\n",
              "      <th>review_stars</th>\n",
              "      <th>text</th>\n",
              "      <th>date</th>\n",
              "    </tr>\n",
              "  </thead>\n",
              "  <tbody>\n",
              "    <tr>\n",
              "      <th>0</th>\n",
              "      <td>0tGuFBrhM03I6TCLxDQhyg</td>\n",
              "      <td>Dancing Goats Coffee Bar</td>\n",
              "      <td>419 W Ponce De Leon Ave</td>\n",
              "      <td>Decatur</td>\n",
              "      <td>GA</td>\n",
              "      <td>30030</td>\n",
              "      <td>33.775805</td>\n",
              "      <td>-84.303269</td>\n",
              "      <td>4.0</td>\n",
              "      <td>358</td>\n",
              "      <td>1</td>\n",
              "      <td>{'RestaurantsPriceRange2': '1', 'WiFi': \"'free...</td>\n",
              "      <td>Food, Coffee &amp; Tea, Restaurants, Donuts, Cafes</td>\n",
              "      <td>{'Monday': '7:0-17:0', 'Tuesday': '7:0-17:0', ...</td>\n",
              "      <td>IqUD0yoRq66PqnbSvRb5JA</td>\n",
              "      <td>1</td>\n",
              "      <td>OMG!! Hate! This place. Rude to me. On so many...</td>\n",
              "      <td>2018-10-06 14:34:51</td>\n",
              "    </tr>\n",
              "    <tr>\n",
              "      <th>1</th>\n",
              "      <td>498F3rnpng6qv53S9diTSw</td>\n",
              "      <td>Boston Market</td>\n",
              "      <td>4607 Braker Ln, Ste 100</td>\n",
              "      <td>Austin</td>\n",
              "      <td>TX</td>\n",
              "      <td>78759</td>\n",
              "      <td>30.399832</td>\n",
              "      <td>-97.744997</td>\n",
              "      <td>3.0</td>\n",
              "      <td>102</td>\n",
              "      <td>1</td>\n",
              "      <td>{'BusinessAcceptsCreditCards': 'True', 'GoodFo...</td>\n",
              "      <td>American (Traditional), Caterers, Chicken Shop...</td>\n",
              "      <td>{'Monday': '11:0-22:0', 'Tuesday': '11:0-22:0'...</td>\n",
              "      <td>n2eAlOnBo1St1p7MWqBFmg</td>\n",
              "      <td>1</td>\n",
              "      <td>Why bother being open on Thanksgiving if you c...</td>\n",
              "      <td>2019-11-28 20:02:11</td>\n",
              "    </tr>\n",
              "    <tr>\n",
              "      <th>2</th>\n",
              "      <td>7qBi3FMT2Oz4Jj1hCWwawA</td>\n",
              "      <td>Bea's Nail Salon</td>\n",
              "      <td>75 Blossom Ct</td>\n",
              "      <td>Boston</td>\n",
              "      <td>MA</td>\n",
              "      <td>02114</td>\n",
              "      <td>42.364891</td>\n",
              "      <td>-71.066818</td>\n",
              "      <td>3.0</td>\n",
              "      <td>23</td>\n",
              "      <td>1</td>\n",
              "      <td>{'BusinessAcceptsCreditCards': 'True', 'Restau...</td>\n",
              "      <td>Nail Salons, Beauty &amp; Spas</td>\n",
              "      <td>{'Monday': '9:30-19:0', 'Tuesday': '9:30-19:0'...</td>\n",
              "      <td>pHTrbVN4lzTlzqqnWEJYGw</td>\n",
              "      <td>1</td>\n",
              "      <td>The fact that on a Saturday afternoon this \"sa...</td>\n",
              "      <td>2009-07-11 19:59:46</td>\n",
              "    </tr>\n",
              "    <tr>\n",
              "      <th>3</th>\n",
              "      <td>K4X4nJVp0BcSn9Cvoavk8A</td>\n",
              "      <td>T'Kilas Tacos &amp; More</td>\n",
              "      <td>1248 Clairmont Rd</td>\n",
              "      <td>Decatur</td>\n",
              "      <td>GA</td>\n",
              "      <td>30030</td>\n",
              "      <td>33.789815</td>\n",
              "      <td>-84.307511</td>\n",
              "      <td>3.0</td>\n",
              "      <td>115</td>\n",
              "      <td>0</td>\n",
              "      <td>{'GoodForKids': 'True', 'BikeParking': 'False'...</td>\n",
              "      <td>Mexican, Restaurants</td>\n",
              "      <td>{'Monday': '11:0-22:30', 'Tuesday': '11:0-22:3...</td>\n",
              "      <td>Jfc8qYR3uEHIpU0nKzpObg</td>\n",
              "      <td>1</td>\n",
              "      <td>I came to Los Loros in search of the \"strong, ...</td>\n",
              "      <td>2008-09-08 21:34:50</td>\n",
              "    </tr>\n",
              "    <tr>\n",
              "      <th>4</th>\n",
              "      <td>D6U1_06gxciRs1NoYjwhKQ</td>\n",
              "      <td>ESPN Club - Temporarily Unavailable</td>\n",
              "      <td>2101 N Epcot Resorts Blvd</td>\n",
              "      <td>Orlando</td>\n",
              "      <td>FL</td>\n",
              "      <td>32836</td>\n",
              "      <td>28.368008</td>\n",
              "      <td>-81.555289</td>\n",
              "      <td>2.5</td>\n",
              "      <td>303</td>\n",
              "      <td>1</td>\n",
              "      <td>{'GoodForKids': 'True', 'Caters': 'False', 'Re...</td>\n",
              "      <td>Hotels, American (New), Event Planning &amp; Servi...</td>\n",
              "      <td>{'Monday': '0:0-0:0', 'Tuesday': '12:0-23:0', ...</td>\n",
              "      <td>Dw_oka5MVWOsaJCncfIXZQ</td>\n",
              "      <td>1</td>\n",
              "      <td>My fries were stale and my cheesesteak was mos...</td>\n",
              "      <td>2018-01-14 01:41:50</td>\n",
              "    </tr>\n",
              "  </tbody>\n",
              "</table>\n",
              "</div>\n",
              "      <button class=\"colab-df-convert\" onclick=\"convertToInteractive('df-96cf43e3-3bfc-429c-b964-8771122d18a9')\"\n",
              "              title=\"Convert this dataframe to an interactive table.\"\n",
              "              style=\"display:none;\">\n",
              "        \n",
              "  <svg xmlns=\"http://www.w3.org/2000/svg\" height=\"24px\"viewBox=\"0 0 24 24\"\n",
              "       width=\"24px\">\n",
              "    <path d=\"M0 0h24v24H0V0z\" fill=\"none\"/>\n",
              "    <path d=\"M18.56 5.44l.94 2.06.94-2.06 2.06-.94-2.06-.94-.94-2.06-.94 2.06-2.06.94zm-11 1L8.5 8.5l.94-2.06 2.06-.94-2.06-.94L8.5 2.5l-.94 2.06-2.06.94zm10 10l.94 2.06.94-2.06 2.06-.94-2.06-.94-.94-2.06-.94 2.06-2.06.94z\"/><path d=\"M17.41 7.96l-1.37-1.37c-.4-.4-.92-.59-1.43-.59-.52 0-1.04.2-1.43.59L10.3 9.45l-7.72 7.72c-.78.78-.78 2.05 0 2.83L4 21.41c.39.39.9.59 1.41.59.51 0 1.02-.2 1.41-.59l7.78-7.78 2.81-2.81c.8-.78.8-2.07 0-2.86zM5.41 20L4 18.59l7.72-7.72 1.47 1.35L5.41 20z\"/>\n",
              "  </svg>\n",
              "      </button>\n",
              "      \n",
              "  <style>\n",
              "    .colab-df-container {\n",
              "      display:flex;\n",
              "      flex-wrap:wrap;\n",
              "      gap: 12px;\n",
              "    }\n",
              "\n",
              "    .colab-df-convert {\n",
              "      background-color: #E8F0FE;\n",
              "      border: none;\n",
              "      border-radius: 50%;\n",
              "      cursor: pointer;\n",
              "      display: none;\n",
              "      fill: #1967D2;\n",
              "      height: 32px;\n",
              "      padding: 0 0 0 0;\n",
              "      width: 32px;\n",
              "    }\n",
              "\n",
              "    .colab-df-convert:hover {\n",
              "      background-color: #E2EBFA;\n",
              "      box-shadow: 0px 1px 2px rgba(60, 64, 67, 0.3), 0px 1px 3px 1px rgba(60, 64, 67, 0.15);\n",
              "      fill: #174EA6;\n",
              "    }\n",
              "\n",
              "    [theme=dark] .colab-df-convert {\n",
              "      background-color: #3B4455;\n",
              "      fill: #D2E3FC;\n",
              "    }\n",
              "\n",
              "    [theme=dark] .colab-df-convert:hover {\n",
              "      background-color: #434B5C;\n",
              "      box-shadow: 0px 1px 3px 1px rgba(0, 0, 0, 0.15);\n",
              "      filter: drop-shadow(0px 1px 2px rgba(0, 0, 0, 0.3));\n",
              "      fill: #FFFFFF;\n",
              "    }\n",
              "  </style>\n",
              "\n",
              "      <script>\n",
              "        const buttonEl =\n",
              "          document.querySelector('#df-96cf43e3-3bfc-429c-b964-8771122d18a9 button.colab-df-convert');\n",
              "        buttonEl.style.display =\n",
              "          google.colab.kernel.accessAllowed ? 'block' : 'none';\n",
              "\n",
              "        async function convertToInteractive(key) {\n",
              "          const element = document.querySelector('#df-96cf43e3-3bfc-429c-b964-8771122d18a9');\n",
              "          const dataTable =\n",
              "            await google.colab.kernel.invokeFunction('convertToInteractive',\n",
              "                                                     [key], {});\n",
              "          if (!dataTable) return;\n",
              "\n",
              "          const docLinkHtml = 'Like what you see? Visit the ' +\n",
              "            '<a target=\"_blank\" href=https://colab.research.google.com/notebooks/data_table.ipynb>data table notebook</a>'\n",
              "            + ' to learn more about interactive tables.';\n",
              "          element.innerHTML = '';\n",
              "          dataTable['output_type'] = 'display_data';\n",
              "          await google.colab.output.renderOutput(dataTable, element);\n",
              "          const docLink = document.createElement('div');\n",
              "          docLink.innerHTML = docLinkHtml;\n",
              "          element.appendChild(docLink);\n",
              "        }\n",
              "      </script>\n",
              "    </div>\n",
              "  </div>\n",
              "  "
            ]
          },
          "metadata": {},
          "execution_count": 1
        }
      ],
      "source": [
        "import pandas as pd\n",
        "\n",
        "url='https://drive.google.com/file/d/1-vBpWV0H0cxX5jSeHlQIKXIiosMKwq2t/view?usp=sharing'\n",
        "file_id=url.split('/')[-2]\n",
        "dwn_url='https://drive.google.com/uc?id=' + file_id\n",
        "df = pd.read_csv(dwn_url)\n",
        "\n",
        "df.head()"
      ]
    },
    {
      "cell_type": "code",
      "source": [
        "reviews = df"
      ],
      "metadata": {
        "id": "rv69gqId-owk"
      },
      "execution_count": null,
      "outputs": []
    },
    {
      "cell_type": "code",
      "source": [
        "reviews.shape"
      ],
      "metadata": {
        "colab": {
          "base_uri": "https://localhost:8080/"
        },
        "id": "G2CnfmGF-wKn",
        "outputId": "6a14d9b2-d077-4a4e-a366-2c66a4e42cc1"
      },
      "execution_count": null,
      "outputs": [
        {
          "output_type": "execute_result",
          "data": {
            "text/plain": [
              "(50000, 18)"
            ]
          },
          "metadata": {},
          "execution_count": 3
        }
      ]
    },
    {
      "cell_type": "code",
      "source": [
        "uniformed_review = reviews\n",
        "import numpy as np\n",
        "import matplotlib.pyplot as plt\n",
        "from matplotlib.ticker import PercentFormatter\n",
        "plt.hist(uniformed_review[\"review_stars\"],weights=np.ones(len(uniformed_review[\"review_stars\"])) / len(uniformed_review[\"review_stars\"]))\n",
        "plt.gca().yaxis.set_major_formatter(PercentFormatter(1))\n",
        "plt.show()"
      ],
      "metadata": {
        "colab": {
          "base_uri": "https://localhost:8080/",
          "height": 265
        },
        "id": "i8mCrGI5-yjN",
        "outputId": "013edf22-2675-4b03-8953-67d8132eae7f"
      },
      "execution_count": null,
      "outputs": [
        {
          "output_type": "display_data",
          "data": {
            "text/plain": [
              "<Figure size 432x288 with 1 Axes>"
            ],
            "image/png": "[encoded data removed]"
          },
          "metadata": {
            "needs_background": "light"
          }
        }
      ]
    },
    {
      "cell_type": "code",
      "source": [
        "uniformed_review.review_stars.dtypes"
      ],
      "metadata": {
        "colab": {
          "base_uri": "https://localhost:8080/"
        },
        "id": "Vo9Xjrmq-03Y",
        "outputId": "4a95b09f-2d0a-49b2-91da-0b04a0362856"
      },
      "execution_count": null,
      "outputs": [
        {
          "output_type": "execute_result",
          "data": {
            "text/plain": [
              "dtype('int64')"
            ]
          },
          "metadata": {},
          "execution_count": 5
        }
      ]
    },
    {
      "cell_type": "code",
      "source": [
        ""
      ],
      "metadata": {
        "id": "6pY7zzct-4Wn"
      },
      "execution_count": null,
      "outputs": []
    },
    {
      "cell_type": "markdown",
      "source": [
        "# Creating 3 categories for the ratings"
      ],
      "metadata": {
        "id": "DP5JI3heAGY_"
      }
    },
    {
      "cell_type": "code",
      "source": [
        "# create a list of our conditions\n",
        "conditions = [\n",
        "    (uniformed_review['review_stars'] <= 2),\n",
        "    (uniformed_review['review_stars'] == 3),\n",
        "    (uniformed_review['review_stars'] > 3)\n",
        "    ]\n",
        "\n",
        "# create a list of the values we want to assign for each condition\n",
        "values = ['Negative', 'Neutral', 'Positive']\n",
        "\n",
        "# create a new column and use np.select to assign values to it using our lists as arguments\n",
        "uniformed_review['three_star'] = np.select(conditions, values)\n",
        "\n",
        "# display updated DataFrame\n",
        "uniformed_review.head()"
      ],
      "metadata": {
        "colab": {
          "base_uri": "https://localhost:8080/",
          "height": 686
        },
        "id": "Q9EUfrYnAJaR",
        "outputId": "e35f2696-b4b3-4d01-e10d-47022dcd5512"
      },
      "execution_count": null,
      "outputs": [
        {
          "output_type": "execute_result",
          "data": {
            "text/plain": [
              "              business_id                                 name  \\\n",
              "0  0tGuFBrhM03I6TCLxDQhyg             Dancing Goats Coffee Bar   \n",
              "1  498F3rnpng6qv53S9diTSw                        Boston Market   \n",
              "2  7qBi3FMT2Oz4Jj1hCWwawA                     Bea's Nail Salon   \n",
              "3  K4X4nJVp0BcSn9Cvoavk8A                 T'Kilas Tacos & More   \n",
              "4  D6U1_06gxciRs1NoYjwhKQ  ESPN Club - Temporarily Unavailable   \n",
              "\n",
              "                     address     city state postal_code   latitude  longitude  \\\n",
              "0    419 W Ponce De Leon Ave  Decatur    GA       30030  33.775805 -84.303269   \n",
              "1    4607 Braker Ln, Ste 100   Austin    TX       78759  30.399832 -97.744997   \n",
              "2              75 Blossom Ct   Boston    MA       02114  42.364891 -71.066818   \n",
              "3          1248 Clairmont Rd  Decatur    GA       30030  33.789815 -84.307511   \n",
              "4  2101 N Epcot Resorts Blvd  Orlando    FL       32836  28.368008 -81.555289   \n",
              "\n",
              "   stars  review_count  is_open  \\\n",
              "0    4.0           358        1   \n",
              "1    3.0           102        1   \n",
              "2    3.0            23        1   \n",
              "3    3.0           115        0   \n",
              "4    2.5           303        1   \n",
              "\n",
              "                                          attributes  \\\n",
              "0  {'RestaurantsPriceRange2': '1', 'WiFi': \"'free...   \n",
              "1  {'BusinessAcceptsCreditCards': 'True', 'GoodFo...   \n",
              "2  {'BusinessAcceptsCreditCards': 'True', 'Restau...   \n",
              "3  {'GoodForKids': 'True', 'BikeParking': 'False'...   \n",
              "4  {'GoodForKids': 'True', 'Caters': 'False', 'Re...   \n",
              "\n",
              "                                          categories  \\\n",
              "0     Food, Coffee & Tea, Restaurants, Donuts, Cafes   \n",
              "1  American (Traditional), Caterers, Chicken Shop...   \n",
              "2                         Nail Salons, Beauty & Spas   \n",
              "3                               Mexican, Restaurants   \n",
              "4  Hotels, American (New), Event Planning & Servi...   \n",
              "\n",
              "                                               hours                 user_id  \\\n",
              "0  {'Monday': '7:0-17:0', 'Tuesday': '7:0-17:0', ...  IqUD0yoRq66PqnbSvRb5JA   \n",
              "1  {'Monday': '11:0-22:0', 'Tuesday': '11:0-22:0'...  n2eAlOnBo1St1p7MWqBFmg   \n",
              "2  {'Monday': '9:30-19:0', 'Tuesday': '9:30-19:0'...  pHTrbVN4lzTlzqqnWEJYGw   \n",
              "3  {'Monday': '11:0-22:30', 'Tuesday': '11:0-22:3...  Jfc8qYR3uEHIpU0nKzpObg   \n",
              "4  {'Monday': '0:0-0:0', 'Tuesday': '12:0-23:0', ...  Dw_oka5MVWOsaJCncfIXZQ   \n",
              "\n",
              "   review_stars                                               text  \\\n",
              "0             1  OMG!! Hate! This place. Rude to me. On so many...   \n",
              "1             1  Why bother being open on Thanksgiving if you c...   \n",
              "2             1  The fact that on a Saturday afternoon this \"sa...   \n",
              "3             1  I came to Los Loros in search of the \"strong, ...   \n",
              "4             1  My fries were stale and my cheesesteak was mos...   \n",
              "\n",
              "                  date three_star  \n",
              "0  2018-10-06 14:34:51   Negative  \n",
              "1  2019-11-28 20:02:11   Negative  \n",
              "2  2009-07-11 19:59:46   Negative  \n",
              "3  2008-09-08 21:34:50   Negative  \n",
              "4  2018-01-14 01:41:50   Negative  "
            ],
            "text/html": [
              "\n",
              "  <div id=\"df-3a1964f0-925b-4def-b678-41ccd89f4501\">\n",
              "    <div class=\"colab-df-container\">\n",
              "      <div>\n",
              "<style scoped>\n",
              "    .dataframe tbody tr th:only-of-type {\n",
              "        vertical-align: middle;\n",
              "    }\n",
              "\n",
              "    .dataframe tbody tr th {\n",
              "        vertical-align: top;\n",
              "    }\n",
              "\n",
              "    .dataframe thead th {\n",
              "        text-align: right;\n",
              "    }\n",
              "</style>\n",
              "<table border=\"1\" class=\"dataframe\">\n",
              "  <thead>\n",
              "    <tr style=\"text-align: right;\">\n",
              "      <th></th>\n",
              "      <th>business_id</th>\n",
              "      <th>name</th>\n",
              "      <th>address</th>\n",
              "      <th>city</th>\n",
              "      <th>state</th>\n",
              "      <th>postal_code</th>\n",
              "      <th>latitude</th>\n",
              "      <th>longitude</th>\n",
              "      <th>stars</th>\n",
              "      <th>review_count</th>\n",
              "      <th>is_open</th>\n",
              "      <th>attributes</th>\n",
              "      <th>categories</th>\n",
              "      <th>hours</th>\n",
              "      <th>user_id</th>\n",
              "      <th>review_stars</th>\n",
              "      <th>text</th>\n",
              "      <th>date</th>\n",
              "      <th>three_star</th>\n",
              "    </tr>\n",
              "  </thead>\n",
              "  <tbody>\n",
              "    <tr>\n",
              "      <th>0</th>\n",
              "      <td>0tGuFBrhM03I6TCLxDQhyg</td>\n",
              "      <td>Dancing Goats Coffee Bar</td>\n",
              "      <td>419 W Ponce De Leon Ave</td>\n",
              "      <td>Decatur</td>\n",
              "      <td>GA</td>\n",
              "      <td>30030</td>\n",
              "      <td>33.775805</td>\n",
              "      <td>-84.303269</td>\n",
              "      <td>4.0</td>\n",
              "      <td>358</td>\n",
              "      <td>1</td>\n",
              "      <td>{'RestaurantsPriceRange2': '1', 'WiFi': \"'free...</td>\n",
              "      <td>Food, Coffee &amp; Tea, Restaurants, Donuts, Cafes</td>\n",
              "      <td>{'Monday': '7:0-17:0', 'Tuesday': '7:0-17:0', ...</td>\n",
              "      <td>IqUD0yoRq66PqnbSvRb5JA</td>\n",
              "      <td>1</td>\n",
              "      <td>OMG!! Hate! This place. Rude to me. On so many...</td>\n",
              "      <td>2018-10-06 14:34:51</td>\n",
              "      <td>Negative</td>\n",
              "    </tr>\n",
              "    <tr>\n",
              "      <th>1</th>\n",
              "      <td>498F3rnpng6qv53S9diTSw</td>\n",
              "      <td>Boston Market</td>\n",
              "      <td>4607 Braker Ln, Ste 100</td>\n",
              "      <td>Austin</td>\n",
              "      <td>TX</td>\n",
              "      <td>78759</td>\n",
              "      <td>30.399832</td>\n",
              "      <td>-97.744997</td>\n",
              "      <td>3.0</td>\n",
              "      <td>102</td>\n",
              "      <td>1</td>\n",
              "      <td>{'BusinessAcceptsCreditCards': 'True', 'GoodFo...</td>\n",
              "      <td>American (Traditional), Caterers, Chicken Shop...</td>\n",
              "      <td>{'Monday': '11:0-22:0', 'Tuesday': '11:0-22:0'...</td>\n",
              "      <td>n2eAlOnBo1St1p7MWqBFmg</td>\n",
              "      <td>1</td>\n",
              "      <td>Why bother being open on Thanksgiving if you c...</td>\n",
              "      <td>2019-11-28 20:02:11</td>\n",
              "      <td>Negative</td>\n",
              "    </tr>\n",
              "    <tr>\n",
              "      <th>2</th>\n",
              "      <td>7qBi3FMT2Oz4Jj1hCWwawA</td>\n",
              "      <td>Bea's Nail Salon</td>\n",
              "      <td>75 Blossom Ct</td>\n",
              "      <td>Boston</td>\n",
              "      <td>MA</td>\n",
              "      <td>02114</td>\n",
              "      <td>42.364891</td>\n",
              "      <td>-71.066818</td>\n",
              "      <td>3.0</td>\n",
              "      <td>23</td>\n",
              "      <td>1</td>\n",
              "      <td>{'BusinessAcceptsCreditCards': 'True', 'Restau...</td>\n",
              "      <td>Nail Salons, Beauty &amp; Spas</td>\n",
              "      <td>{'Monday': '9:30-19:0', 'Tuesday': '9:30-19:0'...</td>\n",
              "      <td>pHTrbVN4lzTlzqqnWEJYGw</td>\n",
              "      <td>1</td>\n",
              "      <td>The fact that on a Saturday afternoon this \"sa...</td>\n",
              "      <td>2009-07-11 19:59:46</td>\n",
              "      <td>Negative</td>\n",
              "    </tr>\n",
              "    <tr>\n",
              "      <th>3</th>\n",
              "      <td>K4X4nJVp0BcSn9Cvoavk8A</td>\n",
              "      <td>T'Kilas Tacos &amp; More</td>\n",
              "      <td>1248 Clairmont Rd</td>\n",
              "      <td>Decatur</td>\n",
              "      <td>GA</td>\n",
              "      <td>30030</td>\n",
              "      <td>33.789815</td>\n",
              "      <td>-84.307511</td>\n",
              "      <td>3.0</td>\n",
              "      <td>115</td>\n",
              "      <td>0</td>\n",
              "      <td>{'GoodForKids': 'True', 'BikeParking': 'False'...</td>\n",
              "      <td>Mexican, Restaurants</td>\n",
              "      <td>{'Monday': '11:0-22:30', 'Tuesday': '11:0-22:3...</td>\n",
              "      <td>Jfc8qYR3uEHIpU0nKzpObg</td>\n",
              "      <td>1</td>\n",
              "      <td>I came to Los Loros in search of the \"strong, ...</td>\n",
              "      <td>2008-09-08 21:34:50</td>\n",
              "      <td>Negative</td>\n",
              "    </tr>\n",
              "    <tr>\n",
              "      <th>4</th>\n",
              "      <td>D6U1_06gxciRs1NoYjwhKQ</td>\n",
              "      <td>ESPN Club - Temporarily Unavailable</td>\n",
              "      <td>2101 N Epcot Resorts Blvd</td>\n",
              "      <td>Orlando</td>\n",
              "      <td>FL</td>\n",
              "      <td>32836</td>\n",
              "      <td>28.368008</td>\n",
              "      <td>-81.555289</td>\n",
              "      <td>2.5</td>\n",
              "      <td>303</td>\n",
              "      <td>1</td>\n",
              "      <td>{'GoodForKids': 'True', 'Caters': 'False', 'Re...</td>\n",
              "      <td>Hotels, American (New), Event Planning &amp; Servi...</td>\n",
              "      <td>{'Monday': '0:0-0:0', 'Tuesday': '12:0-23:0', ...</td>\n",
              "      <td>Dw_oka5MVWOsaJCncfIXZQ</td>\n",
              "      <td>1</td>\n",
              "      <td>My fries were stale and my cheesesteak was mos...</td>\n",
              "      <td>2018-01-14 01:41:50</td>\n",
              "      <td>Negative</td>\n",
              "    </tr>\n",
              "  </tbody>\n",
              "</table>\n",
              "</div>\n",
              "      <button class=\"colab-df-convert\" onclick=\"convertToInteractive('df-3a1964f0-925b-4def-b678-41ccd89f4501')\"\n",
              "              title=\"Convert this dataframe to an interactive table.\"\n",
              "              style=\"display:none;\">\n",
              "        \n",
              "  <svg xmlns=\"http://www.w3.org/2000/svg\" height=\"24px\"viewBox=\"0 0 24 24\"\n",
              "       width=\"24px\">\n",
              "    <path d=\"M0 0h24v24H0V0z\" fill=\"none\"/>\n",
              "    <path d=\"M18.56 5.44l.94 2.06.94-2.06 2.06-.94-2.06-.94-.94-2.06-.94 2.06-2.06.94zm-11 1L8.5 8.5l.94-2.06 2.06-.94-2.06-.94L8.5 2.5l-.94 2.06-2.06.94zm10 10l.94 2.06.94-2.06 2.06-.94-2.06-.94-.94-2.06-.94 2.06-2.06.94z\"/><path d=\"M17.41 7.96l-1.37-1.37c-.4-.4-.92-.59-1.43-.59-.52 0-1.04.2-1.43.59L10.3 9.45l-7.72 7.72c-.78.78-.78 2.05 0 2.83L4 21.41c.39.39.9.59 1.41.59.51 0 1.02-.2 1.41-.59l7.78-7.78 2.81-2.81c.8-.78.8-2.07 0-2.86zM5.41 20L4 18.59l7.72-7.72 1.47 1.35L5.41 20z\"/>\n",
              "  </svg>\n",
              "      </button>\n",
              "      \n",
              "  <style>\n",
              "    .colab-df-container {\n",
              "      display:flex;\n",
              "      flex-wrap:wrap;\n",
              "      gap: 12px;\n",
              "    }\n",
              "\n",
              "    .colab-df-convert {\n",
              "      background-color: #E8F0FE;\n",
              "      border: none;\n",
              "      border-radius: 50%;\n",
              "      cursor: pointer;\n",
              "      display: none;\n",
              "      fill: #1967D2;\n",
              "      height: 32px;\n",
              "      padding: 0 0 0 0;\n",
              "      width: 32px;\n",
              "    }\n",
              "\n",
              "    .colab-df-convert:hover {\n",
              "      background-color: #E2EBFA;\n",
              "      box-shadow: 0px 1px 2px rgba(60, 64, 67, 0.3), 0px 1px 3px 1px rgba(60, 64, 67, 0.15);\n",
              "      fill: #174EA6;\n",
              "    }\n",
              "\n",
              "    [theme=dark] .colab-df-convert {\n",
              "      background-color: #3B4455;\n",
              "      fill: #D2E3FC;\n",
              "    }\n",
              "\n",
              "    [theme=dark] .colab-df-convert:hover {\n",
              "      background-color: #434B5C;\n",
              "      box-shadow: 0px 1px 3px 1px rgba(0, 0, 0, 0.15);\n",
              "      filter: drop-shadow(0px 1px 2px rgba(0, 0, 0, 0.3));\n",
              "      fill: #FFFFFF;\n",
              "    }\n",
              "  </style>\n",
              "\n",
              "      <script>\n",
              "        const buttonEl =\n",
              "          document.querySelector('#df-3a1964f0-925b-4def-b678-41ccd89f4501 button.colab-df-convert');\n",
              "        buttonEl.style.display =\n",
              "          google.colab.kernel.accessAllowed ? 'block' : 'none';\n",
              "\n",
              "        async function convertToInteractive(key) {\n",
              "          const element = document.querySelector('#df-3a1964f0-925b-4def-b678-41ccd89f4501');\n",
              "          const dataTable =\n",
              "            await google.colab.kernel.invokeFunction('convertToInteractive',\n",
              "                                                     [key], {});\n",
              "          if (!dataTable) return;\n",
              "\n",
              "          const docLinkHtml = 'Like what you see? Visit the ' +\n",
              "            '<a target=\"_blank\" href=https://colab.research.google.com/notebooks/data_table.ipynb>data table notebook</a>'\n",
              "            + ' to learn more about interactive tables.';\n",
              "          element.innerHTML = '';\n",
              "          dataTable['output_type'] = 'display_data';\n",
              "          await google.colab.output.renderOutput(dataTable, element);\n",
              "          const docLink = document.createElement('div');\n",
              "          docLink.innerHTML = docLinkHtml;\n",
              "          element.appendChild(docLink);\n",
              "        }\n",
              "      </script>\n",
              "    </div>\n",
              "  </div>\n",
              "  "
            ]
          },
          "metadata": {},
          "execution_count": 6
        }
      ]
    },
    {
      "cell_type": "code",
      "source": [
        "plt.hist(uniformed_review[\"three_star\"],weights=np.ones(len(uniformed_review[\"three_star\"])) / len(uniformed_review[\"three_star\"]))\n",
        "plt.gca().yaxis.set_major_formatter(PercentFormatter(1))\n",
        "plt.show()"
      ],
      "metadata": {
        "colab": {
          "base_uri": "https://localhost:8080/",
          "height": 265
        },
        "id": "t_ors08iBBQ4",
        "outputId": "65276691-af36-4ff1-cbad-f7ee5425dd75"
      },
      "execution_count": null,
      "outputs": [
        {
          "output_type": "display_data",
          "data": {
            "text/plain": [
              "<Figure size 432x288 with 1 Axes>"
            ],
            "image/png": "[encoded data removed]"
          },
          "metadata": {
            "needs_background": "light"
          }
        }
      ]
    },
    {
      "cell_type": "code",
      "source": [
        "reviews_smallest = uniformed_review[uniformed_review[\"three_star\"] == 'Neutral']\n",
        "\n",
        "## sampling negative review:\n",
        "reviews_neg = uniformed_review[uniformed_review[\"three_star\"] == 'Negative']\n",
        "reviews_neg = reviews_neg.sample(n=reviews_smallest.shape[0])\n",
        "\n",
        "\n",
        "## sampling positive review:\n",
        "reviews_pos = uniformed_review[uniformed_review[\"three_star\"] == 'Positive']\n",
        "reviews_pos = reviews_pos.sample(n=reviews_smallest.shape[0])\n",
        "\n",
        "uniformed_review = reviews_smallest.append([reviews_neg, reviews_pos])\n",
        "uniformed_review.shape"
      ],
      "metadata": {
        "colab": {
          "base_uri": "https://localhost:8080/"
        },
        "id": "D_65Wqf7BMW7",
        "outputId": "f46c6cee-d038-4f06-f98e-652a0bbcd22a"
      },
      "execution_count": null,
      "outputs": [
        {
          "output_type": "execute_result",
          "data": {
            "text/plain": [
              "(30000, 19)"
            ]
          },
          "metadata": {},
          "execution_count": 8
        }
      ]
    },
    {
      "cell_type": "code",
      "source": [
        ""
      ],
      "metadata": {
        "id": "gkWOxuK-C4S6"
      },
      "execution_count": null,
      "outputs": []
    },
    {
      "cell_type": "markdown",
      "source": [
        "# Fasttext"
      ],
      "metadata": {
        "id": "5CRwX2ZeDBRb"
      }
    },
    {
      "cell_type": "code",
      "source": [
        "!pip install fasttext\n",
        "import fasttext as ft\n",
        "import random\n",
        "import csv"
      ],
      "metadata": {
        "colab": {
          "base_uri": "https://localhost:8080/"
        },
        "id": "KfnE3d6bDDK3",
        "outputId": "bae93c2a-955c-44d4-f026-9c4b49e793a6"
      },
      "execution_count": null,
      "outputs": [
        {
          "output_type": "stream",
          "name": "stdout",
          "text": [
            "Collecting fasttext\n",
            "  Downloading fasttext-0.9.2.tar.gz (68 kB)\n",
            "\u001b[?25l\r\u001b[K     |████▊                           | 10 kB 21.5 MB/s eta 0:00:01\r\u001b[K     |█████████▌                      | 20 kB 8.8 MB/s eta 0:00:01\r\u001b[K     |██████████████▎                 | 30 kB 5.6 MB/s eta 0:00:01\r\u001b[K     |███████████████████             | 40 kB 5.2 MB/s eta 0:00:01\r\u001b[K     |███████████████████████▉        | 51 kB 3.3 MB/s eta 0:00:01\r\u001b[K     |████████████████████████████▋   | 61 kB 3.9 MB/s eta 0:00:01\r\u001b[K     |████████████████████████████████| 68 kB 2.8 MB/s \n",
            "\u001b[?25hCollecting pybind11>=2.2\n",
            "  Using cached pybind11-2.9.2-py2.py3-none-any.whl (213 kB)\n",
            "Requirement already satisfied: setuptools>=0.7.0 in /usr/local/lib/python3.7/dist-packages (from fasttext) (57.4.0)\n",
            "Requirement already satisfied: numpy in /usr/local/lib/python3.7/dist-packages (from fasttext) (1.21.6)\n",
            "Building wheels for collected packages: fasttext\n",
            "  Building wheel for fasttext (setup.py) ... \u001b[?25l\u001b[?25hdone\n",
            "  Created wheel for fasttext: filename=fasttext-0.9.2-cp37-cp37m-linux_x86_64.whl size=3139623 sha256=52674e89ef503dc2ab6a0de5398ae4bef2bf5b58a98a65ac03c3cbf514a50c08\n",
            "  Stored in directory: /root/.cache/pip/wheels/4e/ca/bf/b020d2be95f7641801a6597a29c8f4f19e38f9c02a345bab9b\n",
            "Successfully built fasttext\n",
            "Installing collected packages: pybind11, fasttext\n",
            "Successfully installed fasttext-0.9.2 pybind11-2.9.2\n"
          ]
        }
      ]
    },
    {
      "cell_type": "code",
      "source": [
        "uniformed_review['ratings'] = '__label__' + uniformed_review['three_star'].astype(str)\n",
        "uniformed_review['text_with_rating'] = uniformed_review['ratings']+\" \" + uniformed_review['text'].astype(str)\n",
        "review = uniformed_review['text_with_rating']\n",
        "review.head()"
      ],
      "metadata": {
        "colab": {
          "base_uri": "https://localhost:8080/"
        },
        "id": "-_Q-LI9JDD0k",
        "outputId": "a25886fb-210d-4857-e3fe-430835768906"
      },
      "execution_count": null,
      "outputs": [
        {
          "output_type": "execute_result",
          "data": {
            "text/plain": [
              "20000    __label__Neutral Wait in line for an hour befo...\n",
              "20001    __label__Neutral Bell in Hand's a fun bar for ...\n",
              "20002    __label__Neutral Easy process. Not much to it,...\n",
              "20003    __label__Neutral Fast food style of pho. Not a...\n",
              "20004    __label__Neutral This is your standard Chinese...\n",
              "Name: text_with_rating, dtype: object"
            ]
          },
          "metadata": {},
          "execution_count": 12
        }
      ]
    },
    {
      "cell_type": "code",
      "source": [
        ""
      ],
      "metadata": {
        "id": "gcM_R6O9DTn5"
      },
      "execution_count": null,
      "outputs": []
    },
    {
      "cell_type": "code",
      "source": [
        "############################################\n",
        "#### Data partition for cross validation ###\n",
        "############################################\n",
        "\n",
        "index1 = random.sample(list(review.index),int(len(review)*0.8))\n",
        "index2 = random.sample(list(review.index),int(len(review)*0.8))\n",
        "index3 = random.sample(list(review.index),int(len(review)*0.8))\n",
        "index4 = random.sample(list(review.index),int(len(review)*0.8))\n",
        "index5 = random.sample(list(review.index),int(len(review)*0.8))\n",
        "index6 = random.sample(list(review.index),int(len(review)*0.8))\n",
        "index7 = random.sample(list(review.index),int(len(review)*0.8))\n",
        "index8 = random.sample(list(review.index),int(len(review)*0.8))\n",
        "index9 = random.sample(list(review.index),int(len(review)*0.8))\n",
        "index10 = random.sample(list(review.index),int(len(review)*0.8))\n",
        "\n",
        "\n",
        "\n",
        "# Creating 10 training data set (80% data):\n",
        "\n",
        "train1 = review.loc[index1]\n",
        "train2 = review.loc[index2]\n",
        "train3 = review.loc[index3]\n",
        "train4 = review.loc[index4]\n",
        "train5 = review.loc[index5]\n",
        "train6 = review.loc[index6]\n",
        "train7 = review.loc[index7]\n",
        "train8 = review.loc[index8]\n",
        "train9 = review.loc[index9]\n",
        "train10 = review.loc[index10]\n",
        "\n",
        "\n",
        "# Create 10 validation set (10% data)\n",
        "\n",
        "valid1 = review.drop(index1)\n",
        "valid2 = review.drop(index2)\n",
        "valid3 = review.drop(index3)\n",
        "valid4 = review.drop(index4)\n",
        "valid5 = review.drop(index5)\n",
        "valid6 = review.drop(index6)\n",
        "valid7 = review.drop(index7)\n",
        "valid8 = review.drop(index8)\n",
        "valid9 = review.drop(index9)\n",
        "valid10 = review.drop(index10)\n",
        "\n",
        "\n",
        "index11 = random.sample(list(valid1.index),int(len(valid1)*0.5))\n",
        "index12 = random.sample(list(valid2.index),int(len(valid2)*0.5))\n",
        "index13 = random.sample(list(valid3.index),int(len(valid3)*0.5))\n",
        "index14 = random.sample(list(valid4.index),int(len(valid4)*0.5))\n",
        "index15 = random.sample(list(valid5.index),int(len(valid5)*0.5))\n",
        "index16 = random.sample(list(valid6.index),int(len(valid6)*0.5))\n",
        "index17 = random.sample(list(valid7.index),int(len(valid7)*0.5))\n",
        "index18 = random.sample(list(valid8.index),int(len(valid8)*0.5))\n",
        "index19 = random.sample(list(valid9.index),int(len(valid9)*0.5))\n",
        "index20 = random.sample(list(valid10.index),int(len(valid10)*0.5))\n",
        "\n",
        "\n",
        "test1 = valid1.loc[index11]\n",
        "test2 = valid2.loc[index12]\n",
        "test3 = valid3.loc[index13]\n",
        "test4 = valid4.loc[index14]\n",
        "test5 = valid5.loc[index15]\n",
        "test6 = valid6.loc[index16]\n",
        "test7 = valid7.loc[index17]\n",
        "test8 = valid8.loc[index18]\n",
        "test9 = valid9.loc[index19]\n",
        "test10 = valid10.loc[index20]\n",
        "\n",
        "valid1 = valid1.drop(index11)\n",
        "valid2 = valid2.drop(index12)\n",
        "valid3 = valid3.drop(index13)\n",
        "valid4 = valid4.drop(index14)\n",
        "valid5 = valid5.drop(index15)\n",
        "valid6 = valid6.drop(index16)\n",
        "valid7 = valid7.drop(index17)\n",
        "valid8 = valid8.drop(index18)\n",
        "valid9 = valid9.drop(index19)\n",
        "valid10 = valid10.drop(index20)"
      ],
      "metadata": {
        "id": "Qevb_xnKDlho"
      },
      "execution_count": null,
      "outputs": []
    },
    {
      "cell_type": "code",
      "source": [
        ""
      ],
      "metadata": {
        "id": "cPIa9YpZDolH"
      },
      "execution_count": null,
      "outputs": []
    },
    {
      "cell_type": "code",
      "source": [
        "# Saving the splitted data to run the models:\n",
        "\n",
        "train1.to_csv(r'train1.txt', index=False, sep=' ', header=False, quoting=csv.QUOTE_NONE, quotechar=\"\", escapechar=\" \")\n",
        "test1.to_csv(r'test1.txt', index=False, sep=' ', header=False, quoting=csv.QUOTE_NONE, quotechar=\"\", escapechar=\" \")\n",
        "valid1.to_csv(r'valid1.txt', index=False, sep=' ', header=False, quoting=csv.QUOTE_NONE, quotechar=\"\", escapechar=\" \")\n",
        "\n",
        "train2.to_csv(r'train2.txt', index=False, sep=' ', header=False, quoting=csv.QUOTE_NONE, quotechar=\"\", escapechar=\" \")\n",
        "test2.to_csv(r'test2.txt', index=False, sep=' ', header=False, quoting=csv.QUOTE_NONE, quotechar=\"\", escapechar=\" \")\n",
        "valid2.to_csv(r'valid2.txt', index=False, sep=' ', header=False, quoting=csv.QUOTE_NONE, quotechar=\"\", escapechar=\" \")\n",
        "\n",
        "train3.to_csv(r'train3.txt', index=False, sep=' ', header=False, quoting=csv.QUOTE_NONE, quotechar=\"\", escapechar=\" \")\n",
        "test3.to_csv(r'test3.txt', index=False, sep=' ', header=False, quoting=csv.QUOTE_NONE, quotechar=\"\", escapechar=\" \")\n",
        "valid3.to_csv(r'valid3.txt', index=False, sep=' ', header=False, quoting=csv.QUOTE_NONE, quotechar=\"\", escapechar=\" \")\n",
        "\n",
        "train4.to_csv(r'train4.txt', index=False, sep=' ', header=False, quoting=csv.QUOTE_NONE, quotechar=\"\", escapechar=\" \")\n",
        "test4.to_csv(r'test4.txt', index=False, sep=' ', header=False, quoting=csv.QUOTE_NONE, quotechar=\"\", escapechar=\" \")\n",
        "valid4.to_csv(r'valid4.txt', index=False, sep=' ', header=False, quoting=csv.QUOTE_NONE, quotechar=\"\", escapechar=\" \")\n",
        "\n",
        "train5.to_csv(r'train5.txt', index=False, sep=' ', header=False, quoting=csv.QUOTE_NONE, quotechar=\"\", escapechar=\" \")\n",
        "test5.to_csv(r'test5.txt', index=False, sep=' ', header=False, quoting=csv.QUOTE_NONE, quotechar=\"\", escapechar=\" \")\n",
        "valid5.to_csv(r'valid5.txt', index=False, sep=' ', header=False, quoting=csv.QUOTE_NONE, quotechar=\"\", escapechar=\" \")\n",
        "\n",
        "train6.to_csv(r'train6.txt', index=False, sep=' ', header=False, quoting=csv.QUOTE_NONE, quotechar=\"\", escapechar=\" \")\n",
        "test6.to_csv(r'test6.txt', index=False, sep=' ', header=False, quoting=csv.QUOTE_NONE, quotechar=\"\", escapechar=\" \")\n",
        "valid6.to_csv(r'valid6.txt', index=False, sep=' ', header=False, quoting=csv.QUOTE_NONE, quotechar=\"\", escapechar=\" \")\n",
        "\n",
        "train7.to_csv(r'train7.txt', index=False, sep=' ', header=False, quoting=csv.QUOTE_NONE, quotechar=\"\", escapechar=\" \")\n",
        "test7.to_csv(r'test7.txt', index=False, sep=' ', header=False, quoting=csv.QUOTE_NONE, quotechar=\"\", escapechar=\" \")\n",
        "valid7.to_csv(r'valid7.txt', index=False, sep=' ', header=False, quoting=csv.QUOTE_NONE, quotechar=\"\", escapechar=\" \")\n",
        "\n",
        "train8.to_csv(r'train8.txt', index=False, sep=' ', header=False, quoting=csv.QUOTE_NONE, quotechar=\"\", escapechar=\" \")\n",
        "test8.to_csv(r'test8.txt', index=False, sep=' ', header=False, quoting=csv.QUOTE_NONE, quotechar=\"\", escapechar=\" \")\n",
        "valid8.to_csv(r'valid8.txt', index=False, sep=' ', header=False, quoting=csv.QUOTE_NONE, quotechar=\"\", escapechar=\" \")\n",
        "\n",
        "train9.to_csv(r'train9.txt', index=False, sep=' ', header=False, quoting=csv.QUOTE_NONE, quotechar=\"\", escapechar=\" \")\n",
        "test9.to_csv(r'test9.txt', index=False, sep=' ', header=False, quoting=csv.QUOTE_NONE, quotechar=\"\", escapechar=\" \")\n",
        "valid9.to_csv(r'valid9.txt', index=False, sep=' ', header=False, quoting=csv.QUOTE_NONE, quotechar=\"\", escapechar=\" \")\n",
        "\n",
        "train10.to_csv(r'train10.txt', index=False, sep=' ', header=False, quoting=csv.QUOTE_NONE, quotechar=\"\", escapechar=\" \")\n",
        "test10.to_csv(r'test10.txt', index=False, sep=' ', header=False, quoting=csv.QUOTE_NONE, quotechar=\"\", escapechar=\" \")\n",
        "valid10.to_csv(r'valid10.txt', index=False, sep=' ', header=False, quoting=csv.QUOTE_NONE, quotechar=\"\", escapechar=\" \")"
      ],
      "metadata": {
        "id": "0a_AjjZoDr25"
      },
      "execution_count": null,
      "outputs": []
    },
    {
      "cell_type": "code",
      "source": [
        "def train_valid_fasttext(train_data,valid_data,data_split):\n",
        "    model = []\n",
        "    para = []\n",
        "\n",
        "\n",
        "    lr = [0.1]\n",
        "    wng = [3]\n",
        "    dim = [50]\n",
        "    epoch = [1,2,3,4,5,6,7,8,9,10]\n",
        "    \n",
        "    for learning_rate in range(len(lr)):\n",
        "        for wordngram in range(len(wng)):\n",
        "            for layer in range(len(dim)):\n",
        "                for epo in range(len(epoch)):\n",
        "                    model.append(ft.train_supervised(train_data, lr = lr[learning_rate],dim = dim[layer], epoch = epoch[epo], wordNgrams=wng[wordngram]))\n",
        "                    para.append((lr[learning_rate],wng[wordngram],dim[layer],epoch[epo]))\n",
        "\n",
        "\n",
        "    accu_train = []\n",
        "    accu_valid = []\n",
        "\n",
        "    for i in range(len(model)):\n",
        "        accu_train.append(model[i].test(train_data))\n",
        "\n",
        "\n",
        "    for i in range(len(model)):\n",
        "        accu_valid.append(model[i].test(valid_data))\n",
        "  \n",
        "  \n",
        "    accu_train = pd.DataFrame(accu_train)\n",
        "    del accu_train[2]\n",
        "    accu_train.columns = [\"Number of observation in training\",\"Accuracy on training data\"] \n",
        "\n",
        "\n",
        "\n",
        "    accu_valid = pd.DataFrame(accu_valid)\n",
        "    del accu_valid[2]\n",
        "    accu_valid.columns = [\"Number of observation in validation\",\"Accuracy on validation data\"] \n",
        "\n",
        "\n",
        "\n",
        "    accu_train_test = pd.concat([accu_train,accu_valid], axis=1)\n",
        "    parameter = pd.DataFrame(para) \n",
        "    parameter.columns = [\"Learning Rate\",\"Word Ngram\",\"Number of layers\",\"Epochs\"]\n",
        "\n",
        "\n",
        "    results = pd.concat([parameter,accu_train_test],axis=1)\n",
        "    res = [data_split] * len(results)\n",
        "    results[\"Data\"] = res\n",
        "    \n",
        "    return(results)"
      ],
      "metadata": {
        "id": "P4V0N_Y6D0pn"
      },
      "execution_count": null,
      "outputs": []
    },
    {
      "cell_type": "code",
      "source": [
        "import time\n",
        "start = time.time()"
      ],
      "metadata": {
        "id": "YJNZm9I7IxA2"
      },
      "execution_count": null,
      "outputs": []
    },
    {
      "cell_type": "code",
      "source": [
        "r1 = train_valid_fasttext(train_data = \"train1.txt\",valid_data = \"valid1.txt\",data_split=\"Data Split 1\")\n"
      ],
      "metadata": {
        "id": "w1qZjDtCEAbL"
      },
      "execution_count": null,
      "outputs": []
    },
    {
      "cell_type": "code",
      "source": [
        "r2 = train_valid_fasttext(train_data = \"train2.txt\",valid_data = \"valid2.txt\",data_split=\"Data Split 2\")\n"
      ],
      "metadata": {
        "id": "sGD1DUhHECtB"
      },
      "execution_count": null,
      "outputs": []
    },
    {
      "cell_type": "code",
      "source": [
        "r3 = train_valid_fasttext(train_data = \"train3.txt\",valid_data = \"valid3.txt\",data_split=\"Data Split 3\")\n"
      ],
      "metadata": {
        "id": "91k9Z2l3EEva"
      },
      "execution_count": null,
      "outputs": []
    },
    {
      "cell_type": "code",
      "source": [
        "r4 = train_valid_fasttext(train_data = \"train4.txt\",valid_data = \"valid4.txt\",data_split=\"Data Split 4\")\n"
      ],
      "metadata": {
        "id": "Ktn2nchiEHBC"
      },
      "execution_count": null,
      "outputs": []
    },
    {
      "cell_type": "code",
      "source": [
        "r5 = train_valid_fasttext(train_data = \"train5.txt\",valid_data = \"valid5.txt\",data_split=\"Data Split 5\")\n"
      ],
      "metadata": {
        "id": "SS_P7HxuEJBT"
      },
      "execution_count": null,
      "outputs": []
    },
    {
      "cell_type": "code",
      "source": [
        "r6 = train_valid_fasttext(train_data = \"train6.txt\",valid_data = \"valid6.txt\",data_split=\"Data Split 6\")\n"
      ],
      "metadata": {
        "id": "0jOZSdH-EK6H"
      },
      "execution_count": null,
      "outputs": []
    },
    {
      "cell_type": "code",
      "source": [
        "r7 = train_valid_fasttext(train_data = \"train7.txt\",valid_data = \"valid7.txt\",data_split=\"Data Split 7\")\n"
      ],
      "metadata": {
        "id": "L99LVmQPEM6O"
      },
      "execution_count": null,
      "outputs": []
    },
    {
      "cell_type": "code",
      "source": [
        "r8 = train_valid_fasttext(train_data = \"train8.txt\",valid_data = \"valid8.txt\",data_split=\"Data Split 8\")\n"
      ],
      "metadata": {
        "id": "aSDhKP6bEPoS"
      },
      "execution_count": null,
      "outputs": []
    },
    {
      "cell_type": "code",
      "source": [
        "r9 = train_valid_fasttext(train_data = \"train9.txt\",valid_data = \"valid9.txt\",data_split=\"Data Split 9\")\n"
      ],
      "metadata": {
        "id": "ZjpcxCj0ES_2"
      },
      "execution_count": null,
      "outputs": []
    },
    {
      "cell_type": "code",
      "source": [
        "r10 = train_valid_fasttext(train_data = \"train10.txt\",valid_data = \"valid10.txt\",data_split=\"Data Split 10\")\n"
      ],
      "metadata": {
        "id": "kd4dUFCJEYFB"
      },
      "execution_count": null,
      "outputs": []
    },
    {
      "cell_type": "code",
      "source": [
        "end = time.time()\n",
        "hours, rem = divmod(end-start, 3600)\n",
        "minutes, seconds = divmod(rem, 60)\n",
        "\n",
        "print(\"Execution time: \"+\"{:0>2}:{:0>2}:{:05.2f}\".format(int(hours),int(minutes),seconds))"
      ],
      "metadata": {
        "id": "KsEcezvYEcNQ",
        "colab": {
          "base_uri": "https://localhost:8080/"
        },
        "outputId": "6c27cb18-f464-4c94-9443-d6e21f8e909a"
      },
      "execution_count": null,
      "outputs": [
        {
          "output_type": "stream",
          "name": "stdout",
          "text": [
            "Execution time: 00:14:10.71\n"
          ]
        }
      ]
    },
    {
      "cell_type": "code",
      "source": [
        "combined_results = r1.append([r2,r3,r4,r5,r6,r7,r8,r9,r10],ignore_index=True)\n",
        "accuracy_training = combined_results.groupby('Epochs', as_index=False)['Accuracy on training data'].mean()\n",
        "accuracy_test = combined_results.groupby('Epochs', as_index=False)['Accuracy on validation data'].mean()\n",
        "accu_train_test = pd.concat([accuracy_training,accuracy_test],axis=1)\n",
        "accu_train_test"
      ],
      "metadata": {
        "colab": {
          "base_uri": "https://localhost:8080/",
          "height": 363
        },
        "id": "wGp_fWlPEn58",
        "outputId": "42abd3ba-e9e4-4004-cead-9563370c752e"
      },
      "execution_count": null,
      "outputs": [
        {
          "output_type": "execute_result",
          "data": {
            "text/plain": [
              "   Epochs  Accuracy on training data  Epochs  Accuracy on validation data\n",
              "0       1                   0.472092       1                     0.462767\n",
              "1       2                   0.473046       2                     0.463333\n",
              "2       3                   0.494142       3                     0.477833\n",
              "3       4                   0.579817       4                     0.547200\n",
              "4       5                   0.653600       5                     0.597033\n",
              "5       6                   0.713888       6                     0.622300\n",
              "6       7                   0.772450       7                     0.641700\n",
              "7       8                   0.824050       8                     0.654633\n",
              "8       9                   0.868304       9                     0.660000\n",
              "9      10                   0.905779      10                     0.662833"
            ],
            "text/html": [
              "\n",
              "  <div id=\"df-70989361-23ae-4c4f-bb86-6a7a6b7423b2\">\n",
              "    <div class=\"colab-df-container\">\n",
              "      <div>\n",
              "<style scoped>\n",
              "    .dataframe tbody tr th:only-of-type {\n",
              "        vertical-align: middle;\n",
              "    }\n",
              "\n",
              "    .dataframe tbody tr th {\n",
              "        vertical-align: top;\n",
              "    }\n",
              "\n",
              "    .dataframe thead th {\n",
              "        text-align: right;\n",
              "    }\n",
              "</style>\n",
              "<table border=\"1\" class=\"dataframe\">\n",
              "  <thead>\n",
              "    <tr style=\"text-align: right;\">\n",
              "      <th></th>\n",
              "      <th>Epochs</th>\n",
              "      <th>Accuracy on training data</th>\n",
              "      <th>Epochs</th>\n",
              "      <th>Accuracy on validation data</th>\n",
              "    </tr>\n",
              "  </thead>\n",
              "  <tbody>\n",
              "    <tr>\n",
              "      <th>0</th>\n",
              "      <td>1</td>\n",
              "      <td>0.472092</td>\n",
              "      <td>1</td>\n",
              "      <td>0.462767</td>\n",
              "    </tr>\n",
              "    <tr>\n",
              "      <th>1</th>\n",
              "      <td>2</td>\n",
              "      <td>0.473046</td>\n",
              "      <td>2</td>\n",
              "      <td>0.463333</td>\n",
              "    </tr>\n",
              "    <tr>\n",
              "      <th>2</th>\n",
              "      <td>3</td>\n",
              "      <td>0.494142</td>\n",
              "      <td>3</td>\n",
              "      <td>0.477833</td>\n",
              "    </tr>\n",
              "    <tr>\n",
              "      <th>3</th>\n",
              "      <td>4</td>\n",
              "      <td>0.579817</td>\n",
              "      <td>4</td>\n",
              "      <td>0.547200</td>\n",
              "    </tr>\n",
              "    <tr>\n",
              "      <th>4</th>\n",
              "      <td>5</td>\n",
              "      <td>0.653600</td>\n",
              "      <td>5</td>\n",
              "      <td>0.597033</td>\n",
              "    </tr>\n",
              "    <tr>\n",
              "      <th>5</th>\n",
              "      <td>6</td>\n",
              "      <td>0.713888</td>\n",
              "      <td>6</td>\n",
              "      <td>0.622300</td>\n",
              "    </tr>\n",
              "    <tr>\n",
              "      <th>6</th>\n",
              "      <td>7</td>\n",
              "      <td>0.772450</td>\n",
              "      <td>7</td>\n",
              "      <td>0.641700</td>\n",
              "    </tr>\n",
              "    <tr>\n",
              "      <th>7</th>\n",
              "      <td>8</td>\n",
              "      <td>0.824050</td>\n",
              "      <td>8</td>\n",
              "      <td>0.654633</td>\n",
              "    </tr>\n",
              "    <tr>\n",
              "      <th>8</th>\n",
              "      <td>9</td>\n",
              "      <td>0.868304</td>\n",
              "      <td>9</td>\n",
              "      <td>0.660000</td>\n",
              "    </tr>\n",
              "    <tr>\n",
              "      <th>9</th>\n",
              "      <td>10</td>\n",
              "      <td>0.905779</td>\n",
              "      <td>10</td>\n",
              "      <td>0.662833</td>\n",
              "    </tr>\n",
              "  </tbody>\n",
              "</table>\n",
              "</div>\n",
              "      <button class=\"colab-df-convert\" onclick=\"convertToInteractive('df-70989361-23ae-4c4f-bb86-6a7a6b7423b2')\"\n",
              "              title=\"Convert this dataframe to an interactive table.\"\n",
              "              style=\"display:none;\">\n",
              "        \n",
              "  <svg xmlns=\"http://www.w3.org/2000/svg\" height=\"24px\"viewBox=\"0 0 24 24\"\n",
              "       width=\"24px\">\n",
              "    <path d=\"M0 0h24v24H0V0z\" fill=\"none\"/>\n",
              "    <path d=\"M18.56 5.44l.94 2.06.94-2.06 2.06-.94-2.06-.94-.94-2.06-.94 2.06-2.06.94zm-11 1L8.5 8.5l.94-2.06 2.06-.94-2.06-.94L8.5 2.5l-.94 2.06-2.06.94zm10 10l.94 2.06.94-2.06 2.06-.94-2.06-.94-.94-2.06-.94 2.06-2.06.94z\"/><path d=\"M17.41 7.96l-1.37-1.37c-.4-.4-.92-.59-1.43-.59-.52 0-1.04.2-1.43.59L10.3 9.45l-7.72 7.72c-.78.78-.78 2.05 0 2.83L4 21.41c.39.39.9.59 1.41.59.51 0 1.02-.2 1.41-.59l7.78-7.78 2.81-2.81c.8-.78.8-2.07 0-2.86zM5.41 20L4 18.59l7.72-7.72 1.47 1.35L5.41 20z\"/>\n",
              "  </svg>\n",
              "      </button>\n",
              "      \n",
              "  <style>\n",
              "    .colab-df-container {\n",
              "      display:flex;\n",
              "      flex-wrap:wrap;\n",
              "      gap: 12px;\n",
              "    }\n",
              "\n",
              "    .colab-df-convert {\n",
              "      background-color: #E8F0FE;\n",
              "      border: none;\n",
              "      border-radius: 50%;\n",
              "      cursor: pointer;\n",
              "      display: none;\n",
              "      fill: #1967D2;\n",
              "      height: 32px;\n",
              "      padding: 0 0 0 0;\n",
              "      width: 32px;\n",
              "    }\n",
              "\n",
              "    .colab-df-convert:hover {\n",
              "      background-color: #E2EBFA;\n",
              "      box-shadow: 0px 1px 2px rgba(60, 64, 67, 0.3), 0px 1px 3px 1px rgba(60, 64, 67, 0.15);\n",
              "      fill: #174EA6;\n",
              "    }\n",
              "\n",
              "    [theme=dark] .colab-df-convert {\n",
              "      background-color: #3B4455;\n",
              "      fill: #D2E3FC;\n",
              "    }\n",
              "\n",
              "    [theme=dark] .colab-df-convert:hover {\n",
              "      background-color: #434B5C;\n",
              "      box-shadow: 0px 1px 3px 1px rgba(0, 0, 0, 0.15);\n",
              "      filter: drop-shadow(0px 1px 2px rgba(0, 0, 0, 0.3));\n",
              "      fill: #FFFFFF;\n",
              "    }\n",
              "  </style>\n",
              "\n",
              "      <script>\n",
              "        const buttonEl =\n",
              "          document.querySelector('#df-70989361-23ae-4c4f-bb86-6a7a6b7423b2 button.colab-df-convert');\n",
              "        buttonEl.style.display =\n",
              "          google.colab.kernel.accessAllowed ? 'block' : 'none';\n",
              "\n",
              "        async function convertToInteractive(key) {\n",
              "          const element = document.querySelector('#df-70989361-23ae-4c4f-bb86-6a7a6b7423b2');\n",
              "          const dataTable =\n",
              "            await google.colab.kernel.invokeFunction('convertToInteractive',\n",
              "                                                     [key], {});\n",
              "          if (!dataTable) return;\n",
              "\n",
              "          const docLinkHtml = 'Like what you see? Visit the ' +\n",
              "            '<a target=\"_blank\" href=https://colab.research.google.com/notebooks/data_table.ipynb>data table notebook</a>'\n",
              "            + ' to learn more about interactive tables.';\n",
              "          element.innerHTML = '';\n",
              "          dataTable['output_type'] = 'display_data';\n",
              "          await google.colab.output.renderOutput(dataTable, element);\n",
              "          const docLink = document.createElement('div');\n",
              "          docLink.innerHTML = docLinkHtml;\n",
              "          element.appendChild(docLink);\n",
              "        }\n",
              "      </script>\n",
              "    </div>\n",
              "  </div>\n",
              "  "
            ]
          },
          "metadata": {},
          "execution_count": 40
        }
      ]
    },
    {
      "cell_type": "code",
      "source": [
        "# summarize history for accuracy\n",
        "plt.plot(accu_train_test['Accuracy on training data'])\n",
        "plt.plot(accu_train_test['Accuracy on validation data'])\n",
        "plt.title('Model accuracy Fasttext')\n",
        "plt.ylabel('accuracy')\n",
        "plt.xlabel('epoch')\n",
        "plt.legend(['train', 'test'], loc='upper left')\n",
        "plt.show()"
      ],
      "metadata": {
        "colab": {
          "base_uri": "https://localhost:8080/",
          "height": 295
        },
        "id": "9v6lF_spEoUH",
        "outputId": "fb775b5c-dcb4-4ebb-d4cd-a587cd94e4de"
      },
      "execution_count": null,
      "outputs": [
        {
          "output_type": "display_data",
          "data": {
            "text/plain": [
              "<Figure size 432x288 with 1 Axes>"
            ],
            "image/png": "[encoded data removed]"
          },
          "metadata": {
            "needs_background": "light"
          }
        }
      ]
    },
    {
      "cell_type": "code",
      "source": [
        ""
      ],
      "metadata": {
        "id": "unY4tRffIIW5"
      },
      "execution_count": null,
      "outputs": []
    },
    {
      "cell_type": "markdown",
      "source": [
        "# Only two types of reveiw (Positive and Negative)"
      ],
      "metadata": {
        "id": "t2s58wxZJN-K"
      }
    },
    {
      "cell_type": "code",
      "source": [
        "# Drop a row by condition\n",
        "uniformed_review = uniformed_review[uniformed_review.three_star != 'Neutral']"
      ],
      "metadata": {
        "id": "DvJ26kCDJW12"
      },
      "execution_count": null,
      "outputs": []
    },
    {
      "cell_type": "code",
      "source": [
        "uniformed_review['ratings'] = '__label__' + uniformed_review['three_star'].astype(str)\n",
        "uniformed_review['text_with_rating'] = uniformed_review['ratings']+\" \" + uniformed_review['text'].astype(str)\n",
        "review = uniformed_review['text_with_rating']\n",
        "review.head()"
      ],
      "metadata": {
        "colab": {
          "base_uri": "https://localhost:8080/"
        },
        "id": "izkICnn-Jyxn",
        "outputId": "833aed0e-c202-459d-a61e-b3c54a4ea0e8"
      },
      "execution_count": null,
      "outputs": [
        {
          "output_type": "execute_result",
          "data": {
            "text/plain": [
              "11936    __label__Negative THe quality of the food is r...\n",
              "14419    __label__Negative Food is not great. You know ...\n",
              "4688     __label__Negative Stopped in to ask about memb...\n",
              "19955    __label__Negative The Bun tit nuong was good, ...\n",
              "5596     __label__Negative Been here many times but thi...\n",
              "Name: text_with_rating, dtype: object"
            ]
          },
          "metadata": {},
          "execution_count": 43
        }
      ]
    },
    {
      "cell_type": "code",
      "source": [
        "review.shape"
      ],
      "metadata": {
        "colab": {
          "base_uri": "https://localhost:8080/"
        },
        "id": "uU0sIGcrJ1Zp",
        "outputId": "087b9213-03f4-49e3-c611-38995e99cdfe"
      },
      "execution_count": null,
      "outputs": [
        {
          "output_type": "execute_result",
          "data": {
            "text/plain": [
              "(20000,)"
            ]
          },
          "metadata": {},
          "execution_count": 44
        }
      ]
    },
    {
      "cell_type": "code",
      "source": [
        "############################################\n",
        "#### Data partition for cross validation ###\n",
        "############################################\n",
        "\n",
        "index1 = random.sample(list(review.index),int(len(review)*0.8))\n",
        "index2 = random.sample(list(review.index),int(len(review)*0.8))\n",
        "index3 = random.sample(list(review.index),int(len(review)*0.8))\n",
        "index4 = random.sample(list(review.index),int(len(review)*0.8))\n",
        "index5 = random.sample(list(review.index),int(len(review)*0.8))\n",
        "index6 = random.sample(list(review.index),int(len(review)*0.8))\n",
        "index7 = random.sample(list(review.index),int(len(review)*0.8))\n",
        "index8 = random.sample(list(review.index),int(len(review)*0.8))\n",
        "index9 = random.sample(list(review.index),int(len(review)*0.8))\n",
        "index10 = random.sample(list(review.index),int(len(review)*0.8))\n",
        "\n",
        "\n",
        "\n",
        "# Creating 10 training data set (80% data):\n",
        "\n",
        "train1 = review.loc[index1]\n",
        "train2 = review.loc[index2]\n",
        "train3 = review.loc[index3]\n",
        "train4 = review.loc[index4]\n",
        "train5 = review.loc[index5]\n",
        "train6 = review.loc[index6]\n",
        "train7 = review.loc[index7]\n",
        "train8 = review.loc[index8]\n",
        "train9 = review.loc[index9]\n",
        "train10 = review.loc[index10]\n",
        "\n",
        "\n",
        "# Create 10 validation set (10% data)\n",
        "\n",
        "valid1 = review.drop(index1)\n",
        "valid2 = review.drop(index2)\n",
        "valid3 = review.drop(index3)\n",
        "valid4 = review.drop(index4)\n",
        "valid5 = review.drop(index5)\n",
        "valid6 = review.drop(index6)\n",
        "valid7 = review.drop(index7)\n",
        "valid8 = review.drop(index8)\n",
        "valid9 = review.drop(index9)\n",
        "valid10 = review.drop(index10)\n",
        "\n",
        "\n",
        "index11 = random.sample(list(valid1.index),int(len(valid1)*0.5))\n",
        "index12 = random.sample(list(valid2.index),int(len(valid2)*0.5))\n",
        "index13 = random.sample(list(valid3.index),int(len(valid3)*0.5))\n",
        "index14 = random.sample(list(valid4.index),int(len(valid4)*0.5))\n",
        "index15 = random.sample(list(valid5.index),int(len(valid5)*0.5))\n",
        "index16 = random.sample(list(valid6.index),int(len(valid6)*0.5))\n",
        "index17 = random.sample(list(valid7.index),int(len(valid7)*0.5))\n",
        "index18 = random.sample(list(valid8.index),int(len(valid8)*0.5))\n",
        "index19 = random.sample(list(valid9.index),int(len(valid9)*0.5))\n",
        "index20 = random.sample(list(valid10.index),int(len(valid10)*0.5))\n",
        "\n",
        "\n",
        "test1 = valid1.loc[index11]\n",
        "test2 = valid2.loc[index12]\n",
        "test3 = valid3.loc[index13]\n",
        "test4 = valid4.loc[index14]\n",
        "test5 = valid5.loc[index15]\n",
        "test6 = valid6.loc[index16]\n",
        "test7 = valid7.loc[index17]\n",
        "test8 = valid8.loc[index18]\n",
        "test9 = valid9.loc[index19]\n",
        "test10 = valid10.loc[index20]\n",
        "\n",
        "valid1 = valid1.drop(index11)\n",
        "valid2 = valid2.drop(index12)\n",
        "valid3 = valid3.drop(index13)\n",
        "valid4 = valid4.drop(index14)\n",
        "valid5 = valid5.drop(index15)\n",
        "valid6 = valid6.drop(index16)\n",
        "valid7 = valid7.drop(index17)\n",
        "valid8 = valid8.drop(index18)\n",
        "valid9 = valid9.drop(index19)\n",
        "valid10 = valid10.drop(index20)"
      ],
      "metadata": {
        "id": "pDTcKsmyJ4gQ"
      },
      "execution_count": null,
      "outputs": []
    },
    {
      "cell_type": "code",
      "source": [
        "# Saving the splitted data to run the models:\n",
        "\n",
        "train1.to_csv(r'train1.txt', index=False, sep=' ', header=False, quoting=csv.QUOTE_NONE, quotechar=\"\", escapechar=\" \")\n",
        "test1.to_csv(r'test1.txt', index=False, sep=' ', header=False, quoting=csv.QUOTE_NONE, quotechar=\"\", escapechar=\" \")\n",
        "valid1.to_csv(r'valid1.txt', index=False, sep=' ', header=False, quoting=csv.QUOTE_NONE, quotechar=\"\", escapechar=\" \")\n",
        "\n",
        "train2.to_csv(r'train2.txt', index=False, sep=' ', header=False, quoting=csv.QUOTE_NONE, quotechar=\"\", escapechar=\" \")\n",
        "test2.to_csv(r'test2.txt', index=False, sep=' ', header=False, quoting=csv.QUOTE_NONE, quotechar=\"\", escapechar=\" \")\n",
        "valid2.to_csv(r'valid2.txt', index=False, sep=' ', header=False, quoting=csv.QUOTE_NONE, quotechar=\"\", escapechar=\" \")\n",
        "\n",
        "train3.to_csv(r'train3.txt', index=False, sep=' ', header=False, quoting=csv.QUOTE_NONE, quotechar=\"\", escapechar=\" \")\n",
        "test3.to_csv(r'test3.txt', index=False, sep=' ', header=False, quoting=csv.QUOTE_NONE, quotechar=\"\", escapechar=\" \")\n",
        "valid3.to_csv(r'valid3.txt', index=False, sep=' ', header=False, quoting=csv.QUOTE_NONE, quotechar=\"\", escapechar=\" \")\n",
        "\n",
        "train4.to_csv(r'train4.txt', index=False, sep=' ', header=False, quoting=csv.QUOTE_NONE, quotechar=\"\", escapechar=\" \")\n",
        "test4.to_csv(r'test4.txt', index=False, sep=' ', header=False, quoting=csv.QUOTE_NONE, quotechar=\"\", escapechar=\" \")\n",
        "valid4.to_csv(r'valid4.txt', index=False, sep=' ', header=False, quoting=csv.QUOTE_NONE, quotechar=\"\", escapechar=\" \")\n",
        "\n",
        "train5.to_csv(r'train5.txt', index=False, sep=' ', header=False, quoting=csv.QUOTE_NONE, quotechar=\"\", escapechar=\" \")\n",
        "test5.to_csv(r'test5.txt', index=False, sep=' ', header=False, quoting=csv.QUOTE_NONE, quotechar=\"\", escapechar=\" \")\n",
        "valid5.to_csv(r'valid5.txt', index=False, sep=' ', header=False, quoting=csv.QUOTE_NONE, quotechar=\"\", escapechar=\" \")\n",
        "\n",
        "train6.to_csv(r'train6.txt', index=False, sep=' ', header=False, quoting=csv.QUOTE_NONE, quotechar=\"\", escapechar=\" \")\n",
        "test6.to_csv(r'test6.txt', index=False, sep=' ', header=False, quoting=csv.QUOTE_NONE, quotechar=\"\", escapechar=\" \")\n",
        "valid6.to_csv(r'valid6.txt', index=False, sep=' ', header=False, quoting=csv.QUOTE_NONE, quotechar=\"\", escapechar=\" \")\n",
        "\n",
        "train7.to_csv(r'train7.txt', index=False, sep=' ', header=False, quoting=csv.QUOTE_NONE, quotechar=\"\", escapechar=\" \")\n",
        "test7.to_csv(r'test7.txt', index=False, sep=' ', header=False, quoting=csv.QUOTE_NONE, quotechar=\"\", escapechar=\" \")\n",
        "valid7.to_csv(r'valid7.txt', index=False, sep=' ', header=False, quoting=csv.QUOTE_NONE, quotechar=\"\", escapechar=\" \")\n",
        "\n",
        "train8.to_csv(r'train8.txt', index=False, sep=' ', header=False, quoting=csv.QUOTE_NONE, quotechar=\"\", escapechar=\" \")\n",
        "test8.to_csv(r'test8.txt', index=False, sep=' ', header=False, quoting=csv.QUOTE_NONE, quotechar=\"\", escapechar=\" \")\n",
        "valid8.to_csv(r'valid8.txt', index=False, sep=' ', header=False, quoting=csv.QUOTE_NONE, quotechar=\"\", escapechar=\" \")\n",
        "\n",
        "train9.to_csv(r'train9.txt', index=False, sep=' ', header=False, quoting=csv.QUOTE_NONE, quotechar=\"\", escapechar=\" \")\n",
        "test9.to_csv(r'test9.txt', index=False, sep=' ', header=False, quoting=csv.QUOTE_NONE, quotechar=\"\", escapechar=\" \")\n",
        "valid9.to_csv(r'valid9.txt', index=False, sep=' ', header=False, quoting=csv.QUOTE_NONE, quotechar=\"\", escapechar=\" \")\n",
        "\n",
        "train10.to_csv(r'train10.txt', index=False, sep=' ', header=False, quoting=csv.QUOTE_NONE, quotechar=\"\", escapechar=\" \")\n",
        "test10.to_csv(r'test10.txt', index=False, sep=' ', header=False, quoting=csv.QUOTE_NONE, quotechar=\"\", escapechar=\" \")\n",
        "valid10.to_csv(r'valid10.txt', index=False, sep=' ', header=False, quoting=csv.QUOTE_NONE, quotechar=\"\", escapechar=\" \")"
      ],
      "metadata": {
        "id": "yfU0l8eJKNrO"
      },
      "execution_count": null,
      "outputs": []
    },
    {
      "cell_type": "code",
      "source": [
        "import time\n",
        "start = time.time()"
      ],
      "metadata": {
        "id": "q-EQeUq_f8C2"
      },
      "execution_count": null,
      "outputs": []
    },
    {
      "cell_type": "code",
      "source": [
        "r1 = train_valid_fasttext(train_data = \"train1.txt\",valid_data = \"valid1.txt\",data_split=\"Data Split 1\")\n"
      ],
      "metadata": {
        "id": "P7ZdeVQSKV84"
      },
      "execution_count": null,
      "outputs": []
    },
    {
      "cell_type": "code",
      "source": [
        "r2 = train_valid_fasttext(train_data = \"train2.txt\",valid_data = \"valid2.txt\",data_split=\"Data Split 2\")\n"
      ],
      "metadata": {
        "id": "bUAcdCEtKdN-"
      },
      "execution_count": null,
      "outputs": []
    },
    {
      "cell_type": "code",
      "source": [
        "r3 = train_valid_fasttext(train_data = \"train3.txt\",valid_data = \"valid3.txt\",data_split=\"Data Split 3\")\n"
      ],
      "metadata": {
        "id": "Nrpg9SfzKhB_"
      },
      "execution_count": null,
      "outputs": []
    },
    {
      "cell_type": "code",
      "source": [
        "r4 = train_valid_fasttext(train_data = \"train4.txt\",valid_data = \"valid4.txt\",data_split=\"Data Split 4\")\n"
      ],
      "metadata": {
        "id": "GtbuBtRfKkV2"
      },
      "execution_count": null,
      "outputs": []
    },
    {
      "cell_type": "code",
      "source": [
        "r5 = train_valid_fasttext(train_data = \"train5.txt\",valid_data = \"valid5.txt\",data_split=\"Data Split 5\")\n"
      ],
      "metadata": {
        "id": "Rxdhwo-zKo0B"
      },
      "execution_count": null,
      "outputs": []
    },
    {
      "cell_type": "code",
      "source": [
        "r6 = train_valid_fasttext(train_data = \"train6.txt\",valid_data = \"valid6.txt\",data_split=\"Data Split 6\")\n"
      ],
      "metadata": {
        "id": "g3nngumZKrSf"
      },
      "execution_count": null,
      "outputs": []
    },
    {
      "cell_type": "code",
      "source": [
        "r7 = train_valid_fasttext(train_data = \"train7.txt\",valid_data = \"valid7.txt\",data_split=\"Data Split 7\")\n"
      ],
      "metadata": {
        "id": "XdzZp0xiKvDd"
      },
      "execution_count": null,
      "outputs": []
    },
    {
      "cell_type": "code",
      "source": [
        "r8 = train_valid_fasttext(train_data = \"train8.txt\",valid_data = \"valid8.txt\",data_split=\"Data Split 8\")\n"
      ],
      "metadata": {
        "id": "Vy5VzuwMKx5m"
      },
      "execution_count": null,
      "outputs": []
    },
    {
      "cell_type": "code",
      "source": [
        "r9 = train_valid_fasttext(train_data = \"train9.txt\",valid_data = \"valid9.txt\",data_split=\"Data Split 9\")\n"
      ],
      "metadata": {
        "id": "c_bV6nhJK1Ay"
      },
      "execution_count": null,
      "outputs": []
    },
    {
      "cell_type": "code",
      "source": [
        "r10 = train_valid_fasttext(train_data = \"train10.txt\",valid_data = \"valid10.txt\",data_split=\"Data Split 10\")\n"
      ],
      "metadata": {
        "id": "O4uUadh8K5G9"
      },
      "execution_count": null,
      "outputs": []
    },
    {
      "cell_type": "code",
      "source": [
        "end = time.time()\n",
        "hours, rem = divmod(end-start, 3600)\n",
        "minutes, seconds = divmod(rem, 60)\n",
        "\n",
        "print(\"Execution time: \"+\"{:0>2}:{:0>2}:{:05.2f}\".format(int(hours),int(minutes),seconds))\n"
      ],
      "metadata": {
        "colab": {
          "base_uri": "https://localhost:8080/"
        },
        "id": "Im-qDaRwgCku",
        "outputId": "b9171c12-83ce-4124-99a3-222a35cf5e0e"
      },
      "execution_count": null,
      "outputs": [
        {
          "output_type": "stream",
          "name": "stdout",
          "text": [
            "Execution time: 00:09:49.18\n"
          ]
        }
      ]
    },
    {
      "cell_type": "code",
      "source": [
        "combined_results = r1.append([r2,r3,r4,r5,r6,r7,r8,r9,r10],ignore_index=True)\n",
        "accuracy_training = combined_results.groupby('Epochs', as_index=False)['Accuracy on training data'].mean()\n",
        "accuracy_test = combined_results.groupby('Epochs', as_index=False)['Accuracy on validation data'].mean()\n",
        "accu_train_test = pd.concat([accuracy_training,accuracy_test],axis=1)\n",
        "accu_train_test"
      ],
      "metadata": {
        "colab": {
          "base_uri": "https://localhost:8080/",
          "height": 363
        },
        "id": "5Bbi0tEuK72m",
        "outputId": "71286e1f-871e-4853-898f-1875ac5c2a43"
      },
      "execution_count": null,
      "outputs": [
        {
          "output_type": "execute_result",
          "data": {
            "text/plain": [
              "   Epochs  Accuracy on training data  Epochs  Accuracy on validation data\n",
              "0       1                   0.648094       1                      0.64135\n",
              "1       2                   0.669150       2                      0.65960\n",
              "2       3                   0.715175       3                      0.69925\n",
              "3       4                   0.782937       4                      0.75350\n",
              "4       5                   0.852294       5                      0.79945\n",
              "5       6                   0.894812       6                      0.82100\n",
              "6       7                   0.926900       7                      0.83240\n",
              "7       8                   0.950338       8                      0.83985\n",
              "8       9                   0.965850       9                      0.84440\n",
              "9      10                   0.977956      10                      0.84785"
            ],
            "text/html": [
              "\n",
              "  <div id=\"df-e8bce156-9a8d-49c4-adfc-33e71bcd07bf\">\n",
              "    <div class=\"colab-df-container\">\n",
              "      <div>\n",
              "<style scoped>\n",
              "    .dataframe tbody tr th:only-of-type {\n",
              "        vertical-align: middle;\n",
              "    }\n",
              "\n",
              "    .dataframe tbody tr th {\n",
              "        vertical-align: top;\n",
              "    }\n",
              "\n",
              "    .dataframe thead th {\n",
              "        text-align: right;\n",
              "    }\n",
              "</style>\n",
              "<table border=\"1\" class=\"dataframe\">\n",
              "  <thead>\n",
              "    <tr style=\"text-align: right;\">\n",
              "      <th></th>\n",
              "      <th>Epochs</th>\n",
              "      <th>Accuracy on training data</th>\n",
              "      <th>Epochs</th>\n",
              "      <th>Accuracy on validation data</th>\n",
              "    </tr>\n",
              "  </thead>\n",
              "  <tbody>\n",
              "    <tr>\n",
              "      <th>0</th>\n",
              "      <td>1</td>\n",
              "      <td>0.648094</td>\n",
              "      <td>1</td>\n",
              "      <td>0.64135</td>\n",
              "    </tr>\n",
              "    <tr>\n",
              "      <th>1</th>\n",
              "      <td>2</td>\n",
              "      <td>0.669150</td>\n",
              "      <td>2</td>\n",
              "      <td>0.65960</td>\n",
              "    </tr>\n",
              "    <tr>\n",
              "      <th>2</th>\n",
              "      <td>3</td>\n",
              "      <td>0.715175</td>\n",
              "      <td>3</td>\n",
              "      <td>0.69925</td>\n",
              "    </tr>\n",
              "    <tr>\n",
              "      <th>3</th>\n",
              "      <td>4</td>\n",
              "      <td>0.782937</td>\n",
              "      <td>4</td>\n",
              "      <td>0.75350</td>\n",
              "    </tr>\n",
              "    <tr>\n",
              "      <th>4</th>\n",
              "      <td>5</td>\n",
              "      <td>0.852294</td>\n",
              "      <td>5</td>\n",
              "      <td>0.79945</td>\n",
              "    </tr>\n",
              "    <tr>\n",
              "      <th>5</th>\n",
              "      <td>6</td>\n",
              "      <td>0.894812</td>\n",
              "      <td>6</td>\n",
              "      <td>0.82100</td>\n",
              "    </tr>\n",
              "    <tr>\n",
              "      <th>6</th>\n",
              "      <td>7</td>\n",
              "      <td>0.926900</td>\n",
              "      <td>7</td>\n",
              "      <td>0.83240</td>\n",
              "    </tr>\n",
              "    <tr>\n",
              "      <th>7</th>\n",
              "      <td>8</td>\n",
              "      <td>0.950338</td>\n",
              "      <td>8</td>\n",
              "      <td>0.83985</td>\n",
              "    </tr>\n",
              "    <tr>\n",
              "      <th>8</th>\n",
              "      <td>9</td>\n",
              "      <td>0.965850</td>\n",
              "      <td>9</td>\n",
              "      <td>0.84440</td>\n",
              "    </tr>\n",
              "    <tr>\n",
              "      <th>9</th>\n",
              "      <td>10</td>\n",
              "      <td>0.977956</td>\n",
              "      <td>10</td>\n",
              "      <td>0.84785</td>\n",
              "    </tr>\n",
              "  </tbody>\n",
              "</table>\n",
              "</div>\n",
              "      <button class=\"colab-df-convert\" onclick=\"convertToInteractive('df-e8bce156-9a8d-49c4-adfc-33e71bcd07bf')\"\n",
              "              title=\"Convert this dataframe to an interactive table.\"\n",
              "              style=\"display:none;\">\n",
              "        \n",
              "  <svg xmlns=\"http://www.w3.org/2000/svg\" height=\"24px\"viewBox=\"0 0 24 24\"\n",
              "       width=\"24px\">\n",
              "    <path d=\"M0 0h24v24H0V0z\" fill=\"none\"/>\n",
              "    <path d=\"M18.56 5.44l.94 2.06.94-2.06 2.06-.94-2.06-.94-.94-2.06-.94 2.06-2.06.94zm-11 1L8.5 8.5l.94-2.06 2.06-.94-2.06-.94L8.5 2.5l-.94 2.06-2.06.94zm10 10l.94 2.06.94-2.06 2.06-.94-2.06-.94-.94-2.06-.94 2.06-2.06.94z\"/><path d=\"M17.41 7.96l-1.37-1.37c-.4-.4-.92-.59-1.43-.59-.52 0-1.04.2-1.43.59L10.3 9.45l-7.72 7.72c-.78.78-.78 2.05 0 2.83L4 21.41c.39.39.9.59 1.41.59.51 0 1.02-.2 1.41-.59l7.78-7.78 2.81-2.81c.8-.78.8-2.07 0-2.86zM5.41 20L4 18.59l7.72-7.72 1.47 1.35L5.41 20z\"/>\n",
              "  </svg>\n",
              "      </button>\n",
              "      \n",
              "  <style>\n",
              "    .colab-df-container {\n",
              "      display:flex;\n",
              "      flex-wrap:wrap;\n",
              "      gap: 12px;\n",
              "    }\n",
              "\n",
              "    .colab-df-convert {\n",
              "      background-color: #E8F0FE;\n",
              "      border: none;\n",
              "      border-radius: 50%;\n",
              "      cursor: pointer;\n",
              "      display: none;\n",
              "      fill: #1967D2;\n",
              "      height: 32px;\n",
              "      padding: 0 0 0 0;\n",
              "      width: 32px;\n",
              "    }\n",
              "\n",
              "    .colab-df-convert:hover {\n",
              "      background-color: #E2EBFA;\n",
              "      box-shadow: 0px 1px 2px rgba(60, 64, 67, 0.3), 0px 1px 3px 1px rgba(60, 64, 67, 0.15);\n",
              "      fill: #174EA6;\n",
              "    }\n",
              "\n",
              "    [theme=dark] .colab-df-convert {\n",
              "      background-color: #3B4455;\n",
              "      fill: #D2E3FC;\n",
              "    }\n",
              "\n",
              "    [theme=dark] .colab-df-convert:hover {\n",
              "      background-color: #434B5C;\n",
              "      box-shadow: 0px 1px 3px 1px rgba(0, 0, 0, 0.15);\n",
              "      filter: drop-shadow(0px 1px 2px rgba(0, 0, 0, 0.3));\n",
              "      fill: #FFFFFF;\n",
              "    }\n",
              "  </style>\n",
              "\n",
              "      <script>\n",
              "        const buttonEl =\n",
              "          document.querySelector('#df-e8bce156-9a8d-49c4-adfc-33e71bcd07bf button.colab-df-convert');\n",
              "        buttonEl.style.display =\n",
              "          google.colab.kernel.accessAllowed ? 'block' : 'none';\n",
              "\n",
              "        async function convertToInteractive(key) {\n",
              "          const element = document.querySelector('#df-e8bce156-9a8d-49c4-adfc-33e71bcd07bf');\n",
              "          const dataTable =\n",
              "            await google.colab.kernel.invokeFunction('convertToInteractive',\n",
              "                                                     [key], {});\n",
              "          if (!dataTable) return;\n",
              "\n",
              "          const docLinkHtml = 'Like what you see? Visit the ' +\n",
              "            '<a target=\"_blank\" href=https://colab.research.google.com/notebooks/data_table.ipynb>data table notebook</a>'\n",
              "            + ' to learn more about interactive tables.';\n",
              "          element.innerHTML = '';\n",
              "          dataTable['output_type'] = 'display_data';\n",
              "          await google.colab.output.renderOutput(dataTable, element);\n",
              "          const docLink = document.createElement('div');\n",
              "          docLink.innerHTML = docLinkHtml;\n",
              "          element.appendChild(docLink);\n",
              "        }\n",
              "      </script>\n",
              "    </div>\n",
              "  </div>\n",
              "  "
            ]
          },
          "metadata": {},
          "execution_count": 60
        }
      ]
    },
    {
      "cell_type": "code",
      "source": [
        "# summarize history for accuracy\n",
        "plt.plot(accu_train_test['Accuracy on training data'])\n",
        "plt.plot(accu_train_test['Accuracy on validation data'])\n",
        "plt.title('Model accuracy Fasttext')\n",
        "plt.ylabel('accuracy')\n",
        "plt.xlabel('epoch')\n",
        "plt.legend(['train', 'test'], loc='upper left')\n",
        "plt.show()"
      ],
      "metadata": {
        "colab": {
          "base_uri": "https://localhost:8080/",
          "height": 295
        },
        "id": "-sb6rMdDK_u7",
        "outputId": "4e9fa457-6af0-4d31-d569-1b4102502352"
      },
      "execution_count": null,
      "outputs": [
        {
          "output_type": "display_data",
          "data": {
            "text/plain": [
              "<Figure size 432x288 with 1 Axes>"
            ],
            "image/png": "[encoded data removed]"
          },
          "metadata": {
            "needs_background": "light"
          }
        }
      ]
    },
    {
      "cell_type": "code",
      "source": [
        ""
      ],
      "metadata": {
        "id": "9ioIaMDcNivw"
      },
      "execution_count": null,
      "outputs": []
    }
  ]
}
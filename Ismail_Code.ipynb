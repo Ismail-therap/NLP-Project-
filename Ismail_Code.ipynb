{
 "cells": [
  {
   "cell_type": "code",
   "execution_count": 2,
   "metadata": {},
   "outputs": [
    {
     "data": {
      "text/html": [
       "<div>\n",
       "<style scoped>\n",
       "    .dataframe tbody tr th:only-of-type {\n",
       "        vertical-align: middle;\n",
       "    }\n",
       "\n",
       "    .dataframe tbody tr th {\n",
       "        vertical-align: top;\n",
       "    }\n",
       "\n",
       "    .dataframe thead th {\n",
       "        text-align: right;\n",
       "    }\n",
       "</style>\n",
       "<table border=\"1\" class=\"dataframe\">\n",
       "  <thead>\n",
       "    <tr style=\"text-align: right;\">\n",
       "      <th></th>\n",
       "      <th>business_id</th>\n",
       "      <th>name</th>\n",
       "      <th>address</th>\n",
       "      <th>city</th>\n",
       "      <th>state</th>\n",
       "      <th>postal_code</th>\n",
       "      <th>latitude</th>\n",
       "      <th>longitude</th>\n",
       "      <th>stars</th>\n",
       "      <th>review_count</th>\n",
       "      <th>is_open</th>\n",
       "      <th>attributes</th>\n",
       "      <th>categories</th>\n",
       "      <th>hours</th>\n",
       "      <th>user_id</th>\n",
       "      <th>review_stars</th>\n",
       "      <th>text</th>\n",
       "      <th>date</th>\n",
       "    </tr>\n",
       "  </thead>\n",
       "  <tbody>\n",
       "    <tr>\n",
       "      <th>0</th>\n",
       "      <td>0tGuFBrhM03I6TCLxDQhyg</td>\n",
       "      <td>Dancing Goats Coffee Bar</td>\n",
       "      <td>419 W Ponce De Leon Ave</td>\n",
       "      <td>Decatur</td>\n",
       "      <td>GA</td>\n",
       "      <td>30030</td>\n",
       "      <td>33.775805</td>\n",
       "      <td>-84.303269</td>\n",
       "      <td>4.0</td>\n",
       "      <td>358</td>\n",
       "      <td>1</td>\n",
       "      <td>{'RestaurantsPriceRange2': '1', 'WiFi': \"'free...</td>\n",
       "      <td>Food, Coffee &amp; Tea, Restaurants, Donuts, Cafes</td>\n",
       "      <td>{'Monday': '7:0-17:0', 'Tuesday': '7:0-17:0', ...</td>\n",
       "      <td>IqUD0yoRq66PqnbSvRb5JA</td>\n",
       "      <td>1</td>\n",
       "      <td>OMG!! Hate! This place. Rude to me. On so many...</td>\n",
       "      <td>2018-10-06 14:34:51</td>\n",
       "    </tr>\n",
       "    <tr>\n",
       "      <th>1</th>\n",
       "      <td>498F3rnpng6qv53S9diTSw</td>\n",
       "      <td>Boston Market</td>\n",
       "      <td>4607 Braker Ln, Ste 100</td>\n",
       "      <td>Austin</td>\n",
       "      <td>TX</td>\n",
       "      <td>78759</td>\n",
       "      <td>30.399832</td>\n",
       "      <td>-97.744997</td>\n",
       "      <td>3.0</td>\n",
       "      <td>102</td>\n",
       "      <td>1</td>\n",
       "      <td>{'BusinessAcceptsCreditCards': 'True', 'GoodFo...</td>\n",
       "      <td>American (Traditional), Caterers, Chicken Shop...</td>\n",
       "      <td>{'Monday': '11:0-22:0', 'Tuesday': '11:0-22:0'...</td>\n",
       "      <td>n2eAlOnBo1St1p7MWqBFmg</td>\n",
       "      <td>1</td>\n",
       "      <td>Why bother being open on Thanksgiving if you c...</td>\n",
       "      <td>2019-11-28 20:02:11</td>\n",
       "    </tr>\n",
       "    <tr>\n",
       "      <th>2</th>\n",
       "      <td>7qBi3FMT2Oz4Jj1hCWwawA</td>\n",
       "      <td>Bea's Nail Salon</td>\n",
       "      <td>75 Blossom Ct</td>\n",
       "      <td>Boston</td>\n",
       "      <td>MA</td>\n",
       "      <td>02114</td>\n",
       "      <td>42.364891</td>\n",
       "      <td>-71.066818</td>\n",
       "      <td>3.0</td>\n",
       "      <td>23</td>\n",
       "      <td>1</td>\n",
       "      <td>{'BusinessAcceptsCreditCards': 'True', 'Restau...</td>\n",
       "      <td>Nail Salons, Beauty &amp; Spas</td>\n",
       "      <td>{'Monday': '9:30-19:0', 'Tuesday': '9:30-19:0'...</td>\n",
       "      <td>pHTrbVN4lzTlzqqnWEJYGw</td>\n",
       "      <td>1</td>\n",
       "      <td>The fact that on a Saturday afternoon this \"sa...</td>\n",
       "      <td>2009-07-11 19:59:46</td>\n",
       "    </tr>\n",
       "    <tr>\n",
       "      <th>3</th>\n",
       "      <td>K4X4nJVp0BcSn9Cvoavk8A</td>\n",
       "      <td>T'Kilas Tacos &amp; More</td>\n",
       "      <td>1248 Clairmont Rd</td>\n",
       "      <td>Decatur</td>\n",
       "      <td>GA</td>\n",
       "      <td>30030</td>\n",
       "      <td>33.789815</td>\n",
       "      <td>-84.307511</td>\n",
       "      <td>3.0</td>\n",
       "      <td>115</td>\n",
       "      <td>0</td>\n",
       "      <td>{'GoodForKids': 'True', 'BikeParking': 'False'...</td>\n",
       "      <td>Mexican, Restaurants</td>\n",
       "      <td>{'Monday': '11:0-22:30', 'Tuesday': '11:0-22:3...</td>\n",
       "      <td>Jfc8qYR3uEHIpU0nKzpObg</td>\n",
       "      <td>1</td>\n",
       "      <td>I came to Los Loros in search of the \"strong, ...</td>\n",
       "      <td>2008-09-08 21:34:50</td>\n",
       "    </tr>\n",
       "    <tr>\n",
       "      <th>4</th>\n",
       "      <td>D6U1_06gxciRs1NoYjwhKQ</td>\n",
       "      <td>ESPN Club - Temporarily Unavailable</td>\n",
       "      <td>2101 N Epcot Resorts Blvd</td>\n",
       "      <td>Orlando</td>\n",
       "      <td>FL</td>\n",
       "      <td>32836</td>\n",
       "      <td>28.368008</td>\n",
       "      <td>-81.555289</td>\n",
       "      <td>2.5</td>\n",
       "      <td>303</td>\n",
       "      <td>1</td>\n",
       "      <td>{'GoodForKids': 'True', 'Caters': 'False', 'Re...</td>\n",
       "      <td>Hotels, American (New), Event Planning &amp; Servi...</td>\n",
       "      <td>{'Monday': '0:0-0:0', 'Tuesday': '12:0-23:0', ...</td>\n",
       "      <td>Dw_oka5MVWOsaJCncfIXZQ</td>\n",
       "      <td>1</td>\n",
       "      <td>My fries were stale and my cheesesteak was mos...</td>\n",
       "      <td>2018-01-14 01:41:50</td>\n",
       "    </tr>\n",
       "  </tbody>\n",
       "</table>\n",
       "</div>"
      ],
      "text/plain": [
       "              business_id                                 name  \\\n",
       "0  0tGuFBrhM03I6TCLxDQhyg             Dancing Goats Coffee Bar   \n",
       "1  498F3rnpng6qv53S9diTSw                        Boston Market   \n",
       "2  7qBi3FMT2Oz4Jj1hCWwawA                     Bea's Nail Salon   \n",
       "3  K4X4nJVp0BcSn9Cvoavk8A                 T'Kilas Tacos & More   \n",
       "4  D6U1_06gxciRs1NoYjwhKQ  ESPN Club - Temporarily Unavailable   \n",
       "\n",
       "                     address     city state postal_code   latitude  longitude  \\\n",
       "0    419 W Ponce De Leon Ave  Decatur    GA       30030  33.775805 -84.303269   \n",
       "1    4607 Braker Ln, Ste 100   Austin    TX       78759  30.399832 -97.744997   \n",
       "2              75 Blossom Ct   Boston    MA       02114  42.364891 -71.066818   \n",
       "3          1248 Clairmont Rd  Decatur    GA       30030  33.789815 -84.307511   \n",
       "4  2101 N Epcot Resorts Blvd  Orlando    FL       32836  28.368008 -81.555289   \n",
       "\n",
       "   stars  review_count  is_open  \\\n",
       "0    4.0           358        1   \n",
       "1    3.0           102        1   \n",
       "2    3.0            23        1   \n",
       "3    3.0           115        0   \n",
       "4    2.5           303        1   \n",
       "\n",
       "                                          attributes  \\\n",
       "0  {'RestaurantsPriceRange2': '1', 'WiFi': \"'free...   \n",
       "1  {'BusinessAcceptsCreditCards': 'True', 'GoodFo...   \n",
       "2  {'BusinessAcceptsCreditCards': 'True', 'Restau...   \n",
       "3  {'GoodForKids': 'True', 'BikeParking': 'False'...   \n",
       "4  {'GoodForKids': 'True', 'Caters': 'False', 'Re...   \n",
       "\n",
       "                                          categories  \\\n",
       "0     Food, Coffee & Tea, Restaurants, Donuts, Cafes   \n",
       "1  American (Traditional), Caterers, Chicken Shop...   \n",
       "2                         Nail Salons, Beauty & Spas   \n",
       "3                               Mexican, Restaurants   \n",
       "4  Hotels, American (New), Event Planning & Servi...   \n",
       "\n",
       "                                               hours                 user_id  \\\n",
       "0  {'Monday': '7:0-17:0', 'Tuesday': '7:0-17:0', ...  IqUD0yoRq66PqnbSvRb5JA   \n",
       "1  {'Monday': '11:0-22:0', 'Tuesday': '11:0-22:0'...  n2eAlOnBo1St1p7MWqBFmg   \n",
       "2  {'Monday': '9:30-19:0', 'Tuesday': '9:30-19:0'...  pHTrbVN4lzTlzqqnWEJYGw   \n",
       "3  {'Monday': '11:0-22:30', 'Tuesday': '11:0-22:3...  Jfc8qYR3uEHIpU0nKzpObg   \n",
       "4  {'Monday': '0:0-0:0', 'Tuesday': '12:0-23:0', ...  Dw_oka5MVWOsaJCncfIXZQ   \n",
       "\n",
       "   review_stars                                               text  \\\n",
       "0             1  OMG!! Hate! This place. Rude to me. On so many...   \n",
       "1             1  Why bother being open on Thanksgiving if you c...   \n",
       "2             1  The fact that on a Saturday afternoon this \"sa...   \n",
       "3             1  I came to Los Loros in search of the \"strong, ...   \n",
       "4             1  My fries were stale and my cheesesteak was mos...   \n",
       "\n",
       "                  date  \n",
       "0  2018-10-06 14:34:51  \n",
       "1  2019-11-28 20:02:11  \n",
       "2  2009-07-11 19:59:46  \n",
       "3  2008-09-08 21:34:50  \n",
       "4  2018-01-14 01:41:50  "
      ]
     },
     "execution_count": 2,
     "metadata": {},
     "output_type": "execute_result"
    }
   ],
   "source": [
    "import pandas as pd\n",
    "\n",
    "url='https://drive.google.com/file/d/1-vBpWV0H0cxX5jSeHlQIKXIiosMKwq2t/view?usp=sharing'\n",
    "file_id=url.split('/')[-2]\n",
    "dwn_url='https://drive.google.com/uc?id=' + file_id\n",
    "df = pd.read_csv(dwn_url)\n",
    "\n",
    "df.head()\n",
    "\n",
    "\n"
   ]
  },
  {
   "cell_type": "code",
   "execution_count": 3,
   "metadata": {},
   "outputs": [],
   "source": [
    "reviews = df"
   ]
  },
  {
   "cell_type": "code",
   "execution_count": 25,
   "metadata": {},
   "outputs": [
    {
     "data": {
      "text/plain": [
       "(50000, 20)"
      ]
     },
     "execution_count": 25,
     "metadata": {},
     "output_type": "execute_result"
    }
   ],
   "source": [
    "reviews.shape"
   ]
  },
  {
   "cell_type": "code",
   "execution_count": 5,
   "metadata": {},
   "outputs": [
    {
     "data": {
      "image/png": "[encoded data removed]",
      "text/plain": [
       "<Figure size 432x288 with 1 Axes>"
      ]
     },
     "metadata": {
      "needs_background": "light"
     },
     "output_type": "display_data"
    }
   ],
   "source": [
    "uniformed_review = reviews\n",
    "import numpy as np\n",
    "import matplotlib.pyplot as plt\n",
    "from matplotlib.ticker import PercentFormatter\n",
    "plt.hist(uniformed_review[\"review_stars\"],weights=np.ones(len(uniformed_review[\"review_stars\"])) / len(uniformed_review[\"review_stars\"]))\n",
    "plt.gca().yaxis.set_major_formatter(PercentFormatter(1))\n",
    "plt.show()"
   ]
  },
  {
   "cell_type": "markdown",
   "metadata": {},
   "source": [
    "# Fasttest Model"
   ]
  },
  {
   "cell_type": "code",
   "execution_count": 6,
   "metadata": {},
   "outputs": [
    {
     "name": "stdout",
     "output_type": "stream",
     "text": [
      "Requirement already satisfied: fasttext in ./anaconda3/lib/python3.7/site-packages (0.9.2)\n",
      "Requirement already satisfied: numpy in ./anaconda3/lib/python3.7/site-packages (from fasttext) (1.19.2)\n",
      "Requirement already satisfied: pybind11>=2.2 in ./anaconda3/lib/python3.7/site-packages (from fasttext) (2.8.1)\n",
      "Requirement already satisfied: setuptools>=0.7.0 in ./anaconda3/lib/python3.7/site-packages (from fasttext) (52.0.0.post20210125)\n",
      "\u001b[33mWARNING: You are using pip version 21.2.4; however, version 21.3.1 is available.\n",
      "You should consider upgrading via the '/home/alhelal/anaconda3/bin/python -m pip install --upgrade pip' command.\u001b[0m\n"
     ]
    }
   ],
   "source": [
    "!pip install fasttext\n",
    "import fasttext as ft\n",
    "import random\n",
    "import csv"
   ]
  },
  {
   "cell_type": "code",
   "execution_count": 7,
   "metadata": {},
   "outputs": [],
   "source": [
    "uniformed_review['ratings'] = '__label__' + uniformed_review['review_stars'].astype(str)\n",
    "uniformed_review['text_with_rating'] = uniformed_review['ratings']+\" \" + uniformed_review['text'].astype(str)\n",
    "review = uniformed_review['text_with_rating']"
   ]
  },
  {
   "cell_type": "code",
   "execution_count": 8,
   "metadata": {},
   "outputs": [],
   "source": [
    "############################################\n",
    "#### Data partition for cross validation ###\n",
    "############################################\n",
    "\n",
    "index1 = random.sample(list(review.index),int(len(review)*0.8))\n",
    "index2 = random.sample(list(review.index),int(len(review)*0.8))\n",
    "index3 = random.sample(list(review.index),int(len(review)*0.8))\n",
    "index4 = random.sample(list(review.index),int(len(review)*0.8))\n",
    "index5 = random.sample(list(review.index),int(len(review)*0.8))\n",
    "index6 = random.sample(list(review.index),int(len(review)*0.8))\n",
    "index7 = random.sample(list(review.index),int(len(review)*0.8))\n",
    "index8 = random.sample(list(review.index),int(len(review)*0.8))\n",
    "index9 = random.sample(list(review.index),int(len(review)*0.8))\n",
    "index10 = random.sample(list(review.index),int(len(review)*0.8))\n",
    "\n",
    "\n",
    "\n",
    "# Creating 10 training data set (80% data):\n",
    "\n",
    "train1 = review.loc[index1]\n",
    "train2 = review.loc[index2]\n",
    "train3 = review.loc[index3]\n",
    "train4 = review.loc[index4]\n",
    "train5 = review.loc[index5]\n",
    "train6 = review.loc[index6]\n",
    "train7 = review.loc[index7]\n",
    "train8 = review.loc[index8]\n",
    "train9 = review.loc[index9]\n",
    "train10 = review.loc[index10]\n",
    "\n",
    "\n",
    "\n",
    "# Create 10 validation set (10% data)\n",
    "\n",
    "valid1 = review.drop(index1)\n",
    "valid2 = review.drop(index2)\n",
    "valid3 = review.drop(index3)\n",
    "valid4 = review.drop(index4)\n",
    "valid5 = review.drop(index5)\n",
    "valid6 = review.drop(index6)\n",
    "valid7 = review.drop(index7)\n",
    "valid8 = review.drop(index8)\n",
    "valid9 = review.drop(index9)\n",
    "valid10 = review.drop(index10)\n",
    "\n",
    "\n",
    "index11 = random.sample(list(valid1.index),int(len(valid1)*0.5))\n",
    "index12 = random.sample(list(valid2.index),int(len(valid2)*0.5))\n",
    "index13 = random.sample(list(valid3.index),int(len(valid3)*0.5))\n",
    "index14 = random.sample(list(valid4.index),int(len(valid4)*0.5))\n",
    "index15 = random.sample(list(valid5.index),int(len(valid5)*0.5))\n",
    "index16 = random.sample(list(valid6.index),int(len(valid6)*0.5))\n",
    "index17 = random.sample(list(valid7.index),int(len(valid7)*0.5))\n",
    "index18 = random.sample(list(valid8.index),int(len(valid8)*0.5))\n",
    "index19 = random.sample(list(valid9.index),int(len(valid9)*0.5))\n",
    "index20 = random.sample(list(valid10.index),int(len(valid10)*0.5))\n",
    "\n",
    "\n",
    "test1 = valid1.loc[index11]\n",
    "test2 = valid2.loc[index12]\n",
    "test3 = valid3.loc[index13]\n",
    "test4 = valid4.loc[index14]\n",
    "test5 = valid5.loc[index15]\n",
    "test6 = valid6.loc[index16]\n",
    "test7 = valid7.loc[index17]\n",
    "test8 = valid8.loc[index18]\n",
    "test9 = valid9.loc[index19]\n",
    "test10 = valid10.loc[index20]\n",
    "\n",
    "\n",
    "\n",
    "\n",
    "valid1 = valid1.drop(index11)\n",
    "valid2 = valid2.drop(index12)\n",
    "valid3 = valid3.drop(index13)\n",
    "valid4 = valid4.drop(index14)\n",
    "valid5 = valid5.drop(index15)\n",
    "valid6 = valid6.drop(index16)\n",
    "valid7 = valid7.drop(index17)\n",
    "valid8 = valid8.drop(index18)\n",
    "valid9 = valid9.drop(index19)\n",
    "valid10 = valid10.drop(index20)"
   ]
  },
  {
   "cell_type": "code",
   "execution_count": 9,
   "metadata": {},
   "outputs": [],
   "source": [
    "# Saving the splitted data to run the models:\n",
    "\n",
    "train1.to_csv(r'train1.txt', index=False, sep=' ', header=False, quoting=csv.QUOTE_NONE, quotechar=\"\", escapechar=\" \")\n",
    "test1.to_csv(r'test1.txt', index=False, sep=' ', header=False, quoting=csv.QUOTE_NONE, quotechar=\"\", escapechar=\" \")\n",
    "valid1.to_csv(r'valid1.txt', index=False, sep=' ', header=False, quoting=csv.QUOTE_NONE, quotechar=\"\", escapechar=\" \")\n",
    "\n",
    "train2.to_csv(r'train2.txt', index=False, sep=' ', header=False, quoting=csv.QUOTE_NONE, quotechar=\"\", escapechar=\" \")\n",
    "test2.to_csv(r'test2.txt', index=False, sep=' ', header=False, quoting=csv.QUOTE_NONE, quotechar=\"\", escapechar=\" \")\n",
    "valid2.to_csv(r'valid2.txt', index=False, sep=' ', header=False, quoting=csv.QUOTE_NONE, quotechar=\"\", escapechar=\" \")\n",
    "\n",
    "train3.to_csv(r'train3.txt', index=False, sep=' ', header=False, quoting=csv.QUOTE_NONE, quotechar=\"\", escapechar=\" \")\n",
    "test3.to_csv(r'test3.txt', index=False, sep=' ', header=False, quoting=csv.QUOTE_NONE, quotechar=\"\", escapechar=\" \")\n",
    "valid3.to_csv(r'valid3.txt', index=False, sep=' ', header=False, quoting=csv.QUOTE_NONE, quotechar=\"\", escapechar=\" \")\n",
    "\n",
    "train4.to_csv(r'train4.txt', index=False, sep=' ', header=False, quoting=csv.QUOTE_NONE, quotechar=\"\", escapechar=\" \")\n",
    "test4.to_csv(r'test4.txt', index=False, sep=' ', header=False, quoting=csv.QUOTE_NONE, quotechar=\"\", escapechar=\" \")\n",
    "valid4.to_csv(r'valid4.txt', index=False, sep=' ', header=False, quoting=csv.QUOTE_NONE, quotechar=\"\", escapechar=\" \")\n",
    "\n",
    "train5.to_csv(r'train5.txt', index=False, sep=' ', header=False, quoting=csv.QUOTE_NONE, quotechar=\"\", escapechar=\" \")\n",
    "test5.to_csv(r'test5.txt', index=False, sep=' ', header=False, quoting=csv.QUOTE_NONE, quotechar=\"\", escapechar=\" \")\n",
    "valid5.to_csv(r'valid5.txt', index=False, sep=' ', header=False, quoting=csv.QUOTE_NONE, quotechar=\"\", escapechar=\" \")\n",
    "\n",
    "train6.to_csv(r'train6.txt', index=False, sep=' ', header=False, quoting=csv.QUOTE_NONE, quotechar=\"\", escapechar=\" \")\n",
    "test6.to_csv(r'test6.txt', index=False, sep=' ', header=False, quoting=csv.QUOTE_NONE, quotechar=\"\", escapechar=\" \")\n",
    "valid6.to_csv(r'valid6.txt', index=False, sep=' ', header=False, quoting=csv.QUOTE_NONE, quotechar=\"\", escapechar=\" \")\n",
    "\n",
    "train7.to_csv(r'train7.txt', index=False, sep=' ', header=False, quoting=csv.QUOTE_NONE, quotechar=\"\", escapechar=\" \")\n",
    "test7.to_csv(r'test7.txt', index=False, sep=' ', header=False, quoting=csv.QUOTE_NONE, quotechar=\"\", escapechar=\" \")\n",
    "valid7.to_csv(r'valid7.txt', index=False, sep=' ', header=False, quoting=csv.QUOTE_NONE, quotechar=\"\", escapechar=\" \")\n",
    "\n",
    "train8.to_csv(r'train8.txt', index=False, sep=' ', header=False, quoting=csv.QUOTE_NONE, quotechar=\"\", escapechar=\" \")\n",
    "test8.to_csv(r'test8.txt', index=False, sep=' ', header=False, quoting=csv.QUOTE_NONE, quotechar=\"\", escapechar=\" \")\n",
    "valid8.to_csv(r'valid8.txt', index=False, sep=' ', header=False, quoting=csv.QUOTE_NONE, quotechar=\"\", escapechar=\" \")\n",
    "\n",
    "train9.to_csv(r'train9.txt', index=False, sep=' ', header=False, quoting=csv.QUOTE_NONE, quotechar=\"\", escapechar=\" \")\n",
    "test9.to_csv(r'test9.txt', index=False, sep=' ', header=False, quoting=csv.QUOTE_NONE, quotechar=\"\", escapechar=\" \")\n",
    "valid9.to_csv(r'valid9.txt', index=False, sep=' ', header=False, quoting=csv.QUOTE_NONE, quotechar=\"\", escapechar=\" \")\n",
    "\n",
    "train10.to_csv(r'train10.txt', index=False, sep=' ', header=False, quoting=csv.QUOTE_NONE, quotechar=\"\", escapechar=\" \")\n",
    "test10.to_csv(r'test10.txt', index=False, sep=' ', header=False, quoting=csv.QUOTE_NONE, quotechar=\"\", escapechar=\" \")\n",
    "valid10.to_csv(r'valid10.txt', index=False, sep=' ', header=False, quoting=csv.QUOTE_NONE, quotechar=\"\", escapechar=\" \")\n"
   ]
  },
  {
   "cell_type": "code",
   "execution_count": 10,
   "metadata": {},
   "outputs": [],
   "source": [
    "# Getting the accuracy for the train data and validation data for 10 different data split for different hyperparameter\n",
    "# combination. Function inputs are:\n",
    "# train_data = the train data used to fit the model.\n",
    "# valid_data = the validation data\n",
    "# data_split = the data split identification (as we have total 10 data split). The typical cross validation procedure in python\n",
    "    # cross validation not worked for fasttext, thats why we manually split the data in 10 equal parts previously and\n",
    "    # saved them in working direcory. The saved splitted data used inside the train_valid_fastext() function.\n",
    "        \n",
    "def train_valid_fasttext(train_data,valid_data,data_split):\n",
    "    model = []\n",
    "    para = []\n",
    "\n",
    "\n",
    "    lr = [0.1]\n",
    "    wng = [3]\n",
    "    dim = [50]\n",
    "    epoch = [1,2,3,4,5,6,7,8,9,10]\n",
    "    \n",
    "    for learning_rate in range(len(lr)):\n",
    "        for wordngram in range(len(wng)):\n",
    "            for layer in range(len(dim)):\n",
    "                for epo in range(len(epoch)):\n",
    "                    model.append(ft.train_supervised(train_data, lr = lr[learning_rate],dim = dim[layer], epoch = epoch[epo], wordNgrams=wng[wordngram]))\n",
    "                    para.append((lr[learning_rate],wng[wordngram],dim[layer],epoch[epo]))\n",
    "\n",
    "\n",
    "    accu_train = []\n",
    "    accu_valid = []\n",
    "\n",
    "    for i in range(len(model)):\n",
    "        accu_train.append(model[i].test(train_data))\n",
    "\n",
    "\n",
    "    for i in range(len(model)):\n",
    "        accu_valid.append(model[i].test(valid_data))\n",
    "  \n",
    "  \n",
    "    accu_train = pd.DataFrame(accu_train)\n",
    "    del accu_train[2]\n",
    "    accu_train.columns = [\"Number of observation in training\",\"Accuracy on training data\"] \n",
    "\n",
    "\n",
    "\n",
    "    accu_valid = pd.DataFrame(accu_valid)\n",
    "    del accu_valid[2]\n",
    "    accu_valid.columns = [\"Number of observation in validation\",\"Accuracy on validation data\"] \n",
    "\n",
    "\n",
    "\n",
    "    accu_train_test = pd.concat([accu_train,accu_valid], axis=1)\n",
    "    parameter = pd.DataFrame(para) \n",
    "    parameter.columns = [\"Learning Rate\",\"Word Ngram\",\"Number of layers\",\"Epochs\"]\n",
    "\n",
    "\n",
    "    results = pd.concat([parameter,accu_train_test],axis=1)\n",
    "    res = [data_split] * len(results)\n",
    "    results[\"Data\"] = res\n",
    "    \n",
    "    return(results)\n"
   ]
  },
  {
   "cell_type": "code",
   "execution_count": 11,
   "metadata": {},
   "outputs": [],
   "source": [
    "r1 = train_valid_fasttext(train_data = \"train1.txt\",valid_data = \"valid1.txt\",data_split=\"Data Split 1\")"
   ]
  },
  {
   "cell_type": "code",
   "execution_count": 12,
   "metadata": {},
   "outputs": [],
   "source": [
    "r2 = train_valid_fasttext(train_data = \"train2.txt\",valid_data = \"valid2.txt\",data_split=\"Data Split 2\")"
   ]
  },
  {
   "cell_type": "code",
   "execution_count": 13,
   "metadata": {},
   "outputs": [],
   "source": [
    "r3 = train_valid_fasttext(train_data = \"train3.txt\",valid_data = \"valid3.txt\",data_split=\"Data Split 3\")"
   ]
  },
  {
   "cell_type": "code",
   "execution_count": 14,
   "metadata": {},
   "outputs": [],
   "source": [
    "r4 = train_valid_fasttext(train_data = \"train4.txt\",valid_data = \"valid4.txt\",data_split=\"Data Split 4\")"
   ]
  },
  {
   "cell_type": "code",
   "execution_count": 15,
   "metadata": {},
   "outputs": [],
   "source": [
    "r5 = train_valid_fasttext(train_data = \"train5.txt\",valid_data = \"valid5.txt\",data_split=\"Data Split 5\")"
   ]
  },
  {
   "cell_type": "code",
   "execution_count": 16,
   "metadata": {},
   "outputs": [],
   "source": [
    "r6 = train_valid_fasttext(train_data = \"train6.txt\",valid_data = \"valid6.txt\",data_split=\"Data Split 6\")"
   ]
  },
  {
   "cell_type": "code",
   "execution_count": 17,
   "metadata": {},
   "outputs": [],
   "source": [
    "r7 = train_valid_fasttext(train_data = \"train7.txt\",valid_data = \"valid7.txt\",data_split=\"Data Split 7\")"
   ]
  },
  {
   "cell_type": "code",
   "execution_count": 18,
   "metadata": {},
   "outputs": [],
   "source": [
    "r8 = train_valid_fasttext(train_data = \"train8.txt\",valid_data = \"valid8.txt\",data_split=\"Data Split 8\")"
   ]
  },
  {
   "cell_type": "code",
   "execution_count": 19,
   "metadata": {},
   "outputs": [],
   "source": [
    "r9 = train_valid_fasttext(train_data = \"train9.txt\",valid_data = \"valid9.txt\",data_split=\"Data Split 9\")"
   ]
  },
  {
   "cell_type": "code",
   "execution_count": 20,
   "metadata": {},
   "outputs": [],
   "source": [
    "r10 = train_valid_fasttext(train_data = \"train10.txt\",valid_data = \"valid10.txt\",data_split=\"Data Split 10\")"
   ]
  },
  {
   "cell_type": "markdown",
   "metadata": {},
   "source": [
    "# Outputs"
   ]
  },
  {
   "cell_type": "code",
   "execution_count": 21,
   "metadata": {},
   "outputs": [
    {
     "data": {
      "text/html": [
       "<div>\n",
       "<style scoped>\n",
       "    .dataframe tbody tr th:only-of-type {\n",
       "        vertical-align: middle;\n",
       "    }\n",
       "\n",
       "    .dataframe tbody tr th {\n",
       "        vertical-align: top;\n",
       "    }\n",
       "\n",
       "    .dataframe thead th {\n",
       "        text-align: right;\n",
       "    }\n",
       "</style>\n",
       "<table border=\"1\" class=\"dataframe\">\n",
       "  <thead>\n",
       "    <tr style=\"text-align: right;\">\n",
       "      <th></th>\n",
       "      <th>Epochs</th>\n",
       "      <th>Accuracy on training data</th>\n",
       "      <th>Epochs</th>\n",
       "      <th>Accuracy on validation data</th>\n",
       "    </tr>\n",
       "  </thead>\n",
       "  <tbody>\n",
       "    <tr>\n",
       "      <th>0</th>\n",
       "      <td>1</td>\n",
       "      <td>0.320055</td>\n",
       "      <td>1</td>\n",
       "      <td>0.31482</td>\n",
       "    </tr>\n",
       "    <tr>\n",
       "      <th>1</th>\n",
       "      <td>2</td>\n",
       "      <td>0.333660</td>\n",
       "      <td>2</td>\n",
       "      <td>0.33126</td>\n",
       "    </tr>\n",
       "    <tr>\n",
       "      <th>2</th>\n",
       "      <td>3</td>\n",
       "      <td>0.422322</td>\n",
       "      <td>3</td>\n",
       "      <td>0.40682</td>\n",
       "    </tr>\n",
       "    <tr>\n",
       "      <th>3</th>\n",
       "      <td>4</td>\n",
       "      <td>0.494723</td>\n",
       "      <td>4</td>\n",
       "      <td>0.45668</td>\n",
       "    </tr>\n",
       "    <tr>\n",
       "      <th>4</th>\n",
       "      <td>5</td>\n",
       "      <td>0.553630</td>\n",
       "      <td>5</td>\n",
       "      <td>0.48548</td>\n",
       "    </tr>\n",
       "    <tr>\n",
       "      <th>5</th>\n",
       "      <td>6</td>\n",
       "      <td>0.608330</td>\n",
       "      <td>6</td>\n",
       "      <td>0.50330</td>\n",
       "    </tr>\n",
       "    <tr>\n",
       "      <th>6</th>\n",
       "      <td>7</td>\n",
       "      <td>0.660545</td>\n",
       "      <td>7</td>\n",
       "      <td>0.51558</td>\n",
       "    </tr>\n",
       "    <tr>\n",
       "      <th>7</th>\n",
       "      <td>8</td>\n",
       "      <td>0.712283</td>\n",
       "      <td>8</td>\n",
       "      <td>0.52078</td>\n",
       "    </tr>\n",
       "    <tr>\n",
       "      <th>8</th>\n",
       "      <td>9</td>\n",
       "      <td>0.762082</td>\n",
       "      <td>9</td>\n",
       "      <td>0.52542</td>\n",
       "    </tr>\n",
       "    <tr>\n",
       "      <th>9</th>\n",
       "      <td>10</td>\n",
       "      <td>0.809802</td>\n",
       "      <td>10</td>\n",
       "      <td>0.52858</td>\n",
       "    </tr>\n",
       "  </tbody>\n",
       "</table>\n",
       "</div>"
      ],
      "text/plain": [
       "   Epochs  Accuracy on training data  Epochs  Accuracy on validation data\n",
       "0       1                   0.320055       1                      0.31482\n",
       "1       2                   0.333660       2                      0.33126\n",
       "2       3                   0.422322       3                      0.40682\n",
       "3       4                   0.494723       4                      0.45668\n",
       "4       5                   0.553630       5                      0.48548\n",
       "5       6                   0.608330       6                      0.50330\n",
       "6       7                   0.660545       7                      0.51558\n",
       "7       8                   0.712283       8                      0.52078\n",
       "8       9                   0.762082       9                      0.52542\n",
       "9      10                   0.809802      10                      0.52858"
      ]
     },
     "execution_count": 21,
     "metadata": {},
     "output_type": "execute_result"
    }
   ],
   "source": [
    "combined_results = r1.append([r2,r3,r4,r5,r6,r7,r8,r9,r10],ignore_index=True)\n",
    "accuracy_training = combined_results.groupby('Epochs', as_index=False)['Accuracy on training data'].mean()\n",
    "accuracy_test = combined_results.groupby('Epochs', as_index=False)['Accuracy on validation data'].mean()\n",
    "accu_train_test = pd.concat([accuracy_training,accuracy_test],axis=1)\n",
    "accu_train_test"
   ]
  },
  {
   "cell_type": "code",
   "execution_count": 22,
   "metadata": {},
   "outputs": [
    {
     "data": {
      "image/png": "[encoded data removed]",
      "text/plain": [
       "<Figure size 432x288 with 1 Axes>"
      ]
     },
     "metadata": {
      "needs_background": "light"
     },
     "output_type": "display_data"
    }
   ],
   "source": [
    "# summarize history for accuracy\n",
    "plt.plot(accu_train_test['Accuracy on training data'])\n",
    "plt.plot(accu_train_test['Accuracy on validation data'])\n",
    "plt.title('Model accuracy Fasttext')\n",
    "plt.ylabel('accuracy')\n",
    "plt.xlabel('epoch')\n",
    "plt.legend(['train', 'test'], loc='upper left')\n",
    "plt.show()"
   ]
  },
  {
   "cell_type": "code",
   "execution_count": 23,
   "metadata": {},
   "outputs": [
    {
     "data": {
      "text/plain": [
       "Learning Rate                                   0.1\n",
       "Word Ngram                                        3\n",
       "Number of layers                                 50\n",
       "Epochs                                           10\n",
       "Number of observation in training             40000\n",
       "Accuracy on training data                  0.811775\n",
       "Number of observation in validation            5000\n",
       "Accuracy on validation data                  0.5348\n",
       "Data                                   Data Split 7\n",
       "Name: 69, dtype: object"
      ]
     },
     "execution_count": 23,
     "metadata": {},
     "output_type": "execute_result"
    }
   ],
   "source": [
    "combined_results.loc[combined_results['Accuracy on validation data'].idxmax()]"
   ]
  },
  {
   "cell_type": "code",
   "execution_count": 24,
   "metadata": {},
   "outputs": [
    {
     "data": {
      "text/plain": [
       "Learning Rate                                   0.1\n",
       "Word Ngram                                        3\n",
       "Number of layers                                 50\n",
       "Epochs                                           10\n",
       "Number of observation in training             40000\n",
       "Accuracy on training data                  0.812425\n",
       "Number of observation in validation            5000\n",
       "Accuracy on validation data                  0.5238\n",
       "Data                                   Data Split 2\n",
       "Name: 19, dtype: object"
      ]
     },
     "execution_count": 24,
     "metadata": {},
     "output_type": "execute_result"
    }
   ],
   "source": [
    "combined_results.loc[combined_results['Accuracy on training data'].idxmax()]"
   ]
  },
  {
   "cell_type": "markdown",
   "metadata": {},
   "source": [
    "# LSTM "
   ]
  },
  {
   "cell_type": "code",
   "execution_count": 26,
   "metadata": {},
   "outputs": [],
   "source": [
    "X, y = (uniformed_review['text'].values, uniformed_review['review_stars'].values)"
   ]
  },
  {
   "cell_type": "code",
   "execution_count": 27,
   "metadata": {},
   "outputs": [],
   "source": [
    "#Tokenize the text\n",
    "import tensorflow as tf\n",
    "tokenizer = tf.keras.preprocessing.text.Tokenizer(num_words=None,\n",
    "    filters='!\"#$%&()*+,-./:;<=>?@[\\\\]^_`{|}~\\t\\n',\n",
    "    lower=True, split=' ', char_level=False, oov_token=None,\n",
    "    document_count=0)\n",
    "\n",
    "from sklearn.preprocessing import LabelEncoder\n",
    "from sklearn.preprocessing import OneHotEncoder\n",
    "from sklearn.model_selection import train_test_split\n",
    "\n",
    "# prepare target\n",
    "def prepare_targets(y_train, y_test):\n",
    "    le = LabelEncoder()\n",
    "    le.fit(y_train)\n",
    "    y_train_enc = le.transform(y_train)\n",
    "    y_test_enc = le.transform(y_test)\n",
    "    return y_train_enc, y_test_enc"
   ]
  },
  {
   "cell_type": "code",
   "execution_count": 28,
   "metadata": {},
   "outputs": [],
   "source": [
    "tokenizer.fit_on_texts(X)\n",
    "X_seq = tokenizer.texts_to_sequences(X)"
   ]
  },
  {
   "cell_type": "code",
   "execution_count": 29,
   "metadata": {},
   "outputs": [],
   "source": [
    "X_pad = tf.keras.preprocessing.sequence.pad_sequences(X_seq, maxlen=280, padding='post')\n",
    "X_train, X_test, y_train, y_test = train_test_split(X_pad, y, test_size = 0.20, random_state = 1)\n",
    "\n",
    "# prepare output data\n",
    "y_train_enc, y_test_enc = prepare_targets(y_train, y_test)"
   ]
  },
  {
   "cell_type": "code",
   "execution_count": 30,
   "metadata": {},
   "outputs": [],
   "source": [
    "batch_size = 64\n",
    "X_train1 = X_train[batch_size:]\n",
    "y_train1 = y_train_enc[batch_size:]\n",
    "X_valid = X_train[:batch_size]\n",
    "y_valid = y_train_enc[:batch_size]"
   ]
  },
  {
   "cell_type": "code",
   "execution_count": 31,
   "metadata": {},
   "outputs": [],
   "source": [
    "vocabulary_size = len(tokenizer.word_counts.keys())+1\n",
    "max_words = 280\n",
    "embedding_size = 32\n",
    "\n",
    "#opt = tf.keras.optimizers.SGD(lr=0.01, momentum=0.9)\n",
    "model = tf.keras.models.Sequential()\n",
    "model.add(tf.keras.layers.Embedding(vocabulary_size, embedding_size, input_length=max_words))\n",
    "model.add(tf.keras.layers.LSTM(200))\n",
    "model.add(tf.keras.layers.Dense(5, activation='softmax'))\n",
    "model.compile(loss='sparse_categorical_crossentropy', optimizer='adam', metrics=['accuracy'])"
   ]
  },
  {
   "cell_type": "code",
   "execution_count": 32,
   "metadata": {},
   "outputs": [
    {
     "name": "stdout",
     "output_type": "stream",
     "text": [
      "Epoch 1/10\n",
      "624/624 [==============================] - 176s 280ms/step - loss: 1.6093 - accuracy: 0.2057 - val_loss: 1.6473 - val_accuracy: 0.1875\n",
      "Epoch 2/10\n",
      "624/624 [==============================] - 174s 278ms/step - loss: 1.5917 - accuracy: 0.2234 - val_loss: 1.5213 - val_accuracy: 0.3281\n",
      "Epoch 3/10\n",
      "624/624 [==============================] - 174s 278ms/step - loss: 1.5277 - accuracy: 0.2929 - val_loss: 1.5822 - val_accuracy: 0.2500\n",
      "Epoch 4/10\n",
      "624/624 [==============================] - 173s 277ms/step - loss: 1.5401 - accuracy: 0.2820 - val_loss: 1.5913 - val_accuracy: 0.2500\n",
      "Epoch 5/10\n",
      "624/624 [==============================] - 173s 278ms/step - loss: 1.5139 - accuracy: 0.3067 - val_loss: 1.6090 - val_accuracy: 0.2812\n",
      "Epoch 6/10\n",
      "624/624 [==============================] - 172s 276ms/step - loss: 1.5897 - accuracy: 0.2328 - val_loss: 1.5585 - val_accuracy: 0.3125\n",
      "Epoch 7/10\n",
      "624/624 [==============================] - 169s 271ms/step - loss: 1.4821 - accuracy: 0.3195 - val_loss: 1.3834 - val_accuracy: 0.4375\n",
      "Epoch 8/10\n",
      "624/624 [==============================] - 170s 272ms/step - loss: 1.2342 - accuracy: 0.4334 - val_loss: 1.2192 - val_accuracy: 0.4062\n",
      "Epoch 9/10\n",
      "624/624 [==============================] - 169s 271ms/step - loss: 1.0717 - accuracy: 0.5072 - val_loss: 1.4999 - val_accuracy: 0.3906\n",
      "Epoch 10/10\n",
      "624/624 [==============================] - 169s 271ms/step - loss: 0.9612 - accuracy: 0.5693 - val_loss: 1.2291 - val_accuracy: 0.4531\n"
     ]
    }
   ],
   "source": [
    "history = model.fit(X_train1,y_train1,validation_data=(X_valid,y_valid),batch_size=batch_size,epochs=10)"
   ]
  },
  {
   "cell_type": "code",
   "execution_count": 33,
   "metadata": {},
   "outputs": [
    {
     "name": "stdout",
     "output_type": "stream",
     "text": [
      "Accuracy: 50.07\n"
     ]
    }
   ],
   "source": [
    "# evaluate the keras model\n",
    "_, accuracy = model.evaluate(X_test, y_test_enc, verbose=0)\n",
    "print('Accuracy: %.2f' % (accuracy*100))"
   ]
  },
  {
   "cell_type": "code",
   "execution_count": 34,
   "metadata": {},
   "outputs": [
    {
     "data": {
      "image/png": "[encoded data removed]",
      "text/plain": [
       "<Figure size 432x288 with 1 Axes>"
      ]
     },
     "metadata": {
      "needs_background": "light"
     },
     "output_type": "display_data"
    },
    {
     "data": {
      "image/png": "[encoded data removed]",
      "text/plain": [
       "<Figure size 432x288 with 1 Axes>"
      ]
     },
     "metadata": {
      "needs_background": "light"
     },
     "output_type": "display_data"
    }
   ],
   "source": [
    "# summarize history for accuracy\n",
    "plt.plot(history.history['accuracy'])\n",
    "plt.plot(history.history['val_accuracy'])\n",
    "plt.title('Model accuracy LSTM')\n",
    "plt.ylabel('accuracy')\n",
    "plt.xlabel('epoch')\n",
    "plt.legend(['train', 'test'], loc='upper left')\n",
    "plt.show()\n",
    "# summarize history for loss\n",
    "plt.plot(history.history['loss'])\n",
    "plt.plot(history.history['val_loss'])\n",
    "plt.title('model loss')\n",
    "plt.ylabel('loss')\n",
    "plt.xlabel('epoch')\n",
    "plt.legend(['train', 'test'], loc='upper left')\n",
    "plt.show()"
   ]
  },
  {
   "cell_type": "markdown",
   "metadata": {},
   "source": [
    "# BERT Model:"
   ]
  },
  {
   "cell_type": "code",
   "execution_count": 35,
   "metadata": {},
   "outputs": [
    {
     "name": "stdout",
     "output_type": "stream",
     "text": [
      "Collecting transformers\n",
      "  Downloading transformers-4.12.5-py3-none-any.whl (3.1 MB)\n",
      "\u001b[K     |████████████████████████████████| 3.1 MB 1.4 MB/s eta 0:00:01\n",
      "\u001b[?25hCollecting sacremoses\n",
      "  Downloading sacremoses-0.0.46-py3-none-any.whl (895 kB)\n",
      "\u001b[K     |████████████████████████████████| 895 kB 5.2 MB/s eta 0:00:01\n",
      "\u001b[?25hRequirement already satisfied: pyyaml>=5.1 in ./anaconda3/lib/python3.7/site-packages (from transformers) (5.4.1)\n",
      "Collecting tokenizers<0.11,>=0.10.1\n",
      "  Downloading tokenizers-0.10.3-cp37-cp37m-manylinux_2_5_x86_64.manylinux1_x86_64.manylinux_2_12_x86_64.manylinux2010_x86_64.whl (3.3 MB)\n",
      "\u001b[K     |████████████████████████████████| 3.3 MB 5.7 MB/s eta 0:00:01\n",
      "\u001b[?25hRequirement already satisfied: tqdm>=4.27 in ./anaconda3/lib/python3.7/site-packages (from transformers) (4.59.0)\n",
      "Requirement already satisfied: importlib-metadata in ./anaconda3/lib/python3.7/site-packages (from transformers) (3.10.0)\n",
      "Requirement already satisfied: regex!=2019.12.17 in ./anaconda3/lib/python3.7/site-packages (from transformers) (2021.4.4)\n",
      "Requirement already satisfied: requests in ./anaconda3/lib/python3.7/site-packages (from transformers) (2.25.1)\n",
      "Requirement already satisfied: filelock in ./anaconda3/lib/python3.7/site-packages (from transformers) (3.0.12)\n",
      "Requirement already satisfied: numpy>=1.17 in ./anaconda3/lib/python3.7/site-packages (from transformers) (1.19.2)\n",
      "Collecting huggingface-hub<1.0,>=0.1.0\n",
      "  Downloading huggingface_hub-0.1.2-py3-none-any.whl (59 kB)\n",
      "\u001b[K     |████████████████████████████████| 59 kB 4.8 MB/s eta 0:00:011\n",
      "\u001b[?25hRequirement already satisfied: packaging>=20.0 in ./anaconda3/lib/python3.7/site-packages (from transformers) (20.9)\n",
      "Requirement already satisfied: typing-extensions>=3.7.4.3 in ./anaconda3/lib/python3.7/site-packages (from huggingface-hub<1.0,>=0.1.0->transformers) (3.7.4.3)\n",
      "Requirement already satisfied: pyparsing>=2.0.2 in ./anaconda3/lib/python3.7/site-packages (from packaging>=20.0->transformers) (2.4.7)\n",
      "Requirement already satisfied: zipp>=0.5 in ./anaconda3/lib/python3.7/site-packages (from importlib-metadata->transformers) (3.4.1)\n",
      "Requirement already satisfied: chardet<5,>=3.0.2 in ./anaconda3/lib/python3.7/site-packages (from requests->transformers) (4.0.0)\n",
      "Requirement already satisfied: urllib3<1.27,>=1.21.1 in ./anaconda3/lib/python3.7/site-packages (from requests->transformers) (1.26.4)\n",
      "Requirement already satisfied: certifi>=2017.4.17 in ./anaconda3/lib/python3.7/site-packages (from requests->transformers) (2021.5.30)\n",
      "Requirement already satisfied: idna<3,>=2.5 in ./anaconda3/lib/python3.7/site-packages (from requests->transformers) (2.10)\n",
      "Requirement already satisfied: six in ./anaconda3/lib/python3.7/site-packages (from sacremoses->transformers) (1.15.0)\n",
      "Requirement already satisfied: click in ./anaconda3/lib/python3.7/site-packages (from sacremoses->transformers) (7.1.2)\n",
      "Requirement already satisfied: joblib in ./anaconda3/lib/python3.7/site-packages (from sacremoses->transformers) (1.0.1)\n",
      "Installing collected packages: tokenizers, sacremoses, huggingface-hub, transformers\n",
      "Successfully installed huggingface-hub-0.1.2 sacremoses-0.0.46 tokenizers-0.10.3 transformers-4.12.5\n",
      "\u001b[33mWARNING: You are using pip version 21.2.4; however, version 21.3.1 is available.\n",
      "You should consider upgrading via the '/home/alhelal/anaconda3/bin/python -m pip install --upgrade pip' command.\u001b[0m\n"
     ]
    }
   ],
   "source": [
    "!pip install transformers\n",
    "from transformers import BertTokenizer, TFBertForSequenceClassification\n",
    "from transformers import InputExample, InputFeatures"
   ]
  },
  {
   "cell_type": "code",
   "execution_count": 36,
   "metadata": {},
   "outputs": [],
   "source": [
    "#######################################\n",
    "### -------- Load libraries ------- #### Load Huggingface transformers\n",
    "from transformers import TFBertModel,  BertConfig, BertTokenizerFast# Then what you need from tensorflow.keras\n",
    "from tensorflow.keras.layers import Input, Dropout, Dense\n",
    "from tensorflow.keras.models import Model\n",
    "from tensorflow.keras.optimizers import Adam\n",
    "from tensorflow.keras.callbacks import EarlyStopping\n",
    "from tensorflow.keras.initializers import TruncatedNormal\n",
    "from tensorflow.keras.losses import CategoricalCrossentropy\n",
    "from tensorflow.keras.metrics import CategoricalAccuracy\n",
    "from tensorflow.keras.utils import to_categorical# And pandas for data import + sklearn because you allways need sklearn\n",
    "import pandas as pd\n",
    "from sklearn.model_selection import train_test_split\n",
    "\n",
    "import numpy as np"
   ]
  },
  {
   "cell_type": "code",
   "execution_count": 37,
   "metadata": {},
   "outputs": [
    {
     "data": {
      "text/html": [
       "<div>\n",
       "<style scoped>\n",
       "    .dataframe tbody tr th:only-of-type {\n",
       "        vertical-align: middle;\n",
       "    }\n",
       "\n",
       "    .dataframe tbody tr th {\n",
       "        vertical-align: top;\n",
       "    }\n",
       "\n",
       "    .dataframe thead th {\n",
       "        text-align: right;\n",
       "    }\n",
       "</style>\n",
       "<table border=\"1\" class=\"dataframe\">\n",
       "  <thead>\n",
       "    <tr style=\"text-align: right;\">\n",
       "      <th></th>\n",
       "      <th>Text</th>\n",
       "      <th>Rating</th>\n",
       "    </tr>\n",
       "  </thead>\n",
       "  <tbody>\n",
       "    <tr>\n",
       "      <th>0</th>\n",
       "      <td>OMG!! Hate! This place. Rude to me. On so many...</td>\n",
       "      <td>1</td>\n",
       "    </tr>\n",
       "    <tr>\n",
       "      <th>1</th>\n",
       "      <td>Why bother being open on Thanksgiving if you c...</td>\n",
       "      <td>1</td>\n",
       "    </tr>\n",
       "    <tr>\n",
       "      <th>2</th>\n",
       "      <td>The fact that on a Saturday afternoon this \"sa...</td>\n",
       "      <td>1</td>\n",
       "    </tr>\n",
       "    <tr>\n",
       "      <th>3</th>\n",
       "      <td>I came to Los Loros in search of the \"strong, ...</td>\n",
       "      <td>1</td>\n",
       "    </tr>\n",
       "    <tr>\n",
       "      <th>4</th>\n",
       "      <td>My fries were stale and my cheesesteak was mos...</td>\n",
       "      <td>1</td>\n",
       "    </tr>\n",
       "  </tbody>\n",
       "</table>\n",
       "</div>"
      ],
      "text/plain": [
       "                                                Text  Rating\n",
       "0  OMG!! Hate! This place. Rude to me. On so many...       1\n",
       "1  Why bother being open on Thanksgiving if you c...       1\n",
       "2  The fact that on a Saturday afternoon this \"sa...       1\n",
       "3  I came to Los Loros in search of the \"strong, ...       1\n",
       "4  My fries were stale and my cheesesteak was mos...       1"
      ]
     },
     "execution_count": 37,
     "metadata": {},
     "output_type": "execute_result"
    }
   ],
   "source": [
    "df = [df.text,df.review_stars]\n",
    "headers = [\"Text\", \"Rating\"]\n",
    "data = pd. concat(df, axis=1, keys=headers)\n",
    "data.head()"
   ]
  },
  {
   "cell_type": "code",
   "execution_count": 38,
   "metadata": {},
   "outputs": [],
   "source": [
    "data['Rating'] = data['Rating'].apply(np.int64)\n",
    "data['Rating'] = pd.Categorical(data['Rating'])\n",
    "\n",
    "# Transform your output to numeric\n",
    "data['Rating'] = data['Rating'].cat.codes\n",
    "data, data_test = train_test_split(data, test_size = 0.2)\n"
   ]
  },
  {
   "cell_type": "code",
   "execution_count": 39,
   "metadata": {},
   "outputs": [
    {
     "data": {
      "application/vnd.jupyter.widget-view+json": {
       "model_id": "d95469fa9a1d4a4ab27bbb65d6655353",
       "version_major": 2,
       "version_minor": 0
      },
      "text/plain": [
       "Downloading:   0%|          | 0.00/570 [00:00<?, ?B/s]"
      ]
     },
     "metadata": {},
     "output_type": "display_data"
    },
    {
     "data": {
      "application/vnd.jupyter.widget-view+json": {
       "model_id": "3ac66e8d4afb44539c54ebae8f725cae",
       "version_major": 2,
       "version_minor": 0
      },
      "text/plain": [
       "Downloading:   0%|          | 0.00/226k [00:00<?, ?B/s]"
      ]
     },
     "metadata": {},
     "output_type": "display_data"
    },
    {
     "data": {
      "application/vnd.jupyter.widget-view+json": {
       "model_id": "efd6b783b5bc4056a5468cf501b2808e",
       "version_major": 2,
       "version_minor": 0
      },
      "text/plain": [
       "Downloading:   0%|          | 0.00/455k [00:00<?, ?B/s]"
      ]
     },
     "metadata": {},
     "output_type": "display_data"
    },
    {
     "data": {
      "application/vnd.jupyter.widget-view+json": {
       "model_id": "57468e1b20124542a87a44d80102ab35",
       "version_major": 2,
       "version_minor": 0
      },
      "text/plain": [
       "Downloading:   0%|          | 0.00/28.0 [00:00<?, ?B/s]"
      ]
     },
     "metadata": {},
     "output_type": "display_data"
    },
    {
     "data": {
      "application/vnd.jupyter.widget-view+json": {
       "model_id": "66a79b1f448a4eb89c7729846b947854",
       "version_major": 2,
       "version_minor": 0
      },
      "text/plain": [
       "Downloading:   0%|          | 0.00/511M [00:00<?, ?B/s]"
      ]
     },
     "metadata": {},
     "output_type": "display_data"
    },
    {
     "name": "stderr",
     "output_type": "stream",
     "text": [
      "Some layers from the model checkpoint at bert-base-uncased were not used when initializing TFBertModel: ['nsp___cls', 'mlm___cls']\n",
      "- This IS expected if you are initializing TFBertModel from the checkpoint of a model trained on another task or with another architecture (e.g. initializing a BertForSequenceClassification model from a BertForPreTraining model).\n",
      "- This IS NOT expected if you are initializing TFBertModel from the checkpoint of a model that you expect to be exactly identical (initializing a BertForSequenceClassification model from a BertForSequenceClassification model).\n",
      "All the layers of TFBertModel were initialized from the model checkpoint at bert-base-uncased.\n",
      "If your task is similar to the task the model of the checkpoint was trained on, you can already use TFBertModel for predictions without further training.\n"
     ]
    }
   ],
   "source": [
    "#######################################\n",
    "### --------- Setup BERT ---------- ###\n",
    "\n",
    "# Name of the BERT model to use\n",
    "model_name = 'bert-base-uncased'\n",
    "\n",
    "# Max length of tokens\n",
    "max_length = 50\n",
    "\n",
    "# Load transformers config and set output_hidden_states to False\n",
    "config = BertConfig.from_pretrained(model_name)\n",
    "config.output_hidden_states = False\n",
    "\n",
    "# Load BERT tokenizer\n",
    "tokenizer = BertTokenizerFast.from_pretrained(pretrained_model_name_or_path = model_name, config = config)\n",
    "\n",
    "# Load the Transformers BERT model\n",
    "transformer_model = TFBertModel.from_pretrained(model_name, config = config)"
   ]
  },
  {
   "cell_type": "code",
   "execution_count": 40,
   "metadata": {},
   "outputs": [
    {
     "name": "stdout",
     "output_type": "stream",
     "text": [
      "Model: \"BERT_MultiLabel_MultiClass\"\n",
      "_________________________________________________________________\n",
      "Layer (type)                 Output Shape              Param #   \n",
      "=================================================================\n",
      "input_ids (InputLayer)       [(None, 50)]              0         \n",
      "_________________________________________________________________\n",
      "bert (TFBertMainLayer)       TFBaseModelOutputWithPool 109482240 \n",
      "_________________________________________________________________\n",
      "pooled_output (Dropout)      (None, 768)               0         \n",
      "_________________________________________________________________\n",
      "Rating (Dense)               (None, 5)                 3845      \n",
      "=================================================================\n",
      "Total params: 109,486,085\n",
      "Trainable params: 109,486,085\n",
      "Non-trainable params: 0\n",
      "_________________________________________________________________\n"
     ]
    }
   ],
   "source": [
    "\n",
    "#######################################\n",
    "### ------- Build the model ------- ###\n",
    "\n",
    "# TF Keras documentation: https://www.tensorflow.org/api_docs/python/tf/keras/Model\n",
    "\n",
    "# Load the MainLayer\n",
    "bert = transformer_model.layers[0]\n",
    "\n",
    "# Build your model input\n",
    "input_ids = Input(shape=(max_length,), name='input_ids', dtype='int32')\n",
    "# attention_mask = Input(shape=(max_length,), name='attention_mask', dtype='int32') \n",
    "# inputs = {'input_ids': input_ids, 'attention_mask': attention_mask}\n",
    "inputs = {'input_ids': input_ids}\n",
    "\n",
    "# Load the Transformers BERT model as a layer in a Keras model\n",
    "bert_model = bert(inputs)[1]\n",
    "dropout = Dropout(config.hidden_dropout_prob, name='pooled_output')\n",
    "pooled_output = dropout(bert_model, training=False)\n",
    "\n",
    "# Then build your model output\n",
    "Rating = Dense(units=len(data.Rating.value_counts()), kernel_initializer=TruncatedNormal(stddev=config.initializer_range), name='Rating')(pooled_output)\n",
    "#product = Dense(units=len(data.Product_label.value_counts()), kernel_initializer=TruncatedNormal(stddev=config.initializer_range), name='product')(pooled_output)\n",
    "outputs = {'Rating': Rating}\n",
    "\n",
    "# And combine it all in a model object\n",
    "model = Model(inputs=inputs, outputs=outputs, name='BERT_MultiLabel_MultiClass')\n",
    "\n",
    "# Take a look at the model\n",
    "model.summary()"
   ]
  },
  {
   "cell_type": "code",
   "execution_count": 41,
   "metadata": {},
   "outputs": [],
   "source": [
    "#######################################\n",
    "### ------- Train the model ------- ###\n",
    "\n",
    "# Set an optimizer\n",
    "optimizer = Adam(\n",
    "    learning_rate=5e-05,\n",
    "    epsilon=1e-08,\n",
    "    decay=0.01,\n",
    "    clipnorm=1.0)\n",
    "\n",
    "# Set loss and metrics\n",
    "loss = {'Rating': CategoricalCrossentropy(from_logits = True)}\n",
    "metric = {'Rating': CategoricalAccuracy('accuracy')}\n",
    "\n",
    "# Compile the model\n",
    "model.compile(\n",
    "    optimizer = optimizer,\n",
    "    loss = loss, \n",
    "    metrics = metric)\n"
   ]
  },
  {
   "cell_type": "code",
   "execution_count": 42,
   "metadata": {},
   "outputs": [],
   "source": [
    "# Ready output data for the model\n",
    "y_rating = to_categorical(data['Rating'])"
   ]
  },
  {
   "cell_type": "code",
   "execution_count": 43,
   "metadata": {},
   "outputs": [],
   "source": [
    "# Tokenize the input (takes some time)\n",
    "x = tokenizer(\n",
    "    text=data['Text'].to_list(),\n",
    "    add_special_tokens=True,\n",
    "    max_length=max_length,\n",
    "    truncation=True,\n",
    "    padding=True, \n",
    "    return_tensors='tf',\n",
    "    return_token_type_ids = False,\n",
    "    return_attention_mask = True,\n",
    "    verbose = True)"
   ]
  },
  {
   "cell_type": "code",
   "execution_count": 44,
   "metadata": {},
   "outputs": [
    {
     "name": "stdout",
     "output_type": "stream",
     "text": [
      "Epoch 1/10\n",
      "320/320 [==============================] - 3143s 10s/step - loss: 1.2372 - accuracy: 0.4509 - val_loss: 1.0207 - val_accuracy: 0.5631\n",
      "Epoch 2/10\n",
      "320/320 [==============================] - 3131s 10s/step - loss: 0.9230 - accuracy: 0.6081 - val_loss: 1.0156 - val_accuracy: 0.5704\n",
      "Epoch 3/10\n",
      "320/320 [==============================] - 3080s 10s/step - loss: 0.8424 - accuracy: 0.6499 - val_loss: 1.0327 - val_accuracy: 0.5751\n",
      "Epoch 4/10\n",
      "320/320 [==============================] - 3079s 10s/step - loss: 0.7830 - accuracy: 0.6771 - val_loss: 1.0607 - val_accuracy: 0.5715\n",
      "Epoch 5/10\n",
      "320/320 [==============================] - 3075s 10s/step - loss: 0.7451 - accuracy: 0.6958 - val_loss: 1.0969 - val_accuracy: 0.5631\n",
      "Epoch 6/10\n",
      "320/320 [==============================] - 3074s 10s/step - loss: 0.7070 - accuracy: 0.7154 - val_loss: 1.1099 - val_accuracy: 0.5651\n",
      "Epoch 7/10\n",
      "320/320 [==============================] - 3081s 10s/step - loss: 0.6708 - accuracy: 0.7286 - val_loss: 1.1333 - val_accuracy: 0.5639\n",
      "Epoch 8/10\n",
      "320/320 [==============================] - 3087s 10s/step - loss: 0.6398 - accuracy: 0.7462 - val_loss: 1.1684 - val_accuracy: 0.5586\n",
      "Epoch 9/10\n",
      "320/320 [==============================] - 3087s 10s/step - loss: 0.6259 - accuracy: 0.7516 - val_loss: 1.1800 - val_accuracy: 0.5581\n",
      "Epoch 10/10\n",
      "320/320 [==============================] - 3089s 10s/step - loss: 0.6167 - accuracy: 0.7530 - val_loss: 1.2031 - val_accuracy: 0.5575\n"
     ]
    }
   ],
   "source": [
    "# Fit the model\n",
    "history = model.fit(\n",
    "    # x={'input_ids': x['input_ids'], 'attention_mask': x['attention_mask']},\n",
    "    x={'input_ids': x['input_ids']},\n",
    "    y={'Rating': y_rating},\n",
    "    validation_split=0.2,\n",
    "    batch_size=100,\n",
    "    epochs=10)"
   ]
  },
  {
   "cell_type": "code",
   "execution_count": null,
   "metadata": {},
   "outputs": [],
   "source": []
  },
  {
   "cell_type": "markdown",
   "metadata": {},
   "source": [
    "# Evaluation of BERT "
   ]
  },
  {
   "cell_type": "markdown",
   "metadata": {},
   "source": [
    "## Plot the accuracy and loss over time"
   ]
  },
  {
   "cell_type": "code",
   "execution_count": 51,
   "metadata": {},
   "outputs": [
    {
     "name": "stdout",
     "output_type": "stream",
     "text": [
      "dict_keys(['loss', 'accuracy', 'val_loss', 'val_accuracy'])\n"
     ]
    }
   ],
   "source": [
    "history_dict = history.history\n",
    "print(history_dict.keys())"
   ]
  },
  {
   "cell_type": "code",
   "execution_count": 52,
   "metadata": {},
   "outputs": [
    {
     "data": {
      "image/png": "[encoded data removed]",
      "text/plain": [
       "<Figure size 432x288 with 1 Axes>"
      ]
     },
     "metadata": {
      "needs_background": "light"
     },
     "output_type": "display_data"
    },
    {
     "data": {
      "image/png": "[encoded data removed]",
      "text/plain": [
       "<Figure size 432x288 with 1 Axes>"
      ]
     },
     "metadata": {
      "needs_background": "light"
     },
     "output_type": "display_data"
    }
   ],
   "source": [
    "# summarize history for accuracy\n",
    "plt.plot(history.history['accuracy'])\n",
    "plt.plot(history.history['val_accuracy'])\n",
    "plt.title('Model accuracy BERT')\n",
    "plt.ylabel('accuracy')\n",
    "plt.xlabel('epoch')\n",
    "plt.legend(['train', 'test'], loc='upper left')\n",
    "plt.show()\n",
    "# summarize history for loss\n",
    "plt.plot(history.history['loss'])\n",
    "plt.plot(history.history['val_loss'])\n",
    "plt.title('model loss')\n",
    "plt.ylabel('loss')\n",
    "plt.xlabel('epoch')\n",
    "plt.legend(['train', 'test'], loc='upper left')\n",
    "plt.show()"
   ]
  },
  {
   "cell_type": "markdown",
   "metadata": {},
   "source": [
    "## Accuracy on test data"
   ]
  },
  {
   "cell_type": "code",
   "execution_count": null,
   "metadata": {},
   "outputs": [],
   "source": [
    "# https://www.tensorflow.org/text/tutorials/classify_text_with_bert\n",
    "\n",
    "#https://towardsdatascience.com/multi-label-multi-class-text-classification-with-bert-transformer-and-keras-c6355eccb63a"
   ]
  },
  {
   "cell_type": "code",
   "execution_count": 55,
   "metadata": {},
   "outputs": [],
   "source": [
    "# Tokenize the input (takes some time)\n",
    "x_test = tokenizer(\n",
    "    text=data_test['Text'].to_list(),\n",
    "    add_special_tokens=True,\n",
    "    max_length=max_length,\n",
    "    truncation=True,\n",
    "    padding=True, \n",
    "    return_tensors='tf',\n",
    "    return_token_type_ids = False,\n",
    "    return_attention_mask = True,\n",
    "    verbose = True)\n",
    "\n",
    "\n",
    "# Ready output data for the model\n",
    "y_rating_test = to_categorical(data_test['Rating'])"
   ]
  },
  {
   "cell_type": "code",
   "execution_count": 56,
   "metadata": {},
   "outputs": [
    {
     "name": "stdout",
     "output_type": "stream",
     "text": [
      "313/313 [==============================] - 315s 1s/step - loss: 1.1789 - accuracy: 0.5629\n",
      "Loss: 1.178885817527771\n",
      "Accuracy: 0.5629000067710876\n"
     ]
    }
   ],
   "source": [
    "loss, accuracy = model.evaluate(x_test['input_ids'],y={'Rating': y_rating_test})\n",
    "\n",
    "print(f'Loss: {loss}')\n",
    "print(f'Accuracy: {accuracy}')\n"
   ]
  },
  {
   "cell_type": "code",
   "execution_count": null,
   "metadata": {},
   "outputs": [],
   "source": []
  },
  {
   "cell_type": "markdown",
   "metadata": {},
   "source": [
    "## Testing the predicted output on NMT Google reviews:"
   ]
  },
  {
   "cell_type": "code",
   "execution_count": 64,
   "metadata": {},
   "outputs": [
    {
     "data": {
      "text/html": [
       "<div>\n",
       "<style scoped>\n",
       "    .dataframe tbody tr th:only-of-type {\n",
       "        vertical-align: middle;\n",
       "    }\n",
       "\n",
       "    .dataframe tbody tr th {\n",
       "        vertical-align: top;\n",
       "    }\n",
       "\n",
       "    .dataframe thead th {\n",
       "        text-align: right;\n",
       "    }\n",
       "</style>\n",
       "<table border=\"1\" class=\"dataframe\">\n",
       "  <thead>\n",
       "    <tr style=\"text-align: right;\">\n",
       "      <th></th>\n",
       "      <th>Text</th>\n",
       "      <th>Rating</th>\n",
       "    </tr>\n",
       "  </thead>\n",
       "  <tbody>\n",
       "    <tr>\n",
       "      <th>0</th>\n",
       "      <td>Love the atmosphere of this place. Love taking...</td>\n",
       "      <td>5</td>\n",
       "    </tr>\n",
       "    <tr>\n",
       "      <th>1</th>\n",
       "      <td>Great school and campus.</td>\n",
       "      <td>5</td>\n",
       "    </tr>\n",
       "    <tr>\n",
       "      <th>2</th>\n",
       "      <td>Clean campus. Good college atmosphere.</td>\n",
       "      <td>5</td>\n",
       "    </tr>\n",
       "    <tr>\n",
       "      <th>3</th>\n",
       "      <td>I learned to make energetics with kitchenware....</td>\n",
       "      <td>1</td>\n",
       "    </tr>\n",
       "    <tr>\n",
       "      <th>4</th>\n",
       "      <td>Always a pleasure</td>\n",
       "      <td>4</td>\n",
       "    </tr>\n",
       "    <tr>\n",
       "      <th>5</th>\n",
       "      <td>Friendly staff beautiful grounds</td>\n",
       "      <td>4</td>\n",
       "    </tr>\n",
       "    <tr>\n",
       "      <th>6</th>\n",
       "      <td>Everyone Cheats at this school.</td>\n",
       "      <td>1</td>\n",
       "    </tr>\n",
       "  </tbody>\n",
       "</table>\n",
       "</div>"
      ],
      "text/plain": [
       "                                                Text  Rating\n",
       "0  Love the atmosphere of this place. Love taking...       5\n",
       "1                           Great school and campus.       5\n",
       "2             Clean campus. Good college atmosphere.       5\n",
       "3  I learned to make energetics with kitchenware....       1\n",
       "4                                  Always a pleasure       4\n",
       "5                   Friendly staff beautiful grounds       4\n",
       "6                    Everyone Cheats at this school.       1"
      ]
     },
     "execution_count": 64,
     "metadata": {},
     "output_type": "execute_result"
    }
   ],
   "source": [
    "# initialize list of lists\n",
    "nmt_data = [['Love the atmosphere of this place. Love taking my dogs for walks at the college, beautiful rose garden during the summer months. Ducks at the pond will chase you sometimes for food..found out you can fish here but its catch and release which is good.. Well lit walking at night is good. Plus they have Starbucks in the Fidel center! Awesome.. during the evening at sunset the mountain in the back ground is something', 5], \n",
    "             ['Great school and campus.', 5], \n",
    "             ['Clean campus. Good college atmosphere.', 5],\n",
    "            ['I learned to make energetics with kitchenware. In the evenings, I threw many parties with people drinking from labware, leaving them schizophrenically intoxicated. I enjoyed it like Nuremberg Standards that I learned at this establishment. This is one of the most relax places. They look the other way because I come from higher standards than those.', 1],\n",
    "           ['Always a pleasure', 4],\n",
    "           ['Friendly staff beautiful grounds', 4],\n",
    "           ['Everyone Cheats at this school.',1]]\n",
    "  \n",
    "# Create the pandas DataFrame\n",
    "nmt_review = pd.DataFrame(nmt_data, columns = ['Text', 'Rating'])\n",
    "nmt_review "
   ]
  },
  {
   "cell_type": "code",
   "execution_count": 65,
   "metadata": {},
   "outputs": [],
   "source": [
    "# Tokenize the input (takes some time)\n",
    "nmt_test = tokenizer(\n",
    "    text=nmt_review['Text'].to_list(),\n",
    "    add_special_tokens=True,\n",
    "    max_length=max_length,\n",
    "    truncation=True,\n",
    "    padding=True, \n",
    "    return_tensors='tf',\n",
    "    return_token_type_ids = False,\n",
    "    return_attention_mask = True,\n",
    "    verbose = True)"
   ]
  },
  {
   "cell_type": "code",
   "execution_count": 150,
   "metadata": {},
   "outputs": [
    {
     "data": {
      "text/html": [
       "<div>\n",
       "<style scoped>\n",
       "    .dataframe tbody tr th:only-of-type {\n",
       "        vertical-align: middle;\n",
       "    }\n",
       "\n",
       "    .dataframe tbody tr th {\n",
       "        vertical-align: top;\n",
       "    }\n",
       "\n",
       "    .dataframe thead th {\n",
       "        text-align: right;\n",
       "    }\n",
       "</style>\n",
       "<table border=\"1\" class=\"dataframe\">\n",
       "  <thead>\n",
       "    <tr style=\"text-align: right;\">\n",
       "      <th></th>\n",
       "      <th>Text</th>\n",
       "      <th>Rating</th>\n",
       "      <th>Predicted_Star_BERT</th>\n",
       "    </tr>\n",
       "  </thead>\n",
       "  <tbody>\n",
       "    <tr>\n",
       "      <th>0</th>\n",
       "      <td>Love the atmosphere of this place. Love taking...</td>\n",
       "      <td>5</td>\n",
       "      <td>5</td>\n",
       "    </tr>\n",
       "    <tr>\n",
       "      <th>1</th>\n",
       "      <td>Great school and campus.</td>\n",
       "      <td>5</td>\n",
       "      <td>4</td>\n",
       "    </tr>\n",
       "    <tr>\n",
       "      <th>2</th>\n",
       "      <td>Clean campus. Good college atmosphere.</td>\n",
       "      <td>5</td>\n",
       "      <td>4</td>\n",
       "    </tr>\n",
       "    <tr>\n",
       "      <th>3</th>\n",
       "      <td>I learned to make energetics with kitchenware....</td>\n",
       "      <td>1</td>\n",
       "      <td>4</td>\n",
       "    </tr>\n",
       "    <tr>\n",
       "      <th>4</th>\n",
       "      <td>Always a pleasure</td>\n",
       "      <td>4</td>\n",
       "      <td>4</td>\n",
       "    </tr>\n",
       "    <tr>\n",
       "      <th>5</th>\n",
       "      <td>Friendly staff beautiful grounds</td>\n",
       "      <td>4</td>\n",
       "      <td>4</td>\n",
       "    </tr>\n",
       "    <tr>\n",
       "      <th>6</th>\n",
       "      <td>Everyone Cheats at this school.</td>\n",
       "      <td>1</td>\n",
       "      <td>1</td>\n",
       "    </tr>\n",
       "  </tbody>\n",
       "</table>\n",
       "</div>"
      ],
      "text/plain": [
       "                                                Text  Rating  \\\n",
       "0  Love the atmosphere of this place. Love taking...       5   \n",
       "1                           Great school and campus.       5   \n",
       "2             Clean campus. Good college atmosphere.       5   \n",
       "3  I learned to make energetics with kitchenware....       1   \n",
       "4                                  Always a pleasure       4   \n",
       "5                   Friendly staff beautiful grounds       4   \n",
       "6                    Everyone Cheats at this school.       1   \n",
       "\n",
       "   Predicted_Star_BERT  \n",
       "0                    5  \n",
       "1                    4  \n",
       "2                    4  \n",
       "3                    4  \n",
       "4                    4  \n",
       "5                    4  \n",
       "6                    1  "
      ]
     },
     "execution_count": 150,
     "metadata": {},
     "output_type": "execute_result"
    }
   ],
   "source": [
    "#model.predict(nmt_test['input_ids'])\n",
    "pred_output = model.predict(nmt_test['input_ids'])\n",
    "\n",
    "key, val = next(iter(pred_output.items()))\n",
    "predicted_weight = pd.DataFrame(val)\n",
    "\n",
    "# get the index position of max values in every column\n",
    "maxValueIndexObj = predicted_weight.idxmax(axis=1)\n",
    "#predicted_weight['Predicted_Star_BERT'] = maxValueIndexObj+1\n",
    "#predicted_weight\n",
    "\n",
    "nmt_review['Predicted_Star_BERT'] = maxValueIndexObj+1\n",
    "nmt_review"
   ]
  }
 ],
 "metadata": {
  "kernelspec": {
   "display_name": "Python 3",
   "language": "python",
   "name": "python3"
  },
  "language_info": {
   "codemirror_mode": {
    "name": "ipython",
    "version": 3
   },
   "file_extension": ".py",
   "mimetype": "text/x-python",
   "name": "python",
   "nbconvert_exporter": "python",
   "pygments_lexer": "ipython3",
   "version": "3.7.6"
  }
 },
 "nbformat": 4,
 "nbformat_minor": 5
}

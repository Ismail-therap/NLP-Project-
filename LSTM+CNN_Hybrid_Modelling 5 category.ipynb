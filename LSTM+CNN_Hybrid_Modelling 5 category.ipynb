{
  "nbformat": 4,
  "nbformat_minor": 0,
  "metadata": {
    "colab": {
      "name": "LSTM+CNN Hybrid Modelling.ipynb",
      "provenance": [],
      "authorship_tag": "ABX9TyM1UMje9FvbwN3Gwia9GCbf",
      "include_colab_link": true
    },
    "kernelspec": {
      "name": "python3",
      "display_name": "Python 3"
    },
    "language_info": {
      "name": "python"
    }
  },
  "cells": [
    {
      "cell_type": "markdown",
      "metadata": {
        "id": "view-in-github",
        "colab_type": "text"
      },
      "source": [
        "<a href=\"https://colab.research.google.com/github/Ismail-therap/NLP-Project-Predicting-review-in-1-to-5-star-/blob/main/LSTM%2BCNN_Hybrid_Modelling%205%20category.ipynb\" target=\"_parent\"><img src=\"https://colab.research.google.com/assets/colab-badge.svg\" alt=\"Open In Colab\"/></a>"
      ]
    },
    {
      "cell_type": "code",
      "execution_count": 8,
      "metadata": {
        "id": "NRWJvZOM9E4Z"
      },
      "outputs": [],
      "source": [
        "# Importing libraries\n",
        "import h5py as h5\n",
        "import scipy.io as sio\n",
        "import pandas as pd\n",
        "import numpy as np\n",
        "import matplotlib.pyplot as plt\n",
        "from os import listdir\n",
        "from tensorflow.keras.preprocessing import sequence\n",
        "import tensorflow as tf\n",
        "from tensorflow.keras.models import Sequential\n",
        "from tensorflow.keras.layers import Flatten, Embedding, Dropout, Activation, Reshape\n",
        "from tensorflow.keras.layers import Dense, Conv1D, MaxPooling1D, GlobalAveragePooling1D, TimeDistributed\n",
        "from tensorflow.keras.layers import LSTM\n",
        "from tensorflow.keras.optimizers import Adam\n",
        "from tensorflow.keras.models import load_model\n",
        "from tensorflow.keras.callbacks import ModelCheckpoint\n",
        "from tensorflow.keras.preprocessing.text import Tokenizer\n",
        "from tensorflow.keras.preprocessing import sequence\n",
        "from sklearn.preprocessing import LabelEncoder\n",
        "from keras.preprocessing.text import Tokenizer\n",
        "from keras.preprocessing.sequence import pad_sequences\n",
        "from keras.layers import Dense, Embedding, LSTM, SpatialDropout1D\n",
        "from sklearn.model_selection import train_test_split \n",
        "import matplotlib.pyplot as plt\n",
        "\n",
        "\n",
        "import seaborn as sns\n",
        "from sklearn.metrics import confusion_matrix\n",
        "from sklearn.metrics import classification_report, confusion_matrix, accuracy_score"
      ]
    },
    {
      "cell_type": "code",
      "source": [
        "\n",
        "url='https://drive.google.com/file/d/1-vBpWV0H0cxX5jSeHlQIKXIiosMKwq2t/view?usp=sharing'\n",
        "file_id=url.split('/')[-2]\n",
        "dwn_url='https://drive.google.com/uc?id=' + file_id\n",
        "data = pd.read_csv(dwn_url)"
      ],
      "metadata": {
        "id": "llyKnAqY9L7x"
      },
      "execution_count": 6,
      "outputs": []
    },
    {
      "cell_type": "code",
      "source": [
        ""
      ],
      "metadata": {
        "id": "nPLmpjdP9NZF"
      },
      "execution_count": null,
      "outputs": []
    },
    {
      "cell_type": "markdown",
      "source": [
        "# 5 Category prediciton"
      ],
      "metadata": {
        "id": "8RfMwh9L9QwQ"
      }
    },
    {
      "cell_type": "code",
      "source": [
        "trunc = 500\n",
        "\n",
        "## sampling neutral review:\n",
        "reviews1 = data[data[\"review_stars\"] == 1]\n",
        "reviews1 = reviews1.sample(n=trunc)\n",
        "\n",
        "## sampling negative review:\n",
        "reviews2 = data[data[\"review_stars\"] == 2]\n",
        "reviews2 = reviews2.sample(n=trunc)\n",
        "\n",
        "\n",
        "## sampling positive review:\n",
        "reviews3 = data[data[\"review_stars\"] == 3]\n",
        "reviews3 = reviews3.sample(n=trunc)\n",
        "\n",
        "## sampling positive review:\n",
        "reviews4 = data[data[\"review_stars\"] == 4]\n",
        "reviews4 = reviews4.sample(n=trunc)\n",
        "\n",
        "## sampling positive review:\n",
        "reviews5 = data[data[\"review_stars\"] == 5]\n",
        "reviews5 = reviews5.sample(n=trunc)\n",
        "\n",
        "data = reviews1.append([reviews2, reviews3,reviews4,reviews5])\n",
        "data.shape"
      ],
      "metadata": {
        "colab": {
          "base_uri": "https://localhost:8080/"
        },
        "id": "DlA87Dgg9Uad",
        "outputId": "ca4e1817-ce28-434c-a390-0783d85411f5"
      },
      "execution_count": 28,
      "outputs": [
        {
          "output_type": "execute_result",
          "data": {
            "text/plain": [
              "(2500, 19)"
            ]
          },
          "metadata": {},
          "execution_count": 28
        }
      ]
    },
    {
      "cell_type": "code",
      "source": [
        "data.shape\n"
      ],
      "metadata": {
        "colab": {
          "base_uri": "https://localhost:8080/"
        },
        "id": "zsaCdVcJQF9F",
        "outputId": "bbcecde4-3118-49ac-b165-9f91ed502162"
      },
      "execution_count": 29,
      "outputs": [
        {
          "output_type": "execute_result",
          "data": {
            "text/plain": [
              "(2500, 19)"
            ]
          },
          "metadata": {},
          "execution_count": 29
        }
      ]
    },
    {
      "cell_type": "code",
      "source": [
        "\n",
        "# Encoded the target column\n",
        "lb=LabelEncoder()\n",
        "data['sentiment'] = lb.fit_transform(data['review_stars'].values)\n",
        "\n",
        "tokenizer = Tokenizer(num_words=500, split=' ') \n",
        "tokenizer.fit_on_texts(data['text'].values)\n",
        "X = tokenizer.texts_to_sequences(data['text'].values)\n",
        "X = pad_sequences(X)\n",
        "\n",
        "#Splitting the data into training and testing\n",
        "y=pd.get_dummies(data['review_stars'])\n",
        "X_train, X_test, y_train, y_test = train_test_split(X,y, test_size = 0.3, random_state = 42)"
      ],
      "metadata": {
        "id": "sQQKmYgJ9Vl7"
      },
      "execution_count": 40,
      "outputs": []
    },
    {
      "cell_type": "code",
      "source": [
        "model = Sequential()\n",
        "model.add(Embedding(500, 120, input_length = X.shape[1]))\n",
        "model.add(SpatialDropout1D(0))\n",
        "model.add(LSTM(128, dropout=0, recurrent_dropout=0,return_sequences=True))\n",
        "model.add(Conv1D(filters=128, kernel_size=3, padding='same', activation='relu'))\n",
        "model.add(MaxPooling1D(pool_size=3))\n",
        "model.add(Conv1D(filters=64, kernel_size=3, padding='same', activation='relu'))\n",
        "model.add(MaxPooling1D(pool_size=3))\n",
        "#model.add(Conv1D(filters=32, kernel_size=3, padding='same', activation='relu'))\n",
        "#model.add(MaxPooling1D(pool_size=3))\n",
        "\n",
        "model.add(Flatten())\n",
        "model.add(Dense(100, activation='relu'))\n",
        "\n",
        "model.add(Dense(5, activation='softmax'))\n",
        "model.compile(loss='categorical_crossentropy', optimizer='adam', metrics=['accuracy'])\n",
        "model.summary()"
      ],
      "metadata": {
        "colab": {
          "base_uri": "https://localhost:8080/"
        },
        "id": "x7jh2ZYm9xeh",
        "outputId": "960bddd0-cf30-498e-812c-a4b262999aab"
      },
      "execution_count": 49,
      "outputs": [
        {
          "output_type": "stream",
          "name": "stdout",
          "text": [
            "Model: \"sequential_18\"\n",
            "_________________________________________________________________\n",
            " Layer (type)                Output Shape              Param #   \n",
            "=================================================================\n",
            " embedding_18 (Embedding)    (None, 700, 120)          60000     \n",
            "                                                                 \n",
            " spatial_dropout1d_17 (Spati  (None, 700, 120)         0         \n",
            " alDropout1D)                                                    \n",
            "                                                                 \n",
            " lstm_17 (LSTM)              (None, 700, 128)          127488    \n",
            "                                                                 \n",
            " conv1d_38 (Conv1D)          (None, 700, 128)          49280     \n",
            "                                                                 \n",
            " max_pooling1d_37 (MaxPoolin  (None, 233, 128)         0         \n",
            " g1D)                                                            \n",
            "                                                                 \n",
            " conv1d_39 (Conv1D)          (None, 233, 64)           24640     \n",
            "                                                                 \n",
            " max_pooling1d_38 (MaxPoolin  (None, 77, 64)           0         \n",
            " g1D)                                                            \n",
            "                                                                 \n",
            " conv1d_40 (Conv1D)          (None, 77, 32)            6176      \n",
            "                                                                 \n",
            " max_pooling1d_39 (MaxPoolin  (None, 25, 32)           0         \n",
            " g1D)                                                            \n",
            "                                                                 \n",
            " flatten_14 (Flatten)        (None, 800)               0         \n",
            "                                                                 \n",
            " dense_29 (Dense)            (None, 100)               80100     \n",
            "                                                                 \n",
            " dense_30 (Dense)            (None, 5)                 505       \n",
            "                                                                 \n",
            "=================================================================\n",
            "Total params: 348,189\n",
            "Trainable params: 348,189\n",
            "Non-trainable params: 0\n",
            "_________________________________________________________________\n"
          ]
        }
      ]
    },
    {
      "cell_type": "code",
      "source": [
        "import time\n",
        "start = time.time()\n",
        "\n",
        "\n",
        "\n",
        "batch_size = 32\n",
        "X_train1 = X_train[batch_size:]\n",
        "y_train1 = y_train[batch_size:]\n",
        "X_valid = X_train[:batch_size]\n",
        "y_valid = y_train[:batch_size]\n",
        "\n",
        "\n",
        "model.fit(X_train1, y_train1, validation_data=(X_valid,y_valid), epochs = 1, batch_size=batch_size, verbose = 'auto')\n",
        "\n",
        "end = time.time()\n",
        "hours, rem = divmod(end-start, 3600)\n",
        "minutes, seconds = divmod(rem, 60)\n",
        "\n",
        "\n",
        "print(\"Execution time: \"+\"{:0>2}:{:0>2}:{:05.2f}\".format(int(hours),int(minutes),seconds))"
      ],
      "metadata": {
        "colab": {
          "base_uri": "https://localhost:8080/"
        },
        "id": "8YuDwsJa-UbC",
        "outputId": "41167ffa-425f-4752-cb7c-0e8698496248"
      },
      "execution_count": 50,
      "outputs": [
        {
          "output_type": "stream",
          "name": "stdout",
          "text": [
            "54/54 [==============================] - 64s 1s/step - loss: 1.6084 - accuracy: 0.2101 - val_loss: 1.5889 - val_accuracy: 0.2812\n",
            "Execution time: 00:01:24.39\n"
          ]
        }
      ]
    },
    {
      "cell_type": "code",
      "source": [
        "loss, accuracy = model.evaluate(X_train, y_train, verbose=False)\n",
        "print(\"Training Accuracy: {:.4f}\".format(accuracy))\n",
        "loss, accuracy = model.evaluate(X_test, y_test, verbose=False)\n",
        "print(\"Testing Accuracy:  {:.4f}\".format(accuracy))"
      ],
      "metadata": {
        "colab": {
          "base_uri": "https://localhost:8080/"
        },
        "id": "I3WMxBHv59lV",
        "outputId": "273fe0c9-9936-42d0-f023-024a6a237a4b"
      },
      "execution_count": 51,
      "outputs": [
        {
          "output_type": "stream",
          "name": "stdout",
          "text": [
            "Training Accuracy: 0.2606\n",
            "Testing Accuracy:  0.2333\n"
          ]
        }
      ]
    },
    {
      "cell_type": "code",
      "source": [
        "# summarize history for accuracy\n",
        "plt.plot(history.history['accuracy'])\n",
        "plt.plot(history.history['val_accuracy'])\n",
        "plt.title('Model accuracy LSTM')\n",
        "plt.ylabel('accuracy')\n",
        "plt.xlabel('epoch')\n",
        "plt.legend(['train', 'test'], loc='upper left')\n",
        "plt.show()\n",
        "# summarize history for loss\n",
        "plt.plot(history.history['loss'])\n",
        "plt.plot(history.history['val_loss'])\n",
        "plt.title('model loss')\n",
        "plt.ylabel('loss')\n",
        "plt.xlabel('epoch')\n",
        "plt.legend(['train', 'test'], loc='upper left')\n",
        "plt.show()"
      ],
      "metadata": {
        "colab": {
          "base_uri": "https://localhost:8080/",
          "height": 573
        },
        "id": "3VnLW_e4FPJy",
        "outputId": "1087eee7-867c-4b18-9048-994bbdfbe942"
      },
      "execution_count": 52,
      "outputs": [
        {
          "output_type": "display_data",
          "data": {
            "text/plain": [
              "<Figure size 432x288 with 1 Axes>"
            ],
            "image/png": "[encoded data removed]"
          },
          "metadata": {
            "needs_background": "light"
          }
        },
        {
          "output_type": "display_data",
          "data": {
            "text/plain": [
              "<Figure size 432x288 with 1 Axes>"
            ],
            "image/png": "[encoded data removed]"
          },
          "metadata": {
            "needs_background": "light"
          }
        }
      ]
    },
    {
      "cell_type": "code",
      "source": [
        ""
      ],
      "metadata": {
        "id": "tLE7I2NN5Vgt"
      },
      "execution_count": null,
      "outputs": []
    }
  ]
}
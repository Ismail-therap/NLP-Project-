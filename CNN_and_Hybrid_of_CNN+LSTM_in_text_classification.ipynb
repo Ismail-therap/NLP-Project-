{
  "nbformat": 4,
  "nbformat_minor": 0,
  "metadata": {
    "colab": {
      "name": "CNN and Hybrid of CNN+LSTM in text classification.ipynb",
      "provenance": [],
      "collapsed_sections": [],
      "authorship_tag": "ABX9TyMETPT3YFbqjWOxu2wfE77X",
      "include_colab_link": true
    },
    "kernelspec": {
      "name": "python3",
      "display_name": "Python 3"
    },
    "language_info": {
      "name": "python"
    }
  },
  "cells": [
    {
      "cell_type": "markdown",
      "metadata": {
        "id": "view-in-github",
        "colab_type": "text"
      },
      "source": [
        "<a href=\"https://colab.research.google.com/github/Ismail-therap/NLP-Project-Predicting-review-in-1-to-5-star-/blob/main/CNN_and_Hybrid_of_CNN%2BLSTM_in_text_classification.ipynb\" target=\"_parent\"><img src=\"https://colab.research.google.com/assets/colab-badge.svg\" alt=\"Open In Colab\"/></a>"
      ]
    },
    {
      "cell_type": "code",
      "execution_count": null,
      "metadata": {
        "id": "VVZ3Tf-sXI0k"
      },
      "outputs": [],
      "source": [
        "# Importing libraries\n",
        "from keras.datasets import imdb\n",
        "from keras.models import Sequential\n",
        "from keras.layers import Dense\n",
        "from keras.layers import Flatten\n",
        "from keras.layers.convolutional import Conv1D\n",
        "from keras.layers.convolutional import MaxPooling1D\n",
        "from keras.layers.embeddings import Embedding\n",
        "from keras.preprocessing import sequence"
      ]
    },
    {
      "cell_type": "code",
      "source": [
        "from google.colab import drive\n",
        "drive.mount('/content/drive')"
      ],
      "metadata": {
        "id": "WrY2a6O3Er8s"
      },
      "execution_count": null,
      "outputs": []
    },
    {
      "cell_type": "code",
      "source": [
        "# Code to read csv file into Colaboratory:\n",
        "!pip install -U -q PyDrive\n",
        "import os\n",
        "from pydrive.auth import GoogleAuth\n",
        "from pydrive.drive import GoogleDrive\n",
        "from google.colab import auth\n",
        "from oauth2client.client import GoogleCredentials"
      ],
      "metadata": {
        "id": "8tDJ_LHyEvZ3"
      },
      "execution_count": null,
      "outputs": []
    },
    {
      "cell_type": "code",
      "source": [
        "# 1. Authenticate and create the PyDrive client.\n",
        "auth.authenticate_user()\n",
        "gauth = GoogleAuth()\n",
        "gauth.credentials = GoogleCredentials.get_application_default()\n",
        "drive = GoogleDrive(gauth)"
      ],
      "metadata": {
        "id": "iy0Xyy2KEvc1"
      },
      "execution_count": null,
      "outputs": []
    },
    {
      "cell_type": "code",
      "source": [
        "link2 = 'https://drive.google.com/open?id=1cfhUjGNvEBBxAXCFX8XihCULg5HAIE1v'\n",
        "\n",
        "fluff, id2 = link2.split('=')\n",
        "print (id2) # Verify that you have everything after '='"
      ],
      "metadata": {
        "colab": {
          "base_uri": "https://localhost:8080/"
        },
        "id": "x2RohISiEvfh",
        "outputId": "03e2ee11-66f7-4334-e2b6-960f49630e0e"
      },
      "execution_count": null,
      "outputs": [
        {
          "output_type": "stream",
          "name": "stdout",
          "text": [
            "1cfhUjGNvEBBxAXCFX8XihCULg5HAIE1v\n"
          ]
        }
      ]
    },
    {
      "cell_type": "code",
      "source": [
        "import pandas as pd\n",
        "downloaded2 = drive.CreateFile({'id':id2}) \n",
        "downloaded2.GetContentFile('yelp_review_partial.csv') \n",
        "data = pd.read_csv('yelp_review_partial.csv')\n",
        "data.head()"
      ],
      "metadata": {
        "colab": {
          "base_uri": "https://localhost:8080/",
          "height": 250
        },
        "id": "5P_Wxq78E4w6",
        "outputId": "ea788a59-7d94-4969-e3ee-4a09e2fc9d74"
      },
      "execution_count": null,
      "outputs": [
        {
          "output_type": "execute_result",
          "data": {
            "text/plain": [
              "   Unnamed: 0               review_id                 user_id  \\\n",
              "0           0  lWC-xP3rd6obsecCYsGZRg  ak0TdVmGKo4pwqdJSTLwWw   \n",
              "1           1  8bFej1QE5LXp4O05qjGqXA  YoVfDbnISlW0f7abNQACIg   \n",
              "2           2  NDhkzczKjLshODbqDoNLSg  eC5evKn1TWDyHCyQAwguUw   \n",
              "3           3  T5fAqjjFooT4V0OeZyuk1w  SFQ1jcnGguO0LYWnbbftAA   \n",
              "4           4  sjm_uUcQVxab_EeLCqsYLg  0kA0PAJ8QFMeveQWHFqz2A   \n",
              "\n",
              "              business_id  stars  useful  funny  cool  \\\n",
              "0  buF9druCkbuXLX526sGELQ      4       3      1     1   \n",
              "1  RA4V8pr014UyUbDvI-LW2A      4       1      0     0   \n",
              "2  _sS2LBIGNT5NQb6PD1Vtjw      5       0      0     0   \n",
              "3  0AzLzHfOJgL7ROwhdww2ew      2       1      1     1   \n",
              "4  8zehGz9jnxPqXtOc7KaJxA      4       0      0     0   \n",
              "\n",
              "                                                text                 date  \n",
              "0  Apparently Prides Osteria had a rough summer a...  2014-10-11 03:34:02  \n",
              "1  This store is pretty good. Not as great as Wal...  2015-07-03 20:38:25  \n",
              "2  I called WVM on the recommendation of a couple...  2013-05-28 20:38:06  \n",
              "3  I've stayed at many Marriott and Renaissance M...  2010-01-08 02:29:15  \n",
              "4  The food is always great here. The service fro...  2011-07-28 18:05:01  "
            ],
            "text/html": [
              "\n",
              "  <div id=\"df-9020e10c-827b-4be4-be4e-0eb234a9f157\">\n",
              "    <div class=\"colab-df-container\">\n",
              "      <div>\n",
              "<style scoped>\n",
              "    .dataframe tbody tr th:only-of-type {\n",
              "        vertical-align: middle;\n",
              "    }\n",
              "\n",
              "    .dataframe tbody tr th {\n",
              "        vertical-align: top;\n",
              "    }\n",
              "\n",
              "    .dataframe thead th {\n",
              "        text-align: right;\n",
              "    }\n",
              "</style>\n",
              "<table border=\"1\" class=\"dataframe\">\n",
              "  <thead>\n",
              "    <tr style=\"text-align: right;\">\n",
              "      <th></th>\n",
              "      <th>Unnamed: 0</th>\n",
              "      <th>review_id</th>\n",
              "      <th>user_id</th>\n",
              "      <th>business_id</th>\n",
              "      <th>stars</th>\n",
              "      <th>useful</th>\n",
              "      <th>funny</th>\n",
              "      <th>cool</th>\n",
              "      <th>text</th>\n",
              "      <th>date</th>\n",
              "    </tr>\n",
              "  </thead>\n",
              "  <tbody>\n",
              "    <tr>\n",
              "      <th>0</th>\n",
              "      <td>0</td>\n",
              "      <td>lWC-xP3rd6obsecCYsGZRg</td>\n",
              "      <td>ak0TdVmGKo4pwqdJSTLwWw</td>\n",
              "      <td>buF9druCkbuXLX526sGELQ</td>\n",
              "      <td>4</td>\n",
              "      <td>3</td>\n",
              "      <td>1</td>\n",
              "      <td>1</td>\n",
              "      <td>Apparently Prides Osteria had a rough summer a...</td>\n",
              "      <td>2014-10-11 03:34:02</td>\n",
              "    </tr>\n",
              "    <tr>\n",
              "      <th>1</th>\n",
              "      <td>1</td>\n",
              "      <td>8bFej1QE5LXp4O05qjGqXA</td>\n",
              "      <td>YoVfDbnISlW0f7abNQACIg</td>\n",
              "      <td>RA4V8pr014UyUbDvI-LW2A</td>\n",
              "      <td>4</td>\n",
              "      <td>1</td>\n",
              "      <td>0</td>\n",
              "      <td>0</td>\n",
              "      <td>This store is pretty good. Not as great as Wal...</td>\n",
              "      <td>2015-07-03 20:38:25</td>\n",
              "    </tr>\n",
              "    <tr>\n",
              "      <th>2</th>\n",
              "      <td>2</td>\n",
              "      <td>NDhkzczKjLshODbqDoNLSg</td>\n",
              "      <td>eC5evKn1TWDyHCyQAwguUw</td>\n",
              "      <td>_sS2LBIGNT5NQb6PD1Vtjw</td>\n",
              "      <td>5</td>\n",
              "      <td>0</td>\n",
              "      <td>0</td>\n",
              "      <td>0</td>\n",
              "      <td>I called WVM on the recommendation of a couple...</td>\n",
              "      <td>2013-05-28 20:38:06</td>\n",
              "    </tr>\n",
              "    <tr>\n",
              "      <th>3</th>\n",
              "      <td>3</td>\n",
              "      <td>T5fAqjjFooT4V0OeZyuk1w</td>\n",
              "      <td>SFQ1jcnGguO0LYWnbbftAA</td>\n",
              "      <td>0AzLzHfOJgL7ROwhdww2ew</td>\n",
              "      <td>2</td>\n",
              "      <td>1</td>\n",
              "      <td>1</td>\n",
              "      <td>1</td>\n",
              "      <td>I've stayed at many Marriott and Renaissance M...</td>\n",
              "      <td>2010-01-08 02:29:15</td>\n",
              "    </tr>\n",
              "    <tr>\n",
              "      <th>4</th>\n",
              "      <td>4</td>\n",
              "      <td>sjm_uUcQVxab_EeLCqsYLg</td>\n",
              "      <td>0kA0PAJ8QFMeveQWHFqz2A</td>\n",
              "      <td>8zehGz9jnxPqXtOc7KaJxA</td>\n",
              "      <td>4</td>\n",
              "      <td>0</td>\n",
              "      <td>0</td>\n",
              "      <td>0</td>\n",
              "      <td>The food is always great here. The service fro...</td>\n",
              "      <td>2011-07-28 18:05:01</td>\n",
              "    </tr>\n",
              "  </tbody>\n",
              "</table>\n",
              "</div>\n",
              "      <button class=\"colab-df-convert\" onclick=\"convertToInteractive('df-9020e10c-827b-4be4-be4e-0eb234a9f157')\"\n",
              "              title=\"Convert this dataframe to an interactive table.\"\n",
              "              style=\"display:none;\">\n",
              "        \n",
              "  <svg xmlns=\"http://www.w3.org/2000/svg\" height=\"24px\"viewBox=\"0 0 24 24\"\n",
              "       width=\"24px\">\n",
              "    <path d=\"M0 0h24v24H0V0z\" fill=\"none\"/>\n",
              "    <path d=\"M18.56 5.44l.94 2.06.94-2.06 2.06-.94-2.06-.94-.94-2.06-.94 2.06-2.06.94zm-11 1L8.5 8.5l.94-2.06 2.06-.94-2.06-.94L8.5 2.5l-.94 2.06-2.06.94zm10 10l.94 2.06.94-2.06 2.06-.94-2.06-.94-.94-2.06-.94 2.06-2.06.94z\"/><path d=\"M17.41 7.96l-1.37-1.37c-.4-.4-.92-.59-1.43-.59-.52 0-1.04.2-1.43.59L10.3 9.45l-7.72 7.72c-.78.78-.78 2.05 0 2.83L4 21.41c.39.39.9.59 1.41.59.51 0 1.02-.2 1.41-.59l7.78-7.78 2.81-2.81c.8-.78.8-2.07 0-2.86zM5.41 20L4 18.59l7.72-7.72 1.47 1.35L5.41 20z\"/>\n",
              "  </svg>\n",
              "      </button>\n",
              "      \n",
              "  <style>\n",
              "    .colab-df-container {\n",
              "      display:flex;\n",
              "      flex-wrap:wrap;\n",
              "      gap: 12px;\n",
              "    }\n",
              "\n",
              "    .colab-df-convert {\n",
              "      background-color: #E8F0FE;\n",
              "      border: none;\n",
              "      border-radius: 50%;\n",
              "      cursor: pointer;\n",
              "      display: none;\n",
              "      fill: #1967D2;\n",
              "      height: 32px;\n",
              "      padding: 0 0 0 0;\n",
              "      width: 32px;\n",
              "    }\n",
              "\n",
              "    .colab-df-convert:hover {\n",
              "      background-color: #E2EBFA;\n",
              "      box-shadow: 0px 1px 2px rgba(60, 64, 67, 0.3), 0px 1px 3px 1px rgba(60, 64, 67, 0.15);\n",
              "      fill: #174EA6;\n",
              "    }\n",
              "\n",
              "    [theme=dark] .colab-df-convert {\n",
              "      background-color: #3B4455;\n",
              "      fill: #D2E3FC;\n",
              "    }\n",
              "\n",
              "    [theme=dark] .colab-df-convert:hover {\n",
              "      background-color: #434B5C;\n",
              "      box-shadow: 0px 1px 3px 1px rgba(0, 0, 0, 0.15);\n",
              "      filter: drop-shadow(0px 1px 2px rgba(0, 0, 0, 0.3));\n",
              "      fill: #FFFFFF;\n",
              "    }\n",
              "  </style>\n",
              "\n",
              "      <script>\n",
              "        const buttonEl =\n",
              "          document.querySelector('#df-9020e10c-827b-4be4-be4e-0eb234a9f157 button.colab-df-convert');\n",
              "        buttonEl.style.display =\n",
              "          google.colab.kernel.accessAllowed ? 'block' : 'none';\n",
              "\n",
              "        async function convertToInteractive(key) {\n",
              "          const element = document.querySelector('#df-9020e10c-827b-4be4-be4e-0eb234a9f157');\n",
              "          const dataTable =\n",
              "            await google.colab.kernel.invokeFunction('convertToInteractive',\n",
              "                                                     [key], {});\n",
              "          if (!dataTable) return;\n",
              "\n",
              "          const docLinkHtml = 'Like what you see? Visit the ' +\n",
              "            '<a target=\"_blank\" href=https://colab.research.google.com/notebooks/data_table.ipynb>data table notebook</a>'\n",
              "            + ' to learn more about interactive tables.';\n",
              "          element.innerHTML = '';\n",
              "          dataTable['output_type'] = 'display_data';\n",
              "          await google.colab.output.renderOutput(dataTable, element);\n",
              "          const docLink = document.createElement('div');\n",
              "          docLink.innerHTML = docLinkHtml;\n",
              "          element.appendChild(docLink);\n",
              "        }\n",
              "      </script>\n",
              "    </div>\n",
              "  </div>\n",
              "  "
            ]
          },
          "metadata": {},
          "execution_count": 108
        }
      ]
    },
    {
      "cell_type": "markdown",
      "source": [
        "# Text processing for CNN and (CNN+LSTM)"
      ],
      "metadata": {
        "id": "iNa9cOiURWoI"
      }
    },
    {
      "cell_type": "code",
      "source": [
        "from sklearn.model_selection import train_test_split\n",
        "data['cnn_star'] = data['stars'] - 1\n",
        "review = data['text'].values\n",
        "label = data['cnn_star'].values\n",
        "review_train, review_test, label_train, label_test = train_test_split(review, label, test_size=0.25, random_state=1000)\n",
        "\n",
        "num_classes = 5\n",
        "at_label_train = k.utils.to_categorical(label_train, num_classes)\n",
        "at_label_test = k.utils.to_categorical(label_test, num_classes)\n",
        "\n",
        "\n",
        "from keras.preprocessing.text import Tokenizer\n",
        "tokenizer = Tokenizer(num_words=5000)\n",
        "tokenizer.fit_on_texts(review_train)\n",
        "Xcnn_train = tokenizer.texts_to_sequences(review_train)\n",
        "Xcnn_test = tokenizer.texts_to_sequences(review_test)\n",
        "vocab_size = len(tokenizer.word_index) + 1  \n",
        "\n",
        "\n",
        "from keras.preprocessing.sequence import pad_sequences\n",
        "maxlen = 450\n",
        "Xcnn_train = pad_sequences(Xcnn_train, padding='post', maxlen=maxlen)\n",
        "Xcnn_test = pad_sequences(Xcnn_test, padding='post', maxlen=maxlen)\n",
        "print(Xcnn_train[0, :]) "
      ],
      "metadata": {
        "colab": {
          "base_uri": "https://localhost:8080/"
        },
        "id": "_NJsaF3bhDe_",
        "outputId": "58da8cea-8162-44f9-f94d-ecd483e74861"
      },
      "execution_count": null,
      "outputs": [
        {
          "output_type": "stream",
          "name": "stdout",
          "text": [
            "[ 469   21    4  248  291   25   37   10   12  108    6  137   14   16\n",
            "  297   33  200   31    5 1832   52 2237 2238   11   25  314    4 2849\n",
            "   24    3  171 1833    3   87   11   33    2   12 2850    3   76  200\n",
            "   31    5 1832   37    7 4136   35 4137   40   62 4138    2   20  701\n",
            " 1550 1551 2851   20   46   15  886    1  286  113   53   60    3 2239\n",
            "   16  102  629   33   52  426  136 1552   53   60    8  151   19    1\n",
            " 2240 2852   24  190  132  201    0    0    0    0    0    0    0    0\n",
            "    0    0    0    0    0    0    0    0    0    0    0    0    0    0\n",
            "    0    0    0    0    0    0    0    0    0    0    0    0    0    0\n",
            "    0    0    0    0    0    0    0    0    0    0    0    0    0    0\n",
            "    0    0    0    0    0    0    0    0    0    0    0    0    0    0\n",
            "    0    0    0    0    0    0    0    0    0    0    0    0    0    0\n",
            "    0    0    0    0    0    0    0    0    0    0    0    0    0    0\n",
            "    0    0    0    0    0    0    0    0    0    0    0    0    0    0\n",
            "    0    0    0    0    0    0    0    0    0    0    0    0    0    0\n",
            "    0    0    0    0    0    0    0    0    0    0    0    0    0    0\n",
            "    0    0    0    0    0    0    0    0    0    0    0    0    0    0\n",
            "    0    0    0    0    0    0    0    0    0    0    0    0    0    0\n",
            "    0    0    0    0    0    0    0    0    0    0    0    0    0    0\n",
            "    0    0    0    0    0    0    0    0    0    0    0    0    0    0\n",
            "    0    0    0    0    0    0    0    0    0    0    0    0    0    0\n",
            "    0    0    0    0    0    0    0    0    0    0    0    0    0    0\n",
            "    0    0    0    0    0    0    0    0    0    0    0    0    0    0\n",
            "    0    0    0    0    0    0    0    0    0    0    0    0    0    0\n",
            "    0    0    0    0    0    0    0    0    0    0    0    0    0    0\n",
            "    0    0    0    0    0    0    0    0    0    0    0    0    0    0\n",
            "    0    0    0    0    0    0    0    0    0    0    0    0    0    0\n",
            "    0    0    0    0    0    0    0    0    0    0    0    0    0    0\n",
            "    0    0    0    0    0    0    0    0    0    0    0    0    0    0\n",
            "    0    0    0    0    0    0    0    0    0    0    0    0    0    0\n",
            "    0    0    0    0    0    0    0    0    0    0    0    0    0    0\n",
            "    0    0    0    0    0    0    0    0    0    0    0    0    0    0\n",
            "    0    0]\n"
          ]
        }
      ]
    },
    {
      "cell_type": "markdown",
      "source": [
        "# Convulation Neural Network Model (CNN)"
      ],
      "metadata": {
        "id": "eEPNtShFkFfh"
      }
    },
    {
      "cell_type": "code",
      "source": [
        "embedding_dim = 100\n",
        "textcnnmodel = Sequential()\n",
        "textcnnmodel.add(layers.Embedding(vocab_size, embedding_dim, input_length=maxlen))\n",
        "textcnnmodel.add(layers.Conv1D(128, 5, activation='relu',padding = 'same'))\n",
        "textcnnmodel.add(layers.GlobalMaxPooling1D())\n",
        "textcnnmodel.add(layers.Flatten())\n",
        "textcnnmodel.add(layers.Dense(5, activation='softmax'))\n",
        "textcnnmodel.compile(loss='sparse_categorical_crossentropy', optimizer='adam', metrics=['accuracy'])"
      ],
      "metadata": {
        "id": "4822GU4xi_LU"
      },
      "execution_count": null,
      "outputs": []
    },
    {
      "cell_type": "code",
      "source": [
        "textcnnmodel.fit(Xcnn_train, label_train,\n",
        "                     epochs=10,\n",
        "                     validation_data=(Xcnn_test, label_test),\n",
        "                     batch_size = 64)\n",
        "loss, accuracy = textcnnmodel.evaluate(Xcnn_train, label_train, verbose=False)\n",
        "print(\"Training Accuracy: {:.4f}\".format(accuracy))\n",
        "loss, accuracy = textcnnmodel.evaluate(Xcnn_test, label_test, verbose=False)\n",
        "print(\"Testing Accuracy:  {:.4f}\".format(accuracy))"
      ],
      "metadata": {
        "colab": {
          "base_uri": "https://localhost:8080/"
        },
        "id": "rMvQ048EjQQP",
        "outputId": "5f6b528c-5887-4f49-dac9-25d3ba536054"
      },
      "execution_count": null,
      "outputs": [
        {
          "output_type": "stream",
          "name": "stdout",
          "text": [
            "Epoch 1/10\n",
            "12/12 [==============================] - 7s 556ms/step - loss: 1.5578 - accuracy: 0.2680 - val_loss: 1.4826 - val_accuracy: 0.3720\n",
            "Epoch 2/10\n",
            "12/12 [==============================] - 6s 538ms/step - loss: 1.3679 - accuracy: 0.4400 - val_loss: 1.4834 - val_accuracy: 0.3480\n",
            "Epoch 3/10\n",
            "12/12 [==============================] - 6s 536ms/step - loss: 1.2927 - accuracy: 0.4080 - val_loss: 1.4624 - val_accuracy: 0.3480\n",
            "Epoch 4/10\n",
            "12/12 [==============================] - 6s 535ms/step - loss: 1.2079 - accuracy: 0.5933 - val_loss: 1.4526 - val_accuracy: 0.3480\n",
            "Epoch 5/10\n",
            "12/12 [==============================] - 6s 534ms/step - loss: 1.1113 - accuracy: 0.6133 - val_loss: 1.4436 - val_accuracy: 0.3480\n",
            "Epoch 6/10\n",
            "12/12 [==============================] - 6s 533ms/step - loss: 0.9973 - accuracy: 0.6720 - val_loss: 1.4239 - val_accuracy: 0.3640\n",
            "Epoch 7/10\n",
            "12/12 [==============================] - 6s 533ms/step - loss: 0.8657 - accuracy: 0.7653 - val_loss: 1.4069 - val_accuracy: 0.3640\n",
            "Epoch 8/10\n",
            "12/12 [==============================] - 6s 534ms/step - loss: 0.7203 - accuracy: 0.9133 - val_loss: 1.3812 - val_accuracy: 0.3760\n",
            "Epoch 9/10\n",
            "12/12 [==============================] - 6s 536ms/step - loss: 0.5668 - accuracy: 0.9853 - val_loss: 1.3499 - val_accuracy: 0.4120\n",
            "Epoch 10/10\n",
            "12/12 [==============================] - 6s 536ms/step - loss: 0.4210 - accuracy: 0.9973 - val_loss: 1.3281 - val_accuracy: 0.4240\n",
            "Training Accuracy: 0.9987\n",
            "Testing Accuracy:  0.4240\n"
          ]
        }
      ]
    },
    {
      "cell_type": "markdown",
      "source": [
        "# Hybrid (CNN + LSTM)"
      ],
      "metadata": {
        "id": "oeL5NOOekrI1"
      }
    },
    {
      "cell_type": "markdown",
      "source": [
        ""
      ],
      "metadata": {
        "id": "qa9m8zOx9UdC"
      }
    },
    {
      "cell_type": "code",
      "source": [
        "import h5py as h5\n",
        "import scipy.io as sio\n",
        "import pandas as pd\n",
        "import numpy as np\n",
        "import matplotlib.pyplot as plt\n",
        "from os import listdir\n",
        "from tensorflow.keras.preprocessing import sequence\n",
        "import tensorflow as tf\n",
        "from tensorflow.keras.models import Sequential\n",
        "from tensorflow.keras.layers import Flatten, Embedding, Dropout, Activation, Reshape\n",
        "from tensorflow.keras.layers import Dense, Conv1D, MaxPooling1D, GlobalAveragePooling1D, TimeDistributed\n",
        "from tensorflow.keras.layers import LSTM\n",
        "from tensorflow.keras.optimizers import Adam\n",
        "from tensorflow.keras.models import load_model\n",
        "from tensorflow.keras.callbacks import ModelCheckpoint\n",
        "import seaborn as sns\n",
        "from sklearn.metrics import confusion_matrix\n",
        "from sklearn.metrics import classification_report, confusion_matrix, accuracy_score\n"
      ],
      "metadata": {
        "id": "tu2W-dyK9U-Y"
      },
      "execution_count": null,
      "outputs": []
    },
    {
      "cell_type": "code",
      "source": [
        "embedding_dim = 100\n",
        "model = Sequential()\n",
        "model.add(layers.Embedding(vocab_size, embedding_dim, input_length=maxlen))\n",
        "model.add(Conv1D(filters=128,kernel_size = 5,padding = 'valid',activation = 'relu', strides = 1))\n",
        "model.add(MaxPooling1D(pool_size = 10))\n",
        "model.add(Conv1D(filters=64,kernel_size = 5,padding = 'valid',activation = 'relu', strides = 1))\n",
        "#model.add(LSTM(100,return_sequences = True,activation='sigmoid',recurrent_activation = 'sigmoid',dropout=0.2,recurrent_dropout=0.2))\n",
        "#model.add(LSTM(100,return_sequences = True,activation='sigmoid',recurrent_activation = 'sigmoid',dropout=0.2,recurrent_dropout=0.2))\n",
        "model.add(LSTM(units=200))\n",
        "model.add(Dense(5,activation='softmax'))\n",
        "model.compile(loss='sparse_categorical_crossentropy',optimizer = 'adam',metrics = ['accuracy'])"
      ],
      "metadata": {
        "id": "-4WLcFsy9VA-"
      },
      "execution_count": null,
      "outputs": []
    },
    {
      "cell_type": "code",
      "source": [
        "model.fit(Xcnn_train, label_train,\n",
        "                     epochs=10,\n",
        "                     validation_data=(Xcnn_test, label_test),\n",
        "                     batch_size = 64)\n",
        "loss, accuracy = model.evaluate(Xcnn_train, label_train, verbose=False)\n",
        "print(\"Training Accuracy: {:.4f}\".format(accuracy))\n",
        "loss, accuracy = model.evaluate(Xcnn_test, label_test, verbose=False)\n",
        "print(\"Testing Accuracy:  {:.4f}\".format(accuracy))"
      ],
      "metadata": {
        "colab": {
          "base_uri": "https://localhost:8080/"
        },
        "id": "IXtl9g1M9VDp",
        "outputId": "16f8d115-577f-4bc7-894d-e4ac1324e286"
      },
      "execution_count": null,
      "outputs": [
        {
          "output_type": "stream",
          "name": "stdout",
          "text": [
            "Epoch 1/10\n",
            "12/12 [==============================] - 8s 498ms/step - loss: 1.5002 - accuracy: 0.3907 - val_loss: 1.4932 - val_accuracy: 0.3040\n",
            "Epoch 2/10\n",
            "12/12 [==============================] - 5s 449ms/step - loss: 1.4578 - accuracy: 0.3467 - val_loss: 1.4934 - val_accuracy: 0.3480\n",
            "Epoch 3/10\n",
            "12/12 [==============================] - 5s 451ms/step - loss: 1.4435 - accuracy: 0.4000 - val_loss: 1.4824 - val_accuracy: 0.3480\n",
            "Epoch 4/10\n",
            "12/12 [==============================] - 5s 452ms/step - loss: 1.4366 - accuracy: 0.4027 - val_loss: 1.4720 - val_accuracy: 0.3480\n",
            "Epoch 5/10\n",
            "12/12 [==============================] - 5s 452ms/step - loss: 1.4204 - accuracy: 0.3960 - val_loss: 1.5124 - val_accuracy: 0.3480\n",
            "Epoch 6/10\n",
            "12/12 [==============================] - 5s 450ms/step - loss: 1.3932 - accuracy: 0.4053 - val_loss: 1.5201 - val_accuracy: 0.3480\n",
            "Epoch 7/10\n",
            "12/12 [==============================] - 5s 452ms/step - loss: 1.2608 - accuracy: 0.4440 - val_loss: 1.3945 - val_accuracy: 0.4080\n",
            "Epoch 8/10\n",
            "12/12 [==============================] - 5s 451ms/step - loss: 1.0745 - accuracy: 0.4947 - val_loss: 1.6163 - val_accuracy: 0.2920\n",
            "Epoch 9/10\n",
            "12/12 [==============================] - 5s 447ms/step - loss: 1.0571 - accuracy: 0.4653 - val_loss: 1.2656 - val_accuracy: 0.4280\n",
            "Epoch 10/10\n",
            "12/12 [==============================] - 5s 453ms/step - loss: 0.9344 - accuracy: 0.5040 - val_loss: 1.4136 - val_accuracy: 0.3880\n",
            "Training Accuracy: 0.5107\n",
            "Testing Accuracy:  0.3880\n"
          ]
        }
      ]
    },
    {
      "cell_type": "code",
      "source": [
        ""
      ],
      "metadata": {
        "id": "RtG9-nxH9VKX"
      },
      "execution_count": null,
      "outputs": []
    },
    {
      "cell_type": "code",
      "source": [
        ""
      ],
      "metadata": {
        "id": "sjF77X7k9VNv"
      },
      "execution_count": null,
      "outputs": []
    }
  ]
}
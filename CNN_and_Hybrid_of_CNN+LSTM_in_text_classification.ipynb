{
  "nbformat": 4,
  "nbformat_minor": 0,
  "metadata": {
    "colab": {
      "name": "CNN and Hybrid of CNN+LSTM in text classification.ipynb",
      "provenance": [],
      "collapsed_sections": [],
      "include_colab_link": true
    },
    "kernelspec": {
      "name": "python3",
      "display_name": "Python 3"
    },
    "language_info": {
      "name": "python"
    }
  },
  "cells": [
    {
      "cell_type": "markdown",
      "metadata": {
        "id": "view-in-github",
        "colab_type": "text"
      },
      "source": [
        "<a href=\"https://colab.research.google.com/github/Ismail-therap/NLP-Project-Predicting-review-in-1-to-5-star-/blob/main/CNN_and_Hybrid_of_CNN%2BLSTM_in_text_classification.ipynb\" target=\"_parent\"><img src=\"https://colab.research.google.com/assets/colab-badge.svg\" alt=\"Open In Colab\"/></a>"
      ]
    },
    {
      "cell_type": "code",
      "execution_count": 42,
      "metadata": {
        "id": "VVZ3Tf-sXI0k"
      },
      "outputs": [],
      "source": [
        "# Importing libraries\n",
        "import h5py as h5\n",
        "import scipy.io as sio\n",
        "import pandas as pd\n",
        "import numpy as np\n",
        "import matplotlib.pyplot as plt\n",
        "from os import listdir\n",
        "from tensorflow.keras.preprocessing import sequence\n",
        "import tensorflow as tf\n",
        "from tensorflow.keras.models import Sequential\n",
        "from tensorflow.keras.layers import Flatten, Embedding, Dropout, Activation, Reshape\n",
        "from tensorflow.keras.layers import Dense, Conv1D, MaxPooling1D, GlobalAveragePooling1D, TimeDistributed\n",
        "from tensorflow.keras.layers import LSTM\n",
        "from tensorflow.keras.optimizers import Adam\n",
        "from tensorflow.keras.models import load_model\n",
        "from tensorflow.keras.callbacks import ModelCheckpoint\n",
        "from tensorflow.keras.preprocessing.text import Tokenizer\n",
        "from tensorflow.keras.preprocessing import sequence\n",
        "from sklearn.preprocessing import LabelEncoder\n",
        "\n",
        "import seaborn as sns\n",
        "from sklearn.metrics import confusion_matrix\n",
        "from sklearn.metrics import classification_report, confusion_matrix, accuracy_score"
      ]
    },
    {
      "cell_type": "markdown",
      "source": [
        "# Loading the data"
      ],
      "metadata": {
        "id": "ds-t43rCNcnf"
      }
    },
    {
      "cell_type": "code",
      "source": [
        "\n",
        "url='https://drive.google.com/file/d/1-vBpWV0H0cxX5jSeHlQIKXIiosMKwq2t/view?usp=sharing'\n",
        "file_id=url.split('/')[-2]\n",
        "dwn_url='https://drive.google.com/uc?id=' + file_id\n",
        "data = pd.read_csv(dwn_url)"
      ],
      "metadata": {
        "id": "5P_Wxq78E4w6"
      },
      "execution_count": 43,
      "outputs": []
    },
    {
      "cell_type": "code",
      "source": [
        ""
      ],
      "metadata": {
        "id": "INCDF20BGfih"
      },
      "execution_count": null,
      "outputs": []
    },
    {
      "cell_type": "markdown",
      "source": [
        "# Truncating data"
      ],
      "metadata": {
        "id": "hzchOvj_NgWm"
      }
    },
    {
      "cell_type": "code",
      "source": [
        "trunc = 500\n",
        "\n",
        "## sampling neutral review:\n",
        "reviews1 = data[data[\"review_stars\"] == 1]\n",
        "reviews1 = reviews1.sample(n=trunc)\n",
        "\n",
        "## sampling negative review:\n",
        "reviews2 = data[data[\"review_stars\"] == 2]\n",
        "reviews2 = reviews2.sample(n=trunc)\n",
        "\n",
        "\n",
        "## sampling positive review:\n",
        "reviews3 = data[data[\"review_stars\"] == 3]\n",
        "reviews3 = reviews3.sample(n=trunc)\n",
        "\n",
        "## sampling positive review:\n",
        "reviews4 = data[data[\"review_stars\"] == 4]\n",
        "reviews4 = reviews4.sample(n=trunc)\n",
        "\n",
        "## sampling positive review:\n",
        "reviews5 = data[data[\"review_stars\"] == 5]\n",
        "reviews5 = reviews5.sample(n=trunc)\n",
        "\n",
        "data = reviews1.append([reviews2, reviews3,reviews4,reviews5])\n",
        "data.shape"
      ],
      "metadata": {
        "colab": {
          "base_uri": "https://localhost:8080/"
        },
        "id": "BZ8v3PQrGfm9",
        "outputId": "d8a1ba8f-d53e-4966-c549-eaae25af7eb0"
      },
      "execution_count": 44,
      "outputs": [
        {
          "output_type": "execute_result",
          "data": {
            "text/plain": [
              "(2500, 18)"
            ]
          },
          "metadata": {},
          "execution_count": 44
        }
      ]
    },
    {
      "cell_type": "markdown",
      "source": [
        "# Text processing for CNN+LSTM hybrid model\n",
        "\n",
        "\n",
        "\n"
      ],
      "metadata": {
        "id": "iNa9cOiURWoI"
      }
    },
    {
      "cell_type": "code",
      "source": [
        "from sklearn.model_selection import train_test_split\n",
        "data['cnn_star'] = data['stars'] - 1\n",
        "review = data['text'].values\n",
        "label = data['cnn_star'].values\n",
        "review_train, review_test, label_train, label_test = train_test_split(review, label, test_size=0.25, random_state=1000)\n",
        "\n",
        "#num_classes = 5\n",
        "#at_label_train = k.utils.to_categorical(label_train, num_classes)\n",
        "#at_label_test = k.utils.to_categorical(label_test, num_classes)\n",
        "\n",
        "\n",
        "from keras.preprocessing.text import Tokenizer\n",
        "tokenizer = Tokenizer(num_words=5000)\n",
        "tokenizer.fit_on_texts(review_train)\n",
        "Xcnn_train = tokenizer.texts_to_sequences(review_train)\n",
        "Xcnn_test = tokenizer.texts_to_sequences(review_test)\n",
        "vocab_size = len(tokenizer.word_index) + 1  \n",
        "\n",
        "\n",
        "from keras.preprocessing.sequence import pad_sequences\n",
        "maxlen = 450\n",
        "Xcnn_train = pad_sequences(Xcnn_train, padding='post', maxlen=maxlen)\n",
        "Xcnn_test = pad_sequences(Xcnn_test, padding='post', maxlen=maxlen)\n",
        "print(Xcnn_train[0, :]) "
      ],
      "metadata": {
        "colab": {
          "base_uri": "https://localhost:8080/"
        },
        "id": "_NJsaF3bhDe_",
        "outputId": "58ee9975-77fd-4d76-acaa-a8f13bd64d21"
      },
      "execution_count": 45,
      "outputs": [
        {
          "output_type": "stream",
          "name": "stdout",
          "text": [
            "[   3   13   16   10   19    4 2395   13    3   55 2635  112    3   23\n",
            "    7  627 4003    2  740   20    4   86 3372    5    4  771   26    1\n",
            "  361   61    3  257    6   33   25   88  196  110    5  465    1 4004\n",
            "    2   33   25   88  196 4992   20    1 2395    1 2396    6   70   39\n",
            "    4 4005    2   23 1057  366    3 2933   12 4993  967   13    3   96\n",
            " 4006   14  367 2636   25  140   19 2637    1  771   26    1  273    6\n",
            "   86   14   19  237    1   11   12  907  140  466  141    5   81   16\n",
            " 4004   35    8   23 4994  727  184   50    4  192    7   51    2  149\n",
            "   18   24  196 4992    2 2934    0    0    0    0    0    0    0    0\n",
            "    0    0    0    0    0    0    0    0    0    0    0    0    0    0\n",
            "    0    0    0    0    0    0    0    0    0    0    0    0    0    0\n",
            "    0    0    0    0    0    0    0    0    0    0    0    0    0    0\n",
            "    0    0    0    0    0    0    0    0    0    0    0    0    0    0\n",
            "    0    0    0    0    0    0    0    0    0    0    0    0    0    0\n",
            "    0    0    0    0    0    0    0    0    0    0    0    0    0    0\n",
            "    0    0    0    0    0    0    0    0    0    0    0    0    0    0\n",
            "    0    0    0    0    0    0    0    0    0    0    0    0    0    0\n",
            "    0    0    0    0    0    0    0    0    0    0    0    0    0    0\n",
            "    0    0    0    0    0    0    0    0    0    0    0    0    0    0\n",
            "    0    0    0    0    0    0    0    0    0    0    0    0    0    0\n",
            "    0    0    0    0    0    0    0    0    0    0    0    0    0    0\n",
            "    0    0    0    0    0    0    0    0    0    0    0    0    0    0\n",
            "    0    0    0    0    0    0    0    0    0    0    0    0    0    0\n",
            "    0    0    0    0    0    0    0    0    0    0    0    0    0    0\n",
            "    0    0    0    0    0    0    0    0    0    0    0    0    0    0\n",
            "    0    0    0    0    0    0    0    0    0    0    0    0    0    0\n",
            "    0    0    0    0    0    0    0    0    0    0    0    0    0    0\n",
            "    0    0    0    0    0    0    0    0    0    0    0    0    0    0\n",
            "    0    0    0    0    0    0    0    0    0    0    0    0    0    0\n",
            "    0    0    0    0    0    0    0    0    0    0    0    0    0    0\n",
            "    0    0    0    0    0    0    0    0    0    0    0    0    0    0\n",
            "    0    0    0    0    0    0    0    0    0    0    0    0    0    0\n",
            "    0    0]\n"
          ]
        }
      ]
    },
    {
      "cell_type": "markdown",
      "source": [
        "# Hybrid (CNN + LSTM)"
      ],
      "metadata": {
        "id": "oeL5NOOekrI1"
      }
    },
    {
      "cell_type": "markdown",
      "source": [
        "## 5 category prediction"
      ],
      "metadata": {
        "id": "kuAp-pTrORVc"
      }
    },
    {
      "cell_type": "markdown",
      "source": [
        ""
      ],
      "metadata": {
        "id": "qa9m8zOx9UdC"
      }
    },
    {
      "cell_type": "code",
      "source": [
        "# create the model\n",
        "embedding_dim = 100\n",
        "model = Sequential()\n",
        "model.add(Embedding(vocab_size,embedding_dim, input_length=maxlen))\n",
        "model.add(Conv1D(filters=128, kernel_size=5, padding='same', activation='relu'))\n",
        "model.add(MaxPooling1D(pool_size=5))\n",
        "model.add(Conv1D(filters=128, kernel_size=5, padding='same', activation='relu'))\n",
        "model.add(MaxPooling1D(pool_size=5))\n",
        "model.add(Conv1D(filters=128, kernel_size=5, padding='same', activation='relu'))\n",
        "model.add(MaxPooling1D(pool_size=5))\n",
        "model.add(LSTM(units=128))\n",
        "model.add(Dense(5,activation='softmax'))\n",
        "model.compile(loss='sparse_categorical_crossentropy',optimizer = 'adam',metrics = ['accuracy'])"
      ],
      "metadata": {
        "id": "oQ2f4rZqFby5"
      },
      "execution_count": 46,
      "outputs": []
    },
    {
      "cell_type": "code",
      "source": [
        "import time\n",
        "start = time.time()\n",
        "\n",
        "\n",
        "batch_size = 64\n",
        "X_train1 = Xcnn_train[batch_size:]\n",
        "y_train1 = label_train[batch_size:]\n",
        "X_valid = Xcnn_train[:batch_size]\n",
        "y_valid = label_train[:batch_size]\n",
        "\n",
        "history = model.fit(X_train1, y_train1,epochs=10, validation_data=(X_valid, y_valid),batch_size = batch_size)\n",
        "loss, accuracy = model.evaluate(Xcnn_train, label_train, verbose=False)\n",
        "print(\"Training Accuracy: {:.4f}\".format(accuracy))\n",
        "loss, accuracy = model.evaluate(Xcnn_test, label_test, verbose=False)\n",
        "print(\"Testing Accuracy:  {:.4f}\".format(accuracy))\n",
        "\n",
        "end = time.time()\n",
        "hours, rem = divmod(end-start, 3600)\n",
        "minutes, seconds = divmod(rem, 60)\n",
        "\n",
        "\n",
        "print(\"Execution time: \"+\"{:0>2}:{:0>2}:{:05.2f}\".format(int(hours),int(minutes),seconds))"
      ],
      "metadata": {
        "colab": {
          "base_uri": "https://localhost:8080/"
        },
        "id": "IXtl9g1M9VDp",
        "outputId": "b3d53aba-de27-4b13-9f2e-001ff6141267"
      },
      "execution_count": 47,
      "outputs": [
        {
          "output_type": "stream",
          "name": "stdout",
          "text": [
            "Epoch 1/10\n",
            "29/29 [==============================] - 16s 443ms/step - loss: 1.2440 - accuracy: 0.2579 - val_loss: 1.2381 - val_accuracy: 0.3906\n",
            "Epoch 2/10\n",
            "29/29 [==============================] - 15s 525ms/step - loss: 1.1445 - accuracy: 0.2474 - val_loss: 1.2339 - val_accuracy: 0.1406\n",
            "Epoch 3/10\n",
            "29/29 [==============================] - 12s 418ms/step - loss: 1.1233 - accuracy: 0.2402 - val_loss: 1.2279 - val_accuracy: 0.2656\n",
            "Epoch 4/10\n",
            "29/29 [==============================] - 11s 372ms/step - loss: 1.0413 - accuracy: 0.2430 - val_loss: 1.3647 - val_accuracy: 0.1406\n",
            "Epoch 5/10\n",
            "29/29 [==============================] - 11s 370ms/step - loss: 0.9252 - accuracy: 0.2783 - val_loss: 1.5869 - val_accuracy: 0.3125\n",
            "Epoch 6/10\n",
            "29/29 [==============================] - 11s 370ms/step - loss: 0.8006 - accuracy: 0.2954 - val_loss: 1.7563 - val_accuracy: 0.3281\n",
            "Epoch 7/10\n",
            "29/29 [==============================] - 11s 370ms/step - loss: 0.7316 - accuracy: 0.3341 - val_loss: 1.8933 - val_accuracy: 0.3281\n",
            "Epoch 8/10\n",
            "29/29 [==============================] - 11s 370ms/step - loss: 0.6412 - accuracy: 0.3683 - val_loss: 2.1102 - val_accuracy: 0.3125\n",
            "Epoch 9/10\n",
            "29/29 [==============================] - 11s 393ms/step - loss: 0.5174 - accuracy: 0.4092 - val_loss: 2.4212 - val_accuracy: 0.2969\n",
            "Epoch 10/10\n",
            "29/29 [==============================] - 11s 371ms/step - loss: 0.4428 - accuracy: 0.4224 - val_loss: 2.2835 - val_accuracy: 0.3594\n",
            "Training Accuracy: 0.4469\n",
            "Testing Accuracy:  0.2288\n",
            "Execution time: 00:02:29.54\n"
          ]
        }
      ]
    },
    {
      "cell_type": "code",
      "source": [
        "# summarize history for accuracy\n",
        "plt.plot(history.history['accuracy'])\n",
        "plt.plot(history.history['val_accuracy'])\n",
        "plt.title('Model accuracy LSTM')\n",
        "plt.ylabel('accuracy')\n",
        "plt.xlabel('epoch')\n",
        "plt.legend(['train', 'test'], loc='upper left')\n",
        "plt.show()\n",
        "# summarize history for loss\n",
        "plt.plot(history.history['loss'])\n",
        "plt.plot(history.history['val_loss'])\n",
        "plt.title('model loss')\n",
        "plt.ylabel('loss')\n",
        "plt.xlabel('epoch')\n",
        "plt.legend(['train', 'test'], loc='upper left')\n",
        "plt.show()"
      ],
      "metadata": {
        "colab": {
          "base_uri": "https://localhost:8080/",
          "height": 573
        },
        "id": "3S19lZZcPQpv",
        "outputId": "42505bab-fe48-4d97-9e6a-93b36aa21383"
      },
      "execution_count": 48,
      "outputs": [
        {
          "output_type": "display_data",
          "data": {
            "text/plain": [
              "<Figure size 432x288 with 1 Axes>"
            ],
            "image/png": "[encoded data removed]"
          },
          "metadata": {
            "needs_background": "light"
          }
        },
        {
          "output_type": "display_data",
          "data": {
            "text/plain": [
              "<Figure size 432x288 with 1 Axes>"
            ],
            "image/png": "[encoded data removed]"
          },
          "metadata": {
            "needs_background": "light"
          }
        }
      ]
    },
    {
      "cell_type": "code",
      "source": [
        "#"
      ],
      "metadata": {
        "id": "RtG9-nxH9VKX"
      },
      "execution_count": null,
      "outputs": []
    },
    {
      "cell_type": "markdown",
      "source": [
        "# 3 category prediction"
      ],
      "metadata": {
        "id": "rg1Z-Phvrb85"
      }
    },
    {
      "cell_type": "code",
      "source": [
        "import numpy as np\n",
        "\n",
        "# create a list of our conditions\n",
        "conditions = [\n",
        "    (data['review_stars'] <= 2),\n",
        "    (data['review_stars'] == 3),\n",
        "    (data['review_stars'] > 3)\n",
        "    ]\n",
        "\n",
        "# create a list of the values we want to assign for each condition\n",
        "values = [0,1,2]\n",
        "\n",
        "# create a new column and use np.select to assign values to it using our lists as arguments\n",
        "data['three_star'] = np.select(conditions, values)\n",
        "\n",
        "\n",
        "# display updated DataFrame\n",
        "#data.head()"
      ],
      "metadata": {
        "id": "sjF77X7k9VNv"
      },
      "execution_count": 49,
      "outputs": []
    },
    {
      "cell_type": "code",
      "source": [
        "reviews_smallest = data[data[\"three_star\"] == 1]\n",
        "\n",
        "## sampling negative review:\n",
        "reviews_neg = data[data[\"three_star\"] == 0]\n",
        "reviews_neg = reviews_neg.sample(n=reviews_smallest.shape[0])\n",
        "\n",
        "\n",
        "## sampling positive review:\n",
        "reviews_pos = data[data[\"three_star\"] == 2]\n",
        "reviews_pos = reviews_pos.sample(n=reviews_smallest.shape[0])\n",
        "\n",
        "data = reviews_smallest.append([reviews_neg, reviews_pos])\n",
        "data.shape"
      ],
      "metadata": {
        "colab": {
          "base_uri": "https://localhost:8080/"
        },
        "id": "IC5-y7purvU6",
        "outputId": "f7d48b01-0754-473c-a873-6d5665d325f1"
      },
      "execution_count": 50,
      "outputs": [
        {
          "output_type": "execute_result",
          "data": {
            "text/plain": [
              "(1500, 20)"
            ]
          },
          "metadata": {},
          "execution_count": 50
        }
      ]
    },
    {
      "cell_type": "code",
      "source": [
        "trunc = 500\n",
        "\n",
        "## sampling neutral review:\n",
        "reviews_utral = data[data[\"three_star\"] == 1]\n",
        "reviews_utral = reviews_utral.sample(n=trunc)\n",
        "\n",
        "## sampling negative review:\n",
        "reviews_neg = data[data[\"three_star\"] == 0]\n",
        "reviews_neg = reviews_neg.sample(n=trunc)\n",
        "\n",
        "\n",
        "## sampling positive review:\n",
        "reviews_pos = data[data[\"three_star\"] == 2]\n",
        "reviews_pos = reviews_pos.sample(n=trunc)\n",
        "\n",
        "data = reviews_utral.append([reviews_neg, reviews_pos])\n",
        "data.shape"
      ],
      "metadata": {
        "colab": {
          "base_uri": "https://localhost:8080/"
        },
        "id": "BDAEIGRqr8I1",
        "outputId": "b21ca118-e1db-4388-ea65-5c1c52d97b5f"
      },
      "execution_count": 51,
      "outputs": [
        {
          "output_type": "execute_result",
          "data": {
            "text/plain": [
              "(1500, 20)"
            ]
          },
          "metadata": {},
          "execution_count": 51
        }
      ]
    },
    {
      "cell_type": "code",
      "source": [
        "review = data['text'].values\n",
        "label = data['three_star'].values\n",
        "review_train, review_test, label_train, label_test = train_test_split(review, label, test_size=0.25, random_state=1000)\n",
        "\n",
        "#num_classes = 5\n",
        "#at_label_train = k.utils.to_categorical(label_train, num_classes)\n",
        "#at_label_test = k.utils.to_categorical(label_test, num_classes)\n",
        "\n",
        "\n",
        "from keras.preprocessing.text import Tokenizer\n",
        "tokenizer = Tokenizer(num_words=5000)\n",
        "tokenizer.fit_on_texts(review_train)\n",
        "Xcnn_train = tokenizer.texts_to_sequences(review_train)\n",
        "Xcnn_test = tokenizer.texts_to_sequences(review_test)\n",
        "vocab_size = len(tokenizer.word_index) + 1  \n",
        "\n",
        "\n",
        "from keras.preprocessing.sequence import pad_sequences\n",
        "maxlen = 450\n",
        "Xcnn_train = pad_sequences(Xcnn_train, padding='post', maxlen=maxlen)\n",
        "Xcnn_test = pad_sequences(Xcnn_test, padding='post', maxlen=maxlen)\n",
        "print(Xcnn_train[0, :]) "
      ],
      "metadata": {
        "colab": {
          "base_uri": "https://localhost:8080/"
        },
        "id": "zqitqEcFsUye",
        "outputId": "5f14e5c6-1f55-4378-bbe6-639e2b66eab9"
      },
      "execution_count": 52,
      "outputs": [
        {
          "output_type": "stream",
          "name": "stdout",
          "text": [
            "[  38   86   99    3   69   64   41    9   75 2476   14    3   94    9\n",
            "   57 2477    3    6  167   13  243   53   18  904    2    8   81   14\n",
            "   15   24   38   86  803   30  143    5  833    8   17   39  305    5\n",
            " 1444   30    4  953    7  449    3   81  213   94   55    1  164  125\n",
            "   79 3720   13  804    2    6   10    2   39   38  553    0    0    0\n",
            "    0    0    0    0    0    0    0    0    0    0    0    0    0    0\n",
            "    0    0    0    0    0    0    0    0    0    0    0    0    0    0\n",
            "    0    0    0    0    0    0    0    0    0    0    0    0    0    0\n",
            "    0    0    0    0    0    0    0    0    0    0    0    0    0    0\n",
            "    0    0    0    0    0    0    0    0    0    0    0    0    0    0\n",
            "    0    0    0    0    0    0    0    0    0    0    0    0    0    0\n",
            "    0    0    0    0    0    0    0    0    0    0    0    0    0    0\n",
            "    0    0    0    0    0    0    0    0    0    0    0    0    0    0\n",
            "    0    0    0    0    0    0    0    0    0    0    0    0    0    0\n",
            "    0    0    0    0    0    0    0    0    0    0    0    0    0    0\n",
            "    0    0    0    0    0    0    0    0    0    0    0    0    0    0\n",
            "    0    0    0    0    0    0    0    0    0    0    0    0    0    0\n",
            "    0    0    0    0    0    0    0    0    0    0    0    0    0    0\n",
            "    0    0    0    0    0    0    0    0    0    0    0    0    0    0\n",
            "    0    0    0    0    0    0    0    0    0    0    0    0    0    0\n",
            "    0    0    0    0    0    0    0    0    0    0    0    0    0    0\n",
            "    0    0    0    0    0    0    0    0    0    0    0    0    0    0\n",
            "    0    0    0    0    0    0    0    0    0    0    0    0    0    0\n",
            "    0    0    0    0    0    0    0    0    0    0    0    0    0    0\n",
            "    0    0    0    0    0    0    0    0    0    0    0    0    0    0\n",
            "    0    0    0    0    0    0    0    0    0    0    0    0    0    0\n",
            "    0    0    0    0    0    0    0    0    0    0    0    0    0    0\n",
            "    0    0    0    0    0    0    0    0    0    0    0    0    0    0\n",
            "    0    0    0    0    0    0    0    0    0    0    0    0    0    0\n",
            "    0    0    0    0    0    0    0    0    0    0    0    0    0    0\n",
            "    0    0    0    0    0    0    0    0    0    0    0    0    0    0\n",
            "    0    0    0    0    0    0    0    0    0    0    0    0    0    0\n",
            "    0    0]\n"
          ]
        }
      ]
    },
    {
      "cell_type": "code",
      "source": [
        "# create the model\n",
        "embedding_dim = 100\n",
        "model = Sequential()\n",
        "model.add(Embedding(vocab_size,embedding_dim, input_length=maxlen))\n",
        "model.add(Conv1D(filters=128, kernel_size=5, padding='same', activation='relu'))\n",
        "model.add(MaxPooling1D(pool_size=5))\n",
        "model.add(Conv1D(filters=128, kernel_size=5, padding='same', activation='relu'))\n",
        "model.add(MaxPooling1D(pool_size=5))\n",
        "model.add(Conv1D(filters=128, kernel_size=5, padding='same', activation='relu'))\n",
        "model.add(MaxPooling1D(pool_size=5))\n",
        "model.add(LSTM(units=128))\n",
        "model.add(Dense(3,activation='softmax'))\n",
        "model.compile(loss='sparse_categorical_crossentropy',optimizer = 'adam',metrics = ['accuracy'])"
      ],
      "metadata": {
        "id": "hWY55bZdsgzw"
      },
      "execution_count": 53,
      "outputs": []
    },
    {
      "cell_type": "code",
      "source": [
        "import time\n",
        "start = time.time()\n",
        "\n",
        "\n",
        "batch_size = 64\n",
        "X_train1 = Xcnn_train[batch_size:]\n",
        "y_train1 = label_train[batch_size:]\n",
        "X_valid = Xcnn_train[:batch_size]\n",
        "y_valid = label_train[:batch_size]\n",
        "\n",
        "history = model.fit(X_train1, y_train1,epochs=10, validation_data=(X_valid, y_valid),batch_size = batch_size)\n",
        "loss, accuracy = model.evaluate(Xcnn_train, label_train, verbose=False)\n",
        "print(\"Training Accuracy: {:.4f}\".format(accuracy))\n",
        "loss, accuracy = model.evaluate(Xcnn_test, label_test, verbose=False)\n",
        "print(\"Testing Accuracy:  {:.4f}\".format(accuracy))\n",
        "\n",
        "end = time.time()\n",
        "hours, rem = divmod(end-start, 3600)\n",
        "minutes, seconds = divmod(rem, 60)\n",
        "\n",
        "\n",
        "print(\"Execution time: \"+\"{:0>2}:{:0>2}:{:05.2f}\".format(int(hours),int(minutes),seconds))"
      ],
      "metadata": {
        "colab": {
          "base_uri": "https://localhost:8080/"
        },
        "id": "s0SYltWOwCtc",
        "outputId": "0f9d4508-4b67-493a-c241-704e1074796f"
      },
      "execution_count": 55,
      "outputs": [
        {
          "output_type": "stream",
          "name": "stdout",
          "text": [
            "Epoch 1/10\n",
            "17/17 [==============================] - 8s 453ms/step - loss: 0.0100 - accuracy: 0.9972 - val_loss: 1.6050 - val_accuracy: 0.7344\n",
            "Epoch 2/10\n",
            "17/17 [==============================] - 6s 371ms/step - loss: 0.0182 - accuracy: 0.9972 - val_loss: 1.5714 - val_accuracy: 0.7344\n",
            "Epoch 3/10\n",
            "17/17 [==============================] - 6s 369ms/step - loss: 0.0079 - accuracy: 0.9991 - val_loss: 1.6500 - val_accuracy: 0.7344\n",
            "Epoch 4/10\n",
            "17/17 [==============================] - 6s 369ms/step - loss: 0.0071 - accuracy: 0.9991 - val_loss: 1.6568 - val_accuracy: 0.7656\n",
            "Epoch 5/10\n",
            "17/17 [==============================] - 6s 368ms/step - loss: 0.0016 - accuracy: 1.0000 - val_loss: 1.7019 - val_accuracy: 0.7500\n",
            "Epoch 6/10\n",
            "17/17 [==============================] - 6s 370ms/step - loss: 9.4207e-04 - accuracy: 1.0000 - val_loss: 1.7382 - val_accuracy: 0.7344\n",
            "Epoch 7/10\n",
            "17/17 [==============================] - 6s 370ms/step - loss: 7.3917e-04 - accuracy: 1.0000 - val_loss: 1.7618 - val_accuracy: 0.7344\n",
            "Epoch 8/10\n",
            "17/17 [==============================] - 6s 372ms/step - loss: 6.2200e-04 - accuracy: 1.0000 - val_loss: 1.7809 - val_accuracy: 0.7344\n",
            "Epoch 9/10\n",
            "17/17 [==============================] - 6s 371ms/step - loss: 5.3882e-04 - accuracy: 1.0000 - val_loss: 1.7980 - val_accuracy: 0.7344\n",
            "Epoch 10/10\n",
            "17/17 [==============================] - 6s 371ms/step - loss: 4.7644e-04 - accuracy: 1.0000 - val_loss: 1.8152 - val_accuracy: 0.7344\n",
            "Training Accuracy: 0.9849\n",
            "Testing Accuracy:  0.5573\n",
            "Execution time: 00:01:06.75\n"
          ]
        }
      ]
    },
    {
      "cell_type": "code",
      "source": [
        "# summarize history for accuracy\n",
        "plt.plot(history.history['accuracy'])\n",
        "plt.plot(history.history['val_accuracy'])\n",
        "plt.title('Model accuracy LSTM')\n",
        "plt.ylabel('accuracy')\n",
        "plt.xlabel('epoch')\n",
        "plt.legend(['train', 'test'], loc='upper left')\n",
        "plt.show()\n",
        "# summarize history for loss\n",
        "plt.plot(history.history['loss'])\n",
        "plt.plot(history.history['val_loss'])\n",
        "plt.title('model loss')\n",
        "plt.ylabel('loss')\n",
        "plt.xlabel('epoch')\n",
        "plt.legend(['train', 'test'], loc='upper left')\n",
        "plt.show()"
      ],
      "metadata": {
        "colab": {
          "base_uri": "https://localhost:8080/",
          "height": 573
        },
        "id": "Lm08uJn4su-j",
        "outputId": "f3db9df9-a341-44da-97f7-1e488db2b26b"
      },
      "execution_count": 32,
      "outputs": [
        {
          "output_type": "display_data",
          "data": {
            "text/plain": [
              "<Figure size 432x288 with 1 Axes>"
            ],
            "image/png": "[encoded data removed]"
          },
          "metadata": {
            "needs_background": "light"
          }
        },
        {
          "output_type": "display_data",
          "data": {
            "text/plain": [
              "<Figure size 432x288 with 1 Axes>"
            ],
            "image/png": "[encoded data removed]"
          },
          "metadata": {
            "needs_background": "light"
          }
        }
      ]
    },
    {
      "cell_type": "code",
      "source": [
        ""
      ],
      "metadata": {
        "id": "bmOBaQHns246"
      },
      "execution_count": null,
      "outputs": []
    },
    {
      "cell_type": "markdown",
      "source": [
        "# Two category prediction"
      ],
      "metadata": {
        "id": "FGE9ZV0h50en"
      }
    },
    {
      "cell_type": "code",
      "source": [
        "data = pd.read_csv(dwn_url)\n",
        "\n",
        "# create a list of our conditions\n",
        "conditions = [\n",
        "    (data['review_stars'] <= 2),\n",
        "    (data['review_stars'] == 3),\n",
        "    (data['review_stars'] > 3)\n",
        "    ]\n",
        "\n",
        "# create a list of the values we want to assign for each condition\n",
        "values = [0,-1,1]\n",
        "\n",
        "# create a new column and use np.select to assign values to it using our lists as arguments\n",
        "data['two_star'] = np.select(conditions, values)\n",
        "\n",
        "\n",
        "data = data[data.two_star != -1]\n",
        "\n",
        "# display updated DataFrame\n",
        "data.head()"
      ],
      "metadata": {
        "colab": {
          "base_uri": "https://localhost:8080/",
          "height": 686
        },
        "id": "Dx58eUOS52YC",
        "outputId": "5db766fd-6bcc-4a90-dd85-a8cc8d4f5a9c"
      },
      "execution_count": 66,
      "outputs": [
        {
          "output_type": "execute_result",
          "data": {
            "text/plain": [
              "              business_id                                 name  \\\n",
              "0  0tGuFBrhM03I6TCLxDQhyg             Dancing Goats Coffee Bar   \n",
              "1  498F3rnpng6qv53S9diTSw                        Boston Market   \n",
              "2  7qBi3FMT2Oz4Jj1hCWwawA                     Bea's Nail Salon   \n",
              "3  K4X4nJVp0BcSn9Cvoavk8A                 T'Kilas Tacos & More   \n",
              "4  D6U1_06gxciRs1NoYjwhKQ  ESPN Club - Temporarily Unavailable   \n",
              "\n",
              "                     address     city state postal_code   latitude  longitude  \\\n",
              "0    419 W Ponce De Leon Ave  Decatur    GA       30030  33.775805 -84.303269   \n",
              "1    4607 Braker Ln, Ste 100   Austin    TX       78759  30.399832 -97.744997   \n",
              "2              75 Blossom Ct   Boston    MA       02114  42.364891 -71.066818   \n",
              "3          1248 Clairmont Rd  Decatur    GA       30030  33.789815 -84.307511   \n",
              "4  2101 N Epcot Resorts Blvd  Orlando    FL       32836  28.368008 -81.555289   \n",
              "\n",
              "   stars  review_count  is_open  \\\n",
              "0    4.0           358        1   \n",
              "1    3.0           102        1   \n",
              "2    3.0            23        1   \n",
              "3    3.0           115        0   \n",
              "4    2.5           303        1   \n",
              "\n",
              "                                          attributes  \\\n",
              "0  {'RestaurantsPriceRange2': '1', 'WiFi': \"'free...   \n",
              "1  {'BusinessAcceptsCreditCards': 'True', 'GoodFo...   \n",
              "2  {'BusinessAcceptsCreditCards': 'True', 'Restau...   \n",
              "3  {'GoodForKids': 'True', 'BikeParking': 'False'...   \n",
              "4  {'GoodForKids': 'True', 'Caters': 'False', 'Re...   \n",
              "\n",
              "                                          categories  \\\n",
              "0     Food, Coffee & Tea, Restaurants, Donuts, Cafes   \n",
              "1  American (Traditional), Caterers, Chicken Shop...   \n",
              "2                         Nail Salons, Beauty & Spas   \n",
              "3                               Mexican, Restaurants   \n",
              "4  Hotels, American (New), Event Planning & Servi...   \n",
              "\n",
              "                                               hours                 user_id  \\\n",
              "0  {'Monday': '7:0-17:0', 'Tuesday': '7:0-17:0', ...  IqUD0yoRq66PqnbSvRb5JA   \n",
              "1  {'Monday': '11:0-22:0', 'Tuesday': '11:0-22:0'...  n2eAlOnBo1St1p7MWqBFmg   \n",
              "2  {'Monday': '9:30-19:0', 'Tuesday': '9:30-19:0'...  pHTrbVN4lzTlzqqnWEJYGw   \n",
              "3  {'Monday': '11:0-22:30', 'Tuesday': '11:0-22:3...  Jfc8qYR3uEHIpU0nKzpObg   \n",
              "4  {'Monday': '0:0-0:0', 'Tuesday': '12:0-23:0', ...  Dw_oka5MVWOsaJCncfIXZQ   \n",
              "\n",
              "   review_stars                                               text  \\\n",
              "0             1  OMG!! Hate! This place. Rude to me. On so many...   \n",
              "1             1  Why bother being open on Thanksgiving if you c...   \n",
              "2             1  The fact that on a Saturday afternoon this \"sa...   \n",
              "3             1  I came to Los Loros in search of the \"strong, ...   \n",
              "4             1  My fries were stale and my cheesesteak was mos...   \n",
              "\n",
              "                  date  two_star  \n",
              "0  2018-10-06 14:34:51         0  \n",
              "1  2019-11-28 20:02:11         0  \n",
              "2  2009-07-11 19:59:46         0  \n",
              "3  2008-09-08 21:34:50         0  \n",
              "4  2018-01-14 01:41:50         0  "
            ],
            "text/html": [
              "\n",
              "  <div id=\"df-81906e5b-4273-402b-8ef4-8fec5296a780\">\n",
              "    <div class=\"colab-df-container\">\n",
              "      <div>\n",
              "<style scoped>\n",
              "    .dataframe tbody tr th:only-of-type {\n",
              "        vertical-align: middle;\n",
              "    }\n",
              "\n",
              "    .dataframe tbody tr th {\n",
              "        vertical-align: top;\n",
              "    }\n",
              "\n",
              "    .dataframe thead th {\n",
              "        text-align: right;\n",
              "    }\n",
              "</style>\n",
              "<table border=\"1\" class=\"dataframe\">\n",
              "  <thead>\n",
              "    <tr style=\"text-align: right;\">\n",
              "      <th></th>\n",
              "      <th>business_id</th>\n",
              "      <th>name</th>\n",
              "      <th>address</th>\n",
              "      <th>city</th>\n",
              "      <th>state</th>\n",
              "      <th>postal_code</th>\n",
              "      <th>latitude</th>\n",
              "      <th>longitude</th>\n",
              "      <th>stars</th>\n",
              "      <th>review_count</th>\n",
              "      <th>is_open</th>\n",
              "      <th>attributes</th>\n",
              "      <th>categories</th>\n",
              "      <th>hours</th>\n",
              "      <th>user_id</th>\n",
              "      <th>review_stars</th>\n",
              "      <th>text</th>\n",
              "      <th>date</th>\n",
              "      <th>two_star</th>\n",
              "    </tr>\n",
              "  </thead>\n",
              "  <tbody>\n",
              "    <tr>\n",
              "      <th>0</th>\n",
              "      <td>0tGuFBrhM03I6TCLxDQhyg</td>\n",
              "      <td>Dancing Goats Coffee Bar</td>\n",
              "      <td>419 W Ponce De Leon Ave</td>\n",
              "      <td>Decatur</td>\n",
              "      <td>GA</td>\n",
              "      <td>30030</td>\n",
              "      <td>33.775805</td>\n",
              "      <td>-84.303269</td>\n",
              "      <td>4.0</td>\n",
              "      <td>358</td>\n",
              "      <td>1</td>\n",
              "      <td>{'RestaurantsPriceRange2': '1', 'WiFi': \"'free...</td>\n",
              "      <td>Food, Coffee &amp; Tea, Restaurants, Donuts, Cafes</td>\n",
              "      <td>{'Monday': '7:0-17:0', 'Tuesday': '7:0-17:0', ...</td>\n",
              "      <td>IqUD0yoRq66PqnbSvRb5JA</td>\n",
              "      <td>1</td>\n",
              "      <td>OMG!! Hate! This place. Rude to me. On so many...</td>\n",
              "      <td>2018-10-06 14:34:51</td>\n",
              "      <td>0</td>\n",
              "    </tr>\n",
              "    <tr>\n",
              "      <th>1</th>\n",
              "      <td>498F3rnpng6qv53S9diTSw</td>\n",
              "      <td>Boston Market</td>\n",
              "      <td>4607 Braker Ln, Ste 100</td>\n",
              "      <td>Austin</td>\n",
              "      <td>TX</td>\n",
              "      <td>78759</td>\n",
              "      <td>30.399832</td>\n",
              "      <td>-97.744997</td>\n",
              "      <td>3.0</td>\n",
              "      <td>102</td>\n",
              "      <td>1</td>\n",
              "      <td>{'BusinessAcceptsCreditCards': 'True', 'GoodFo...</td>\n",
              "      <td>American (Traditional), Caterers, Chicken Shop...</td>\n",
              "      <td>{'Monday': '11:0-22:0', 'Tuesday': '11:0-22:0'...</td>\n",
              "      <td>n2eAlOnBo1St1p7MWqBFmg</td>\n",
              "      <td>1</td>\n",
              "      <td>Why bother being open on Thanksgiving if you c...</td>\n",
              "      <td>2019-11-28 20:02:11</td>\n",
              "      <td>0</td>\n",
              "    </tr>\n",
              "    <tr>\n",
              "      <th>2</th>\n",
              "      <td>7qBi3FMT2Oz4Jj1hCWwawA</td>\n",
              "      <td>Bea's Nail Salon</td>\n",
              "      <td>75 Blossom Ct</td>\n",
              "      <td>Boston</td>\n",
              "      <td>MA</td>\n",
              "      <td>02114</td>\n",
              "      <td>42.364891</td>\n",
              "      <td>-71.066818</td>\n",
              "      <td>3.0</td>\n",
              "      <td>23</td>\n",
              "      <td>1</td>\n",
              "      <td>{'BusinessAcceptsCreditCards': 'True', 'Restau...</td>\n",
              "      <td>Nail Salons, Beauty &amp; Spas</td>\n",
              "      <td>{'Monday': '9:30-19:0', 'Tuesday': '9:30-19:0'...</td>\n",
              "      <td>pHTrbVN4lzTlzqqnWEJYGw</td>\n",
              "      <td>1</td>\n",
              "      <td>The fact that on a Saturday afternoon this \"sa...</td>\n",
              "      <td>2009-07-11 19:59:46</td>\n",
              "      <td>0</td>\n",
              "    </tr>\n",
              "    <tr>\n",
              "      <th>3</th>\n",
              "      <td>K4X4nJVp0BcSn9Cvoavk8A</td>\n",
              "      <td>T'Kilas Tacos &amp; More</td>\n",
              "      <td>1248 Clairmont Rd</td>\n",
              "      <td>Decatur</td>\n",
              "      <td>GA</td>\n",
              "      <td>30030</td>\n",
              "      <td>33.789815</td>\n",
              "      <td>-84.307511</td>\n",
              "      <td>3.0</td>\n",
              "      <td>115</td>\n",
              "      <td>0</td>\n",
              "      <td>{'GoodForKids': 'True', 'BikeParking': 'False'...</td>\n",
              "      <td>Mexican, Restaurants</td>\n",
              "      <td>{'Monday': '11:0-22:30', 'Tuesday': '11:0-22:3...</td>\n",
              "      <td>Jfc8qYR3uEHIpU0nKzpObg</td>\n",
              "      <td>1</td>\n",
              "      <td>I came to Los Loros in search of the \"strong, ...</td>\n",
              "      <td>2008-09-08 21:34:50</td>\n",
              "      <td>0</td>\n",
              "    </tr>\n",
              "    <tr>\n",
              "      <th>4</th>\n",
              "      <td>D6U1_06gxciRs1NoYjwhKQ</td>\n",
              "      <td>ESPN Club - Temporarily Unavailable</td>\n",
              "      <td>2101 N Epcot Resorts Blvd</td>\n",
              "      <td>Orlando</td>\n",
              "      <td>FL</td>\n",
              "      <td>32836</td>\n",
              "      <td>28.368008</td>\n",
              "      <td>-81.555289</td>\n",
              "      <td>2.5</td>\n",
              "      <td>303</td>\n",
              "      <td>1</td>\n",
              "      <td>{'GoodForKids': 'True', 'Caters': 'False', 'Re...</td>\n",
              "      <td>Hotels, American (New), Event Planning &amp; Servi...</td>\n",
              "      <td>{'Monday': '0:0-0:0', 'Tuesday': '12:0-23:0', ...</td>\n",
              "      <td>Dw_oka5MVWOsaJCncfIXZQ</td>\n",
              "      <td>1</td>\n",
              "      <td>My fries were stale and my cheesesteak was mos...</td>\n",
              "      <td>2018-01-14 01:41:50</td>\n",
              "      <td>0</td>\n",
              "    </tr>\n",
              "  </tbody>\n",
              "</table>\n",
              "</div>\n",
              "      <button class=\"colab-df-convert\" onclick=\"convertToInteractive('df-81906e5b-4273-402b-8ef4-8fec5296a780')\"\n",
              "              title=\"Convert this dataframe to an interactive table.\"\n",
              "              style=\"display:none;\">\n",
              "        \n",
              "  <svg xmlns=\"http://www.w3.org/2000/svg\" height=\"24px\"viewBox=\"0 0 24 24\"\n",
              "       width=\"24px\">\n",
              "    <path d=\"M0 0h24v24H0V0z\" fill=\"none\"/>\n",
              "    <path d=\"M18.56 5.44l.94 2.06.94-2.06 2.06-.94-2.06-.94-.94-2.06-.94 2.06-2.06.94zm-11 1L8.5 8.5l.94-2.06 2.06-.94-2.06-.94L8.5 2.5l-.94 2.06-2.06.94zm10 10l.94 2.06.94-2.06 2.06-.94-2.06-.94-.94-2.06-.94 2.06-2.06.94z\"/><path d=\"M17.41 7.96l-1.37-1.37c-.4-.4-.92-.59-1.43-.59-.52 0-1.04.2-1.43.59L10.3 9.45l-7.72 7.72c-.78.78-.78 2.05 0 2.83L4 21.41c.39.39.9.59 1.41.59.51 0 1.02-.2 1.41-.59l7.78-7.78 2.81-2.81c.8-.78.8-2.07 0-2.86zM5.41 20L4 18.59l7.72-7.72 1.47 1.35L5.41 20z\"/>\n",
              "  </svg>\n",
              "      </button>\n",
              "      \n",
              "  <style>\n",
              "    .colab-df-container {\n",
              "      display:flex;\n",
              "      flex-wrap:wrap;\n",
              "      gap: 12px;\n",
              "    }\n",
              "\n",
              "    .colab-df-convert {\n",
              "      background-color: #E8F0FE;\n",
              "      border: none;\n",
              "      border-radius: 50%;\n",
              "      cursor: pointer;\n",
              "      display: none;\n",
              "      fill: #1967D2;\n",
              "      height: 32px;\n",
              "      padding: 0 0 0 0;\n",
              "      width: 32px;\n",
              "    }\n",
              "\n",
              "    .colab-df-convert:hover {\n",
              "      background-color: #E2EBFA;\n",
              "      box-shadow: 0px 1px 2px rgba(60, 64, 67, 0.3), 0px 1px 3px 1px rgba(60, 64, 67, 0.15);\n",
              "      fill: #174EA6;\n",
              "    }\n",
              "\n",
              "    [theme=dark] .colab-df-convert {\n",
              "      background-color: #3B4455;\n",
              "      fill: #D2E3FC;\n",
              "    }\n",
              "\n",
              "    [theme=dark] .colab-df-convert:hover {\n",
              "      background-color: #434B5C;\n",
              "      box-shadow: 0px 1px 3px 1px rgba(0, 0, 0, 0.15);\n",
              "      filter: drop-shadow(0px 1px 2px rgba(0, 0, 0, 0.3));\n",
              "      fill: #FFFFFF;\n",
              "    }\n",
              "  </style>\n",
              "\n",
              "      <script>\n",
              "        const buttonEl =\n",
              "          document.querySelector('#df-81906e5b-4273-402b-8ef4-8fec5296a780 button.colab-df-convert');\n",
              "        buttonEl.style.display =\n",
              "          google.colab.kernel.accessAllowed ? 'block' : 'none';\n",
              "\n",
              "        async function convertToInteractive(key) {\n",
              "          const element = document.querySelector('#df-81906e5b-4273-402b-8ef4-8fec5296a780');\n",
              "          const dataTable =\n",
              "            await google.colab.kernel.invokeFunction('convertToInteractive',\n",
              "                                                     [key], {});\n",
              "          if (!dataTable) return;\n",
              "\n",
              "          const docLinkHtml = 'Like what you see? Visit the ' +\n",
              "            '<a target=\"_blank\" href=https://colab.research.google.com/notebooks/data_table.ipynb>data table notebook</a>'\n",
              "            + ' to learn more about interactive tables.';\n",
              "          element.innerHTML = '';\n",
              "          dataTable['output_type'] = 'display_data';\n",
              "          await google.colab.output.renderOutput(dataTable, element);\n",
              "          const docLink = document.createElement('div');\n",
              "          docLink.innerHTML = docLinkHtml;\n",
              "          element.appendChild(docLink);\n",
              "        }\n",
              "      </script>\n",
              "    </div>\n",
              "  </div>\n",
              "  "
            ]
          },
          "metadata": {},
          "execution_count": 66
        }
      ]
    },
    {
      "cell_type": "code",
      "source": [
        "trunc = 1000\n",
        "\n",
        "## sampling negative review:\n",
        "reviews_neg = data[data[\"two_star\"] == 0]\n",
        "reviews_neg = reviews_neg.sample(n=trunc)\n",
        "\n",
        "\n",
        "## sampling positive review:\n",
        "reviews_pos = data[data[\"two_star\"] == 1]\n",
        "reviews_pos = reviews_pos.sample(n=trunc)\n",
        "\n",
        "data = reviews_neg.append([reviews_pos])\n",
        "data.shape"
      ],
      "metadata": {
        "colab": {
          "base_uri": "https://localhost:8080/"
        },
        "id": "P8WhM-aI6BNH",
        "outputId": "d96be6f3-1057-4af4-d2ed-7af769a8319c"
      },
      "execution_count": 67,
      "outputs": [
        {
          "output_type": "execute_result",
          "data": {
            "text/plain": [
              "(2000, 19)"
            ]
          },
          "metadata": {},
          "execution_count": 67
        }
      ]
    },
    {
      "cell_type": "code",
      "source": [
        "review = data['text'].values\n",
        "label = data['two_star'].values\n",
        "review_train, review_test, label_train, label_test = train_test_split(review, label, test_size=0.25, random_state=1000)\n",
        "\n",
        "#num_classes = 5\n",
        "#at_label_train = k.utils.to_categorical(label_train, num_classes)\n",
        "#at_label_test = k.utils.to_categorical(label_test, num_classes)\n",
        "\n",
        "\n",
        "from keras.preprocessing.text import Tokenizer\n",
        "tokenizer = Tokenizer(num_words=5000)\n",
        "tokenizer.fit_on_texts(review_train)\n",
        "Xcnn_train = tokenizer.texts_to_sequences(review_train)\n",
        "Xcnn_test = tokenizer.texts_to_sequences(review_test)\n",
        "vocab_size = len(tokenizer.word_index) + 1  \n",
        "\n",
        "\n",
        "from keras.preprocessing.sequence import pad_sequences\n",
        "maxlen = 450\n",
        "Xcnn_train = pad_sequences(Xcnn_train, padding='post', maxlen=maxlen)\n",
        "Xcnn_test = pad_sequences(Xcnn_test, padding='post', maxlen=maxlen)\n",
        "print(Xcnn_train[0, :]) "
      ],
      "metadata": {
        "colab": {
          "base_uri": "https://localhost:8080/"
        },
        "id": "vs5cRA_J6RYA",
        "outputId": "cad0e98b-5add-4748-992a-4cc314c158a9"
      },
      "execution_count": 68,
      "outputs": [
        {
          "output_type": "stream",
          "name": "stdout",
          "text": [
            "[1078 2935  427 1415   13   46    7    1  875  237    4   72    6    4\n",
            "   40 2936 2937  317   51  253  764   61    3   83    2    8    6   41\n",
            "  340   16  480   20    5  606  516  677    2    8    6  225   17   21\n",
            "  985  265    3    6 4365   20    1  530    7    1  317   24   16 2233\n",
            "    4 1503    1  317    2  281   84    5  217    3   78    1  566  787\n",
            "  250    2    8    6   73   33   31   85    1 2937  317    6 1416 4366\n",
            " 1864  726    2   80  385  186   18 1865 2234 2938    3  240    8  146\n",
            "  742   17    3 1417   13   80   88   95 2235    8  127   18   37  136\n",
            "  841  187   15   10    5  540  276    3   23    4   84   80  647  540\n",
            "    2    8    6  287   14  567   44    4  173 2530   20    1  540   64\n",
            "    6    5   73  105 1025   31   85   45   19  277   81 1504    4   58\n",
            "  220   11    1 4367  607    9    1 4368    7 2236  541    3  596   44\n",
            "  254    1 1325  743   65  153    3    6  225   99   74 1253  150    5\n",
            " 1325  743 1866  156  164    5   34    3   62   27  842   31    3  125\n",
            "    4  130   49  352  369   31   85    0    0    0    0    0    0    0\n",
            "    0    0    0    0    0    0    0    0    0    0    0    0    0    0\n",
            "    0    0    0    0    0    0    0    0    0    0    0    0    0    0\n",
            "    0    0    0    0    0    0    0    0    0    0    0    0    0    0\n",
            "    0    0    0    0    0    0    0    0    0    0    0    0    0    0\n",
            "    0    0    0    0    0    0    0    0    0    0    0    0    0    0\n",
            "    0    0    0    0    0    0    0    0    0    0    0    0    0    0\n",
            "    0    0    0    0    0    0    0    0    0    0    0    0    0    0\n",
            "    0    0    0    0    0    0    0    0    0    0    0    0    0    0\n",
            "    0    0    0    0    0    0    0    0    0    0    0    0    0    0\n",
            "    0    0    0    0    0    0    0    0    0    0    0    0    0    0\n",
            "    0    0    0    0    0    0    0    0    0    0    0    0    0    0\n",
            "    0    0    0    0    0    0    0    0    0    0    0    0    0    0\n",
            "    0    0    0    0    0    0    0    0    0    0    0    0    0    0\n",
            "    0    0    0    0    0    0    0    0    0    0    0    0    0    0\n",
            "    0    0    0    0    0    0    0    0    0    0    0    0    0    0\n",
            "    0    0    0    0    0    0    0    0    0    0    0    0    0    0\n",
            "    0    0    0    0    0    0    0    0    0    0    0    0    0    0\n",
            "    0    0]\n"
          ]
        }
      ]
    },
    {
      "cell_type": "code",
      "source": [
        "# create the model\n",
        "embedding_dim = 100\n",
        "model = Sequential()\n",
        "model.add(Embedding(vocab_size,embedding_dim, input_length=maxlen))\n",
        "model.add(Conv1D(filters=128, kernel_size=5, padding='same', activation='relu'))\n",
        "model.add(MaxPooling1D(pool_size=5))\n",
        "model.add(Conv1D(filters=128, kernel_size=5, padding='same', activation='relu'))\n",
        "model.add(MaxPooling1D(pool_size=5))\n",
        "model.add(Conv1D(filters=128, kernel_size=5, padding='same', activation='relu'))\n",
        "model.add(MaxPooling1D(pool_size=5))\n",
        "model.add(LSTM(units=128))\n",
        "model.add(Dense(1,activation='sigmoid'))\n",
        "model.compile(loss='binary_crossentropy',optimizer = 'adam',metrics = ['accuracy'])"
      ],
      "metadata": {
        "id": "0g1olcBf6YvT"
      },
      "execution_count": 69,
      "outputs": []
    },
    {
      "cell_type": "code",
      "source": [
        "import time\n",
        "start = time.time()\n",
        "\n",
        "\n",
        "batch_size = 64\n",
        "X_train1 = Xcnn_train[batch_size:]\n",
        "y_train1 = label_train[batch_size:]\n",
        "X_valid = Xcnn_train[:batch_size]\n",
        "y_valid = label_train[:batch_size]\n",
        "\n",
        "history = model.fit(X_train1, y_train1,epochs=10, validation_data=(X_valid, y_valid),batch_size = batch_size)\n",
        "loss, accuracy = model.evaluate(Xcnn_train, label_train, verbose=False)\n",
        "print(\"Training Accuracy: {:.4f}\".format(accuracy))\n",
        "loss, accuracy = model.evaluate(Xcnn_test, label_test, verbose=False)\n",
        "print(\"Testing Accuracy:  {:.4f}\".format(accuracy))\n",
        "\n",
        "end = time.time()\n",
        "hours, rem = divmod(end-start, 3600)\n",
        "minutes, seconds = divmod(rem, 60)\n",
        "\n",
        "\n",
        "print(\"Execution time: \"+\"{:0>2}:{:0>2}:{:05.2f}\".format(int(hours),int(minutes),seconds))"
      ],
      "metadata": {
        "colab": {
          "base_uri": "https://localhost:8080/"
        },
        "id": "ZAyqzXJF6kHZ",
        "outputId": "11cdd7cd-9dff-4f50-e0bc-0d90270eb805"
      },
      "execution_count": 70,
      "outputs": [
        {
          "output_type": "stream",
          "name": "stdout",
          "text": [
            "Epoch 1/10\n",
            "23/23 [==============================] - 11s 395ms/step - loss: 0.6871 - accuracy: 0.5299 - val_loss: 0.6947 - val_accuracy: 0.5312\n",
            "Epoch 2/10\n",
            "23/23 [==============================] - 9s 371ms/step - loss: 0.6227 - accuracy: 0.6532 - val_loss: 0.6735 - val_accuracy: 0.7031\n",
            "Epoch 3/10\n",
            "23/23 [==============================] - 9s 370ms/step - loss: 0.3675 - accuracy: 0.8510 - val_loss: 0.5258 - val_accuracy: 0.7812\n",
            "Epoch 4/10\n",
            "23/23 [==============================] - 9s 371ms/step - loss: 0.1031 - accuracy: 0.9714 - val_loss: 0.4990 - val_accuracy: 0.7812\n",
            "Epoch 5/10\n",
            "23/23 [==============================] - 9s 369ms/step - loss: 0.0402 - accuracy: 0.9882 - val_loss: 0.6355 - val_accuracy: 0.7969\n",
            "Epoch 6/10\n",
            "23/23 [==============================] - 8s 368ms/step - loss: 0.0487 - accuracy: 0.9840 - val_loss: 0.6044 - val_accuracy: 0.8281\n",
            "Epoch 7/10\n",
            "23/23 [==============================] - 8s 368ms/step - loss: 0.0089 - accuracy: 0.9993 - val_loss: 0.5227 - val_accuracy: 0.8438\n",
            "Epoch 8/10\n",
            "23/23 [==============================] - 8s 369ms/step - loss: 0.0014 - accuracy: 1.0000 - val_loss: 0.6742 - val_accuracy: 0.8594\n",
            "Epoch 9/10\n",
            "23/23 [==============================] - 8s 368ms/step - loss: 5.0376e-04 - accuracy: 1.0000 - val_loss: 0.7892 - val_accuracy: 0.8438\n",
            "Epoch 10/10\n",
            "23/23 [==============================] - 8s 368ms/step - loss: 2.5968e-04 - accuracy: 1.0000 - val_loss: 0.8876 - val_accuracy: 0.8438\n",
            "Training Accuracy: 0.9933\n",
            "Testing Accuracy:  0.8340\n",
            "Execution time: 00:01:31.42\n"
          ]
        }
      ]
    },
    {
      "cell_type": "code",
      "source": [
        "# summarize history for accuracy\n",
        "plt.plot(history.history['accuracy'])\n",
        "plt.plot(history.history['val_accuracy'])\n",
        "plt.title('Model accuracy LSTM')\n",
        "plt.ylabel('accuracy')\n",
        "plt.xlabel('epoch')\n",
        "plt.legend(['train', 'test'], loc='upper left')\n",
        "plt.show()\n",
        "# summarize history for loss\n",
        "plt.plot(history.history['loss'])\n",
        "plt.plot(history.history['val_loss'])\n",
        "plt.title('model loss')\n",
        "plt.ylabel('loss')\n",
        "plt.xlabel('epoch')\n",
        "plt.legend(['train', 'test'], loc='upper left')\n",
        "plt.show()"
      ],
      "metadata": {
        "colab": {
          "base_uri": "https://localhost:8080/",
          "height": 573
        },
        "id": "_pn9gq5U6u8j",
        "outputId": "1e1b6126-2edf-42e1-ebe2-7bbee95ceb68"
      },
      "execution_count": 71,
      "outputs": [
        {
          "output_type": "display_data",
          "data": {
            "text/plain": [
              "<Figure size 432x288 with 1 Axes>"
            ],
            "image/png": "[encoded data removed]"
          },
          "metadata": {
            "needs_background": "light"
          }
        },
        {
          "output_type": "display_data",
          "data": {
            "text/plain": [
              "<Figure size 432x288 with 1 Axes>"
            ],
            "image/png": "[encoded data removed]"
          },
          "metadata": {
            "needs_background": "light"
          }
        }
      ]
    },
    {
      "cell_type": "code",
      "source": [
        ""
      ],
      "metadata": {
        "id": "bqjGp9MR7DBr"
      },
      "execution_count": null,
      "outputs": []
    }
  ]
}